{
  "nbformat": 4,
  "nbformat_minor": 0,
  "metadata": {
    "kernelspec": {
      "display_name": "Python 3",
      "language": "python",
      "name": "python3"
    },
    "language_info": {
      "codemirror_mode": {
        "name": "ipython",
        "version": 3
      },
      "file_extension": ".py",
      "mimetype": "text/x-python",
      "name": "python",
      "nbconvert_exporter": "python",
      "pygments_lexer": "ipython3",
      "version": "3.8.5"
    },
    "colab": {
      "name": "megafon_geo_hw.ipynb",
      "provenance": [],
      "collapsed_sections": []
    }
  },
  "cells": [
    {
      "cell_type": "markdown",
      "metadata": {
        "id": "B85OTGHWLywD"
      },
      "source": [
        "### Задача:\n",
        "\n",
        "Прогноз продаж одной из популярных моделей [фичерфонов](https://ru.wikipedia.org/wiki/%D0%A4%D0%B8%D1%87%D0%B5%D1%80%D1%84%D0%BE%D0%BD) (на картинке ниже пример похожего устройства) в салонах МегаФона\n",
        "![](https://39.img.avito.st/640x480/8468720439.jpg)"
      ]
    },
    {
      "cell_type": "markdown",
      "metadata": {
        "id": "nLJct9gKLywD"
      },
      "source": [
        "### Исходные данные:\n",
        "\n",
        "Датасет содержит следующие поля:\n",
        "\n",
        "1. `point_id` - Индентификатор салона\n",
        "2. `lon` - Долгота точки\n",
        "3. `lat` - Широта точки\n",
        "4. `target` - Значение таргета, усредненное за несколько месяцев и отнормированное"
      ]
    },
    {
      "cell_type": "markdown",
      "metadata": {
        "id": "2tkPkyLqLywD"
      },
      "source": [
        "### Требования к решению и советы:\n",
        "\n",
        "Ниже приведен список из нескольких важных пунктов, необходимых для решения задания. Выполнение каждого из пунктов влияет на итоговую оценку. Вы можете выполнить каждый из пунктов разными способами, самым лучшим будет считаться вариант, когда всё получение и обработка данных будут реализованы на Питоне (пример: вы можете скачать данные из OSM через интерфейс на сайте overpass-turbo или с помощью библиотек `overpass`/`requests`. Оба варианта будут зачтены, но больше баллов можно заработать во втором случае)\n",
        "\n",
        "\n",
        "\n",
        "1. Салоны расположены в нескольких разных городах, вам необходимо **определить город для каждого салона** (это понадобится во многих частях задания). К этому есть разные подходы. Вы можете провести [обратное геокодирование](https://en.wikipedia.org/wiki/Reverse_geocoding) с помощью геокодера [Nominatim](https://nominatim.org/), доступного через библиотеку `geopy` примерно вот так:\n",
        "```python\n",
        "from geopy.geocoders import Nominatim\n",
        "geolocator = Nominatim(user_agent=\"specify_your_app_name_here\")\n",
        "location = geolocator.reverse(\"52.509669, 13.376294\")\n",
        "print(location.address)\n",
        "```\n",
        "В таком случае, вам придется обрабатывать полученную строку адреса, чтобы извлечь название города. Также вы можете скачать из OSM или найти в любом другом источнике границы административно территориальных границ России и пересечь с ними датасет с помощью `geopandas.sjoin` (этот вариант более надежный, но нужно будет разобраться с тем, как устроены границы АТД в OSM, обратите внимание на [этот тег](https://wiki.openstreetmap.org/wiki/Key:admin_level))"
      ]
    },
    {
      "cell_type": "markdown",
      "metadata": {
        "id": "RTN2UsIfLywE"
      },
      "source": [
        "\n",
        "2. **Используйте данные OSM**: подумайте, какие объекты могут влиять на продажи фичерфонов. Гипотеза: такие телефоны покупают люди, приезжающие в город или страну ненадолго, чтобы вставить туда отдельную симкарту для роуминга. Можно попробовать использовать местоположения железнодорожных вокзалов (изучите [этот тег](https://wiki.openstreetmap.org/wiki/Tag:railway%3Dstation)). Необходимо использовать хотя бы 5 разных типов объектов из OSM. Скорее всего, вам придется качать данные OSM отдельно для разных городов (см. пример для Нью-Йорка из лекции)\n",
        "\n",
        "\n",
        "3. **Используйте разные способы генерации признаков**: описать положение салона МегаФона относительно станций метро можно разными способами - найти ***расстояние до ближайшей станции***, или же посчитать, сколько станций попадает в ***500 метровую буферную зону*** вокруг салона. Такие признаки будут нести разную информацию. Так же попробуйте поэкспериментировать с размерами буферных зон (представьте, что значат в реальности радиусы 100, 500, 1000 метров). Попробуйте посчитать расстояние до центра города, до других объектов."
      ]
    },
    {
      "cell_type": "markdown",
      "metadata": {
        "id": "6eX_11ZeLywE"
      },
      "source": [
        "4. **Сделайте визуализации**: постройте 2-3 карты для какого нибудь из городов - как распределен в пространстве таргет, где находятся объекты, полученные вами из OSM. Можете использовать любой инструмент - обычный `plot()`, `folium`, `keplergl`. Если выберете Кеплер, обязательно сохраните в файл конфиг карты, чтобы ее можно было воспроизвести. Сделать это можно вот так:\n",
        "\n",
        "```python\n",
        "import json\n",
        "json_data = kepler_map.config\n",
        "with open('kepler_config.json', 'w') as outfile:\n",
        "    json.dump(json_data, outfile)\n",
        "```\n",
        "5. Задание не ограничено приведенными выше пунктами, попробуйте нагенерировать интересных признаков, найти в интернете дополнительные данные (в таком случае в комментарии к коду укажите ссылку на ресурс, откуда взяли данные)\n",
        "\n",
        "\n",
        "\n",
        "6. Это довольно сложная задача - датасет очень маленький, данные по своей природе довольно случайны. Поэтому место и скор на Kaggle не будут играть решающую роль в оценке, но позволят заработать дополнительные баллы"
      ]
    },
    {
      "cell_type": "code",
      "metadata": {
        "colab": {
          "base_uri": "https://localhost:8080/"
        },
        "id": "PDlSfQUHM704",
        "outputId": "8f6a680d-c851-4e52-b4ec-474a7c66cd7c"
      },
      "source": [
        "!pip install geopandas\n",
        "!pip install overpass"
      ],
      "execution_count": null,
      "outputs": [
        {
          "output_type": "stream",
          "text": [
            "Collecting geopandas\n",
            "\u001b[?25l  Downloading https://files.pythonhosted.org/packages/f7/a4/e66aafbefcbb717813bf3a355c8c4fc3ed04ea1dd7feb2920f2f4f868921/geopandas-0.8.1-py2.py3-none-any.whl (962kB)\n",
            "\u001b[K     |████████████████████████████████| 972kB 4.9MB/s \n",
            "\u001b[?25hRequirement already satisfied: pandas>=0.23.0 in /usr/local/lib/python3.6/dist-packages (from geopandas) (1.1.5)\n",
            "Collecting pyproj>=2.2.0\n",
            "\u001b[?25l  Downloading https://files.pythonhosted.org/packages/e4/ab/280e80a67cfc109d15428c0ec56391fc03a65857b7727cf4e6e6f99a4204/pyproj-3.0.0.post1-cp36-cp36m-manylinux2010_x86_64.whl (6.4MB)\n",
            "\u001b[K     |████████████████████████████████| 6.5MB 19.4MB/s \n",
            "\u001b[?25hRequirement already satisfied: shapely in /usr/local/lib/python3.6/dist-packages (from geopandas) (1.7.1)\n",
            "Collecting fiona\n",
            "\u001b[?25l  Downloading https://files.pythonhosted.org/packages/37/94/4910fd55246c1d963727b03885ead6ef1cd3748a465f7b0239ab25dfc9a3/Fiona-1.8.18-cp36-cp36m-manylinux1_x86_64.whl (14.8MB)\n",
            "\u001b[K     |████████████████████████████████| 14.8MB 306kB/s \n",
            "\u001b[?25hRequirement already satisfied: python-dateutil>=2.7.3 in /usr/local/lib/python3.6/dist-packages (from pandas>=0.23.0->geopandas) (2.8.1)\n",
            "Requirement already satisfied: numpy>=1.15.4 in /usr/local/lib/python3.6/dist-packages (from pandas>=0.23.0->geopandas) (1.19.4)\n",
            "Requirement already satisfied: pytz>=2017.2 in /usr/local/lib/python3.6/dist-packages (from pandas>=0.23.0->geopandas) (2018.9)\n",
            "Requirement already satisfied: certifi in /usr/local/lib/python3.6/dist-packages (from pyproj>=2.2.0->geopandas) (2020.12.5)\n",
            "Requirement already satisfied: six>=1.7 in /usr/local/lib/python3.6/dist-packages (from fiona->geopandas) (1.15.0)\n",
            "Collecting cligj>=0.5\n",
            "  Downloading https://files.pythonhosted.org/packages/42/1e/947eadf10d6804bf276eb8a038bd5307996dceaaa41cfd21b7a15ec62f5d/cligj-0.7.1-py3-none-any.whl\n",
            "Requirement already satisfied: attrs>=17 in /usr/local/lib/python3.6/dist-packages (from fiona->geopandas) (20.3.0)\n",
            "Collecting click-plugins>=1.0\n",
            "  Downloading https://files.pythonhosted.org/packages/e9/da/824b92d9942f4e472702488857914bdd50f73021efea15b4cad9aca8ecef/click_plugins-1.1.1-py2.py3-none-any.whl\n",
            "Collecting munch\n",
            "  Downloading https://files.pythonhosted.org/packages/cc/ab/85d8da5c9a45e072301beb37ad7f833cd344e04c817d97e0cc75681d248f/munch-2.5.0-py2.py3-none-any.whl\n",
            "Requirement already satisfied: click<8,>=4.0 in /usr/local/lib/python3.6/dist-packages (from fiona->geopandas) (7.1.2)\n",
            "Installing collected packages: pyproj, cligj, click-plugins, munch, fiona, geopandas\n",
            "Successfully installed click-plugins-1.1.1 cligj-0.7.1 fiona-1.8.18 geopandas-0.8.1 munch-2.5.0 pyproj-3.0.0.post1\n",
            "Collecting overpass\n",
            "  Downloading https://files.pythonhosted.org/packages/62/4e/7a5aebe8db73394682f13548b9b016c815c7a9d5a38af3211d23c73a44c1/overpass-0.7-py3-none-any.whl\n",
            "Collecting geojson>=1.0.9\n",
            "  Downloading https://files.pythonhosted.org/packages/e4/8d/9e28e9af95739e6d2d2f8d4bef0b3432da40b7c3588fbad4298c1be09e48/geojson-2.5.0-py2.py3-none-any.whl\n",
            "Requirement already satisfied: requests>=2.3.0 in /usr/local/lib/python3.6/dist-packages (from overpass) (2.23.0)\n",
            "Requirement already satisfied: shapely>=1.6.4 in /usr/local/lib/python3.6/dist-packages (from overpass) (1.7.1)\n",
            "Requirement already satisfied: idna<3,>=2.5 in /usr/local/lib/python3.6/dist-packages (from requests>=2.3.0->overpass) (2.10)\n",
            "Requirement already satisfied: certifi>=2017.4.17 in /usr/local/lib/python3.6/dist-packages (from requests>=2.3.0->overpass) (2020.12.5)\n",
            "Requirement already satisfied: chardet<4,>=3.0.2 in /usr/local/lib/python3.6/dist-packages (from requests>=2.3.0->overpass) (3.0.4)\n",
            "Requirement already satisfied: urllib3!=1.25.0,!=1.25.1,<1.26,>=1.21.1 in /usr/local/lib/python3.6/dist-packages (from requests>=2.3.0->overpass) (1.24.3)\n",
            "Installing collected packages: geojson, overpass\n",
            "Successfully installed geojson-2.5.0 overpass-0.7\n"
          ],
          "name": "stdout"
        }
      ]
    },
    {
      "cell_type": "code",
      "metadata": {
        "id": "1k3lu_duLywB"
      },
      "source": [
        "import warnings\n",
        "warnings.filterwarnings('ignore')\n",
        "import json\n",
        "\n",
        "import pandas as pd\n",
        "import numpy as np\n",
        "import geopandas as gpd\n",
        "import overpass\n",
        "from geopy.geocoders import Nominatim\n",
        "from geopy.location import Location\n",
        "from shapely.geometry import Point\n",
        "from geopy import distance\n",
        "\n",
        "import folium\n",
        "from folium.plugins import HeatMap"
      ],
      "execution_count": null,
      "outputs": []
    },
    {
      "cell_type": "code",
      "metadata": {
        "colab": {
          "base_uri": "https://localhost:8080/"
        },
        "id": "xy5AcuzcM2jP",
        "outputId": "fb450ad9-f400-435a-ee44-806b96f9dbff"
      },
      "source": [
        "from google.colab import drive\n",
        "drive.mount('/content/gdrive')\n",
        "DATA_PATH = '/content/gdrive/MyDrive/Colab Notebooks/geo-data'"
      ],
      "execution_count": null,
      "outputs": [
        {
          "output_type": "stream",
          "text": [
            "Drive already mounted at /content/gdrive; to attempt to forcibly remount, call drive.mount(\"/content/gdrive\", force_remount=True).\n"
          ],
          "name": "stdout"
        }
      ]
    },
    {
      "cell_type": "markdown",
      "metadata": {
        "id": "GTLDTyfyLywE"
      },
      "source": [
        "### Read data"
      ]
    },
    {
      "cell_type": "code",
      "metadata": {
        "id": "khzqFqdoLywE"
      },
      "source": [
        "train = pd.read_csv('{}/mf_geo_train.csv'.format(DATA_PATH))\n",
        "test = pd.read_csv('{}/mf_geo_test.csv'.format(DATA_PATH))"
      ],
      "execution_count": null,
      "outputs": []
    },
    {
      "cell_type": "code",
      "metadata": {
        "colab": {
          "base_uri": "https://localhost:8080/",
          "height": 111
        },
        "id": "dKMP1MrrLywE",
        "outputId": "289a2cbe-4240-4a4c-d7f2-eae361a4a781"
      },
      "source": [
        "train.head(2)"
      ],
      "execution_count": null,
      "outputs": [
        {
          "output_type": "execute_result",
          "data": {
            "text/html": [
              "<div>\n",
              "<style scoped>\n",
              "    .dataframe tbody tr th:only-of-type {\n",
              "        vertical-align: middle;\n",
              "    }\n",
              "\n",
              "    .dataframe tbody tr th {\n",
              "        vertical-align: top;\n",
              "    }\n",
              "\n",
              "    .dataframe thead th {\n",
              "        text-align: right;\n",
              "    }\n",
              "</style>\n",
              "<table border=\"1\" class=\"dataframe\">\n",
              "  <thead>\n",
              "    <tr style=\"text-align: right;\">\n",
              "      <th></th>\n",
              "      <th>point_id</th>\n",
              "      <th>lon</th>\n",
              "      <th>lat</th>\n",
              "      <th>target</th>\n",
              "    </tr>\n",
              "  </thead>\n",
              "  <tbody>\n",
              "    <tr>\n",
              "      <th>0</th>\n",
              "      <td>ommNZCUV</td>\n",
              "      <td>37.590776</td>\n",
              "      <td>55.848630</td>\n",
              "      <td>-0.348157</td>\n",
              "    </tr>\n",
              "    <tr>\n",
              "      <th>1</th>\n",
              "      <td>nMe2LHPb</td>\n",
              "      <td>37.784210</td>\n",
              "      <td>55.750271</td>\n",
              "      <td>1.294206</td>\n",
              "    </tr>\n",
              "  </tbody>\n",
              "</table>\n",
              "</div>"
            ],
            "text/plain": [
              "   point_id        lon        lat    target\n",
              "0  ommNZCUV  37.590776  55.848630 -0.348157\n",
              "1  nMe2LHPb  37.784210  55.750271  1.294206"
            ]
          },
          "metadata": {
            "tags": []
          },
          "execution_count": 6
        }
      ]
    },
    {
      "cell_type": "markdown",
      "metadata": {
        "id": "RKSN6zDqdG5b"
      },
      "source": [
        "Код ниже получает по широте и долготе адресс. Из него я беру распарсенную часть адресса и сохраняю его в отдельном файле, чтобы не ждать в следующие разы"
      ]
    },
    {
      "cell_type": "code",
      "metadata": {
        "id": "3scH3FPdUuma"
      },
      "source": [
        "\"\"\"\n",
        "geolocator = Nominatim()\n",
        "locations = []\n",
        "\n",
        "for i in range(train.shape[0]):\n",
        "    locations.append(geolocator.reverse(', '.join([str(train.loc[i]['lat']), str(train.loc[i]['lon'])])))\n",
        "\n",
        "locations_dict = {}\n",
        "for i in range(len(locations)):\n",
        "    locations_dict[i] = locations[i].raw['address']\n",
        "\n",
        "with open('address.txt', 'w') as f:\n",
        "    json.dump(locations_dict, f, ensure_ascii=False)\n",
        "\"\"\""
      ],
      "execution_count": null,
      "outputs": []
    },
    {
      "cell_type": "code",
      "metadata": {
        "colab": {
          "base_uri": "https://localhost:8080/"
        },
        "id": "QMkYRvfvdg0l",
        "outputId": "027c27d4-f26b-48bb-a234-268fef77850c"
      },
      "source": [
        "with open('{}/address.txt'.format(DATA_PATH)) as json_file:\n",
        "    addresses = json.load(json_file)\n",
        "addresses['0']"
      ],
      "execution_count": null,
      "outputs": [
        {
          "output_type": "execute_result",
          "data": {
            "text/plain": [
              "{'administrative': 'Северо-Восточный административный округ',\n",
              " 'city': 'Москва',\n",
              " 'country_code': 'ru',\n",
              " 'house_number': '6А',\n",
              " 'postcode': '127106',\n",
              " 'region': 'Центральный федеральный округ',\n",
              " 'road': 'Сигнальный проезд',\n",
              " 'state': 'Москва',\n",
              " 'suburb': 'район Отрадное'}"
            ]
          },
          "metadata": {
            "tags": []
          },
          "execution_count": 7
        }
      ]
    },
    {
      "cell_type": "code",
      "metadata": {
        "colab": {
          "base_uri": "https://localhost:8080/",
          "height": 235
        },
        "id": "AVfODcdwg-zH",
        "outputId": "294a9401-4006-46fb-a507-165ad26dfc48"
      },
      "source": [
        "from sklearn import preprocessing\n",
        "le = preprocessing.LabelEncoder()\n",
        "\n",
        "data = pd.DataFrame()\n",
        "data[\"point_id\"] = train[\"point_id\"]\n",
        "data['point_le'] = le.fit_transform(train[\"point_id\"])\n",
        "data[\"lon\"] = train[\"lon\"]\n",
        "data[\"lat\"] = train[\"lat\"]\n",
        "\n",
        "data['city'] = np.array(['' for i in range(data.shape[0])])\n",
        "for i in range(data.shape[0]):\n",
        "    data['city'][i] = addresses[str(i)]['state']\n",
        "data.head(6)"
      ],
      "execution_count": null,
      "outputs": [
        {
          "output_type": "execute_result",
          "data": {
            "text/html": [
              "<div>\n",
              "<style scoped>\n",
              "    .dataframe tbody tr th:only-of-type {\n",
              "        vertical-align: middle;\n",
              "    }\n",
              "\n",
              "    .dataframe tbody tr th {\n",
              "        vertical-align: top;\n",
              "    }\n",
              "\n",
              "    .dataframe thead th {\n",
              "        text-align: right;\n",
              "    }\n",
              "</style>\n",
              "<table border=\"1\" class=\"dataframe\">\n",
              "  <thead>\n",
              "    <tr style=\"text-align: right;\">\n",
              "      <th></th>\n",
              "      <th>point_id</th>\n",
              "      <th>point_le</th>\n",
              "      <th>lon</th>\n",
              "      <th>lat</th>\n",
              "      <th>city</th>\n",
              "    </tr>\n",
              "  </thead>\n",
              "  <tbody>\n",
              "    <tr>\n",
              "      <th>0</th>\n",
              "      <td>ommNZCUV</td>\n",
              "      <td>346</td>\n",
              "      <td>37.590776</td>\n",
              "      <td>55.848630</td>\n",
              "      <td>Москва</td>\n",
              "    </tr>\n",
              "    <tr>\n",
              "      <th>1</th>\n",
              "      <td>nMe2LHPb</td>\n",
              "      <td>331</td>\n",
              "      <td>37.784210</td>\n",
              "      <td>55.750271</td>\n",
              "      <td>Москва</td>\n",
              "    </tr>\n",
              "    <tr>\n",
              "      <th>2</th>\n",
              "      <td>ZgodVRqB</td>\n",
              "      <td>236</td>\n",
              "      <td>39.635721</td>\n",
              "      <td>47.213330</td>\n",
              "      <td>Ростовская область</td>\n",
              "    </tr>\n",
              "    <tr>\n",
              "      <th>3</th>\n",
              "      <td>0t2jNYdz</td>\n",
              "      <td>2</td>\n",
              "      <td>37.704570</td>\n",
              "      <td>55.782020</td>\n",
              "      <td>Москва</td>\n",
              "    </tr>\n",
              "    <tr>\n",
              "      <th>4</th>\n",
              "      <td>U27W4QJ7</td>\n",
              "      <td>193</td>\n",
              "      <td>37.643983</td>\n",
              "      <td>55.730188</td>\n",
              "      <td>Москва</td>\n",
              "    </tr>\n",
              "    <tr>\n",
              "      <th>5</th>\n",
              "      <td>ci9r9Fr2</td>\n",
              "      <td>259</td>\n",
              "      <td>92.926002</td>\n",
              "      <td>56.065908</td>\n",
              "      <td>Красноярский край</td>\n",
              "    </tr>\n",
              "  </tbody>\n",
              "</table>\n",
              "</div>"
            ],
            "text/plain": [
              "   point_id  point_le        lon        lat                city\n",
              "0  ommNZCUV       346  37.590776  55.848630              Москва\n",
              "1  nMe2LHPb       331  37.784210  55.750271              Москва\n",
              "2  ZgodVRqB       236  39.635721  47.213330  Ростовская область\n",
              "3  0t2jNYdz         2  37.704570  55.782020              Москва\n",
              "4  U27W4QJ7       193  37.643983  55.730188              Москва\n",
              "5  ci9r9Fr2       259  92.926002  56.065908   Красноярский край"
            ]
          },
          "metadata": {
            "tags": []
          },
          "execution_count": 8
        }
      ]
    },
    {
      "cell_type": "code",
      "metadata": {
        "colab": {
          "base_uri": "https://localhost:8080/"
        },
        "id": "wRjb91Y8iVIi",
        "outputId": "699be5a7-d9cf-4363-b715-f2378ba371ec"
      },
      "source": [
        "data['city'].value_counts()"
      ],
      "execution_count": null,
      "outputs": [
        {
          "output_type": "execute_result",
          "data": {
            "text/plain": [
              "Москва                   160\n",
              "Санкт-Петербург           83\n",
              "Самарская область         27\n",
              "Новосибирская область     26\n",
              "Татарстан                 25\n",
              "Свердловская область      22\n",
              "Ростовская область        21\n",
              "Нижегородская область     21\n",
              "Красноярский край         20\n",
              "Башкортостан              19\n",
              "Московская область         1\n",
              "Name: city, dtype: int64"
            ]
          },
          "metadata": {
            "tags": []
          },
          "execution_count": 9
        }
      ]
    },
    {
      "cell_type": "code",
      "metadata": {
        "id": "Tr122pq_djOP"
      },
      "source": [
        "def get_stations(data, delta):\n",
        "  api = overpass.API(endpoint=\"https://lz4.overpass-api.de/api/interpreter\")\n",
        "  response = api.get('node[\"railway\"=\"station\"]({s},{w},{n},{e});out;'.format(s=data['lat'].min()-delta,\n",
        "                                                                              w=data['lon'].min()-delta,\n",
        "                                                                              n=data['lat'].max()+delta,\n",
        "                                                                              e=data['lon'].max()+delta))\n",
        "  return response"
      ],
      "execution_count": null,
      "outputs": []
    },
    {
      "cell_type": "code",
      "metadata": {
        "id": "GWTVzYllzbaK",
        "colab": {
          "base_uri": "https://localhost:8080/",
          "height": 952
        },
        "outputId": "2662918f-5562-4189-d094-3cb5cb26ce33"
      },
      "source": [
        "def get_heat_map(data, city):\n",
        "  data = data.loc[np.where(data['city'] == city)[0]]\n",
        "  m = folium.Map(location=[data['lat'].mean(), data['lon'].mean()], zoom_start=10, tiles='cartodbpositron')\n",
        "  heat_data = [[row['lat'],row['lon']] for index, row in data.iterrows()]\n",
        "  HeatMap(heat_data, radius=10, gradient={0.4: 'blue', 0.65: '#008080', 1: 'lime'}, blur=5).add_to(m)\n",
        "\n",
        "  response = get_stations(data, 0.1)\n",
        "  response = response['features'][:int(len(response['features'])/2)]\n",
        "  subway_coords = []\n",
        "  for i in range(len(response)):\n",
        "    lon = response[i]['geometry']['coordinates'][0]\n",
        "    lat = response[i]['geometry']['coordinates'][1]\n",
        "    subway_coords.append([lat, lon])\n",
        "  HeatMap(subway_coords, radius=5, gradient={0.4: 'red', 0.65: '#8B0000', 1: 'black'}, blur=5).add_to(m)\n",
        "\n",
        "  return m\n",
        "\n",
        "get_heat_map(data, 'Москва')"
      ],
      "execution_count": null,
      "outputs": [
        {
          "output_type": "execute_result",
          "data": {
            "text/html": [
              "<div style=\"width:100%;\"><div style=\"position:relative;width:100%;height:0;padding-bottom:60%;\"><span style=\"color:#565656\">Make this Notebook Trusted to load map: File -> Trust Notebook</span><iframe src=\"about:blank\" style=\"position:absolute;width:100%;height:100%;left:0;top:0;border:none !important;\" data-html=PCFET0NUWVBFIGh0bWw+CjxoZWFkPiAgICAKICAgIDxtZXRhIGh0dHAtZXF1aXY9ImNvbnRlbnQtdHlwZSIgY29udGVudD0idGV4dC9odG1sOyBjaGFyc2V0PVVURi04IiAvPgogICAgPHNjcmlwdD5MX1BSRUZFUl9DQU5WQVM9ZmFsc2U7IExfTk9fVE9VQ0g9ZmFsc2U7IExfRElTQUJMRV8zRD1mYWxzZTs8L3NjcmlwdD4KICAgIDxzY3JpcHQgc3JjPSJodHRwczovL2Nkbi5qc2RlbGl2ci5uZXQvbnBtL2xlYWZsZXRAMS40LjAvZGlzdC9sZWFmbGV0LmpzIj48L3NjcmlwdD4KICAgIDxzY3JpcHQgc3JjPSJodHRwczovL2NvZGUuanF1ZXJ5LmNvbS9qcXVlcnktMS4xMi40Lm1pbi5qcyI+PC9zY3JpcHQ+CiAgICA8c2NyaXB0IHNyYz0iaHR0cHM6Ly9tYXhjZG4uYm9vdHN0cmFwY2RuLmNvbS9ib290c3RyYXAvMy4yLjAvanMvYm9vdHN0cmFwLm1pbi5qcyI+PC9zY3JpcHQ+CiAgICA8c2NyaXB0IHNyYz0iaHR0cHM6Ly9jZG5qcy5jbG91ZGZsYXJlLmNvbS9hamF4L2xpYnMvTGVhZmxldC5hd2Vzb21lLW1hcmtlcnMvMi4wLjIvbGVhZmxldC5hd2Vzb21lLW1hcmtlcnMuanMiPjwvc2NyaXB0PgogICAgPGxpbmsgcmVsPSJzdHlsZXNoZWV0IiBocmVmPSJodHRwczovL2Nkbi5qc2RlbGl2ci5uZXQvbnBtL2xlYWZsZXRAMS40LjAvZGlzdC9sZWFmbGV0LmNzcyIvPgogICAgPGxpbmsgcmVsPSJzdHlsZXNoZWV0IiBocmVmPSJodHRwczovL21heGNkbi5ib290c3RyYXBjZG4uY29tL2Jvb3RzdHJhcC8zLjIuMC9jc3MvYm9vdHN0cmFwLm1pbi5jc3MiLz4KICAgIDxsaW5rIHJlbD0ic3R5bGVzaGVldCIgaHJlZj0iaHR0cHM6Ly9tYXhjZG4uYm9vdHN0cmFwY2RuLmNvbS9ib290c3RyYXAvMy4yLjAvY3NzL2Jvb3RzdHJhcC10aGVtZS5taW4uY3NzIi8+CiAgICA8bGluayByZWw9InN0eWxlc2hlZXQiIGhyZWY9Imh0dHBzOi8vbWF4Y2RuLmJvb3RzdHJhcGNkbi5jb20vZm9udC1hd2Vzb21lLzQuNi4zL2Nzcy9mb250LWF3ZXNvbWUubWluLmNzcyIvPgogICAgPGxpbmsgcmVsPSJzdHlsZXNoZWV0IiBocmVmPSJodHRwczovL2NkbmpzLmNsb3VkZmxhcmUuY29tL2FqYXgvbGlicy9MZWFmbGV0LmF3ZXNvbWUtbWFya2Vycy8yLjAuMi9sZWFmbGV0LmF3ZXNvbWUtbWFya2Vycy5jc3MiLz4KICAgIDxsaW5rIHJlbD0ic3R5bGVzaGVldCIgaHJlZj0iaHR0cHM6Ly9yYXdjZG4uZ2l0aGFjay5jb20vcHl0aG9uLXZpc3VhbGl6YXRpb24vZm9saXVtL21hc3Rlci9mb2xpdW0vdGVtcGxhdGVzL2xlYWZsZXQuYXdlc29tZS5yb3RhdGUuY3NzIi8+CiAgICA8c3R5bGU+aHRtbCwgYm9keSB7d2lkdGg6IDEwMCU7aGVpZ2h0OiAxMDAlO21hcmdpbjogMDtwYWRkaW5nOiAwO308L3N0eWxlPgogICAgPHN0eWxlPiNtYXAge3Bvc2l0aW9uOmFic29sdXRlO3RvcDowO2JvdHRvbTowO3JpZ2h0OjA7bGVmdDowO308L3N0eWxlPgogICAgCiAgICA8bWV0YSBuYW1lPSJ2aWV3cG9ydCIgY29udGVudD0id2lkdGg9ZGV2aWNlLXdpZHRoLAogICAgICAgIGluaXRpYWwtc2NhbGU9MS4wLCBtYXhpbXVtLXNjYWxlPTEuMCwgdXNlci1zY2FsYWJsZT1ubyIgLz4KICAgIDxzdHlsZT4jbWFwXzEwZWMxMDQ1N2Y1ODQ5OGQ4OTNmMzM1ZWM0NzA2YmNkIHsKICAgICAgICBwb3NpdGlvbjogcmVsYXRpdmU7CiAgICAgICAgd2lkdGg6IDEwMC4wJTsKICAgICAgICBoZWlnaHQ6IDEwMC4wJTsKICAgICAgICBsZWZ0OiAwLjAlOwogICAgICAgIHRvcDogMC4wJTsKICAgICAgICB9CiAgICA8L3N0eWxlPgogICAgPHNjcmlwdCBzcmM9Imh0dHBzOi8vbGVhZmxldC5naXRodWIuaW8vTGVhZmxldC5oZWF0L2Rpc3QvbGVhZmxldC1oZWF0LmpzIj48L3NjcmlwdD4KPC9oZWFkPgo8Ym9keT4gICAgCiAgICAKICAgIDxkaXYgY2xhc3M9ImZvbGl1bS1tYXAiIGlkPSJtYXBfMTBlYzEwNDU3ZjU4NDk4ZDg5M2YzMzVlYzQ3MDZiY2QiID48L2Rpdj4KPC9ib2R5Pgo8c2NyaXB0PiAgICAKICAgIAogICAgCiAgICAgICAgdmFyIGJvdW5kcyA9IG51bGw7CiAgICAKCiAgICB2YXIgbWFwXzEwZWMxMDQ1N2Y1ODQ5OGQ4OTNmMzM1ZWM0NzA2YmNkID0gTC5tYXAoCiAgICAgICAgJ21hcF8xMGVjMTA0NTdmNTg0OThkODkzZjMzNWVjNDcwNmJjZCcsIHsKICAgICAgICBjZW50ZXI6IFs1NS43NDA1NTA2NTAwMDAwMjQsIDM3LjU5NzIxNjQ3NTAwMDAxXSwKICAgICAgICB6b29tOiAxMCwKICAgICAgICBtYXhCb3VuZHM6IGJvdW5kcywKICAgICAgICBsYXllcnM6IFtdLAogICAgICAgIHdvcmxkQ29weUp1bXA6IGZhbHNlLAogICAgICAgIGNyczogTC5DUlMuRVBTRzM4NTcsCiAgICAgICAgem9vbUNvbnRyb2w6IHRydWUsCiAgICAgICAgfSk7CgoKICAgIAogICAgdmFyIHRpbGVfbGF5ZXJfMzMyMTI0Mjg4YTcxNDRkMGI2NmE4MzQ0ZTY4MDUwNzMgPSBMLnRpbGVMYXllcigKICAgICAgICAnaHR0cHM6Ly9jYXJ0b2RiLWJhc2VtYXBzLXtzfS5nbG9iYWwuc3NsLmZhc3RseS5uZXQvbGlnaHRfYWxsL3t6fS97eH0ve3l9LnBuZycsCiAgICAgICAgewogICAgICAgICJhdHRyaWJ1dGlvbiI6IG51bGwsCiAgICAgICAgImRldGVjdFJldGluYSI6IGZhbHNlLAogICAgICAgICJtYXhOYXRpdmVab29tIjogMTgsCiAgICAgICAgIm1heFpvb20iOiAxOCwKICAgICAgICAibWluWm9vbSI6IDAsCiAgICAgICAgIm5vV3JhcCI6IGZhbHNlLAogICAgICAgICJvcGFjaXR5IjogMSwKICAgICAgICAic3ViZG9tYWlucyI6ICJhYmMiLAogICAgICAgICJ0bXMiOiBmYWxzZQp9KS5hZGRUbyhtYXBfMTBlYzEwNDU3ZjU4NDk4ZDg5M2YzMzVlYzQ3MDZiY2QpOwogICAgCiAgICAgICAgICAgIHZhciBoZWF0X21hcF9hMWEyY2U2NmNmZjQ0MWY4YTI2OTIxMTBlNjZmZTI3ZiA9IEwuaGVhdExheWVyKAogICAgICAgICAgICAgICAgW1s1NS44NDg2MzAwMDAwMDAwMSwgMzcuNTkwNzc2XSwgWzU1Ljc1MDI3MSwgMzcuNzg0MjFdLCBbNTUuNzgyMDIsIDM3LjcwNDU3XSwgWzU1LjczMDE4OCwgMzcuNjQzOTgzXSwgWzU1Ljg1MDUxMSwgMzcuNDQ0MzA0XSwgWzU1LjY2NDcwNTAwMDAwMDAxLCAzNy40MzcxOTFdLCBbNTUuNzkzNDI3LCAzNy43OTk3ODZdLCBbNTUuODEwMjQsIDM3LjQwNDc4XSwgWzU1LjcwNjYwOCwgMzcuNzMwNDQ5XSwgWzU1Ljg1MDk5NSwgMzcuNTk3NDE0XSwgWzU1LjcyNDEyNCwgMzcuODI1MTU1XSwgWzU1Ljc1OTYwMSwgMzcuNjI4NTA4XSwgWzU1LjY4Mzc0NCwgMzcuNDkxMDQ2XSwgWzU1LjU4MzAzMjk5OTk5OTk5LCAzNy41OTUyNzhdLCBbNTUuOTA4NjIzLCAzNy41Mzg3NjUwMDAwMDAwMV0sIFs1NS42OTE2OTgsIDM3LjUzNTYzN10sIFs1NS44NDUyMDMwMDAwMDAwMSwgMzcuNjU5NzM5XSwgWzU1Ljc1Nzg0LCAzNy40MDY3N10sIFs1NS44NDM5NDEsIDM3LjY2MDA4N10sIFs1NS44MjYzNzcsIDM3LjQzNjI0N10sIFs1NS44MDc0NTYwMDAwMDAwMSwgMzcuNjM3Njg3XSwgWzU1LjgxNTQyNSwgMzcuNzM4MV0sIFs1NS42MDk4MzksIDM3LjYwMzM5NF0sIFs1NS44NDk0MjMsIDM3LjQzODk4N10sIFs1NS44MjQwMDUwMDAwMDAwMSwgMzcuNjM0NDM0MDAwMDAwMDFdLCBbNTUuNzA0MTM0LCAzNy43NjU3NThdLCBbNTUuNjgxMzQ2LCAzNy42MjE2Nl0sIFs1NS43NzI5MywgMzcuNjc5OTY4XSwgWzU1LjY5MTczNCwgMzcuNzI4MTY0XSwgWzU1LjY1MzI1NSwgMzcuNjQ2Mzc1XSwgWzU1LjgzOTk4OCwgMzcuNDg2MjI3XSwgWzU1LjgzOTU2NSwgMzcuNDkzMDY2XSwgWzU1LjU4Mzk1MywgMzcuNTk5MTQ4XSwgWzU1Ljc4OTM5NCwgMzcuNjc4MTQxXSwgWzU1Ljg1NjM1MSwgMzcuNjUzMzM0XSwgWzU1Ljc1MjA5NywgMzcuNTkzNzI1XSwgWzU1Ljc3Njg1OSwgMzcuNjU5MzcxXSwgWzU1LjY0NDY2MSwgMzcuMzY2MjA3XSwgWzU1LjgwNzU0MjAwMDAwMDAxLCAzNy41Nzk1MjldLCBbNTUuODA1ODAzLCAzNy41MTUxMDNdLCBbNTUuNzgyNTYzLCAzNy43MjMwNjddLCBbNTUuODA5NTEsIDM3LjQ2NDQ1XSwgWzU1LjgzODAyOCwgMzcuNTc2ODI0XSwgWzU1LjUyNDQzNywgMzcuNTE3NzYxXSwgWzU1LjY0MzY2ODAwMDAwMDAxLCAzNy41MjUxMjcwMDAwMDAwMV0sIFs1NS43NjY3MTIsIDM3LjM4MDczXSwgWzU1LjcyNjg3NywgMzcuNjI1NzkyXSwgWzU1Ljc1OTMwNCwgMzcuNzk1MzQ5XSwgWzU1Ljc0OTIwNSwgMzcuNTg5NzA2XSwgWzU1LjYxMTcwMzAwMDAwMDAxLCAzNy42MDE3MTldLCBbNTUuNjQ3MDUzLCAzNy40MTE3Ml0sIFs1NS43ODg1Njk5OTk5OTk5OSwgMzcuNjc4OTJdLCBbNTUuNzI3OTA1MDAwMDAwMDEsIDM3LjQ3NDc5OV0sIFs1NS42ODk2NjIsIDM3LjYwMjQxOF0sIFs1NS40ODU3NTgsIDM3LjMwNTg1N10sIFs1NS43Mjk2MSwgMzcuNjExMTRdLCBbNTUuNzkzNzg1LCAzNy40OTIyNzJdLCBbNTUuNjc3MDE0LCAzNy43NjUyODJdLCBbNTUuNjQwNDk4LCAzNy42MDgzNzZdLCBbNTUuNTk0NjUxLCAzNy41OTkyMjRdLCBbNTUuODE5MzMxMDAwMDAwMDEsIDM3LjU3NzM2Nl0sIFs1NS44NjQ4NDksIDM3LjYwNTEyMl0sIFs1NS43ODgxMjUsIDM3Ljc0OTMzN10sIFs1NS44MDM0Njg5OTk5OTk5OSwgMzcuNjE4ODQ4XSwgWzU1Ljg1NDkzMywgMzcuNDc4MTMyXSwgWzU1LjY2MzIwMSwgMzcuNDgxMzcxXSwgWzU1LjYzNjgyMSwgMzcuNjU2MzkzXSwgWzU1Ljc2NTgyOSwgMzcuNjAyODkxXSwgWzU1LjcwNTkwNywgMzcuNzY3MzQ5XSwgWzU1Ljk4MTg1MiwgMzcuMTc0NzY2XSwgWzU1LjcwNDk3NCwgMzcuNjQyMTQxXSwgWzU1Ljc0NzQyNCwgMzcuNzA3MDhdLCBbNTUuNzUxMDQzLCAzNy43ODM3NzgwMDAwMDAwMV0sIFs1NS44MjI0OTMwMDAwMDAwMSwgMzcuODIzMzU4XSwgWzU1LjU0Nzg0NSwgMzcuNTQzMjQ2XSwgWzU1Ljg4MzI4OCwgMzcuNjA1MDI5XSwgWzU1Ljc0MzUyNywgMzcuODY2MzA3XSwgWzU1LjY3NDUzLCAzNy43NjAyODldLCBbNTUuODA5MTMyLCAzNy43OTkwODRdLCBbNTUuNzQzNjQ5LCAzNy41MDgxMjJdLCBbNTUuNjU4NzUsIDM3LjQyOTddLCBbNTUuNzYxNTQ0LCAzNy42MjM4MjVdLCBbNTUuNzgwMjAzLCAzNy42MzM5NDldLCBbNTUuNTAzODM4LCAzNy41NzE1NjFdLCBbNTUuODQ3NTcyLCAzNy4zNjAxNjldLCBbNTUuODYzNzUyMDAwMDAwMDEsIDM3LjU0NDY2NV0sIFs1NS43MjkzMzEwMDAwMDAwMSwgMzcuNjIyNjEyXSwgWzU1LjcxMDUzNSwgMzcuNjc1MDk4XSwgWzU1LjYxMjcyNiwgMzcuNzE5ODk5XSwgWzU1LjY4NDQzMiwgMzcuNjIyMDIyXSwgWzU1LjYzODk0NDk5OTk5OTk5LCAzNy43NTkxMjZdLCBbNTUuNzQ0MzQsIDM3LjU2MzY3XSwgWzU1LjcwNzM5NCwgMzcuNTkxNDg0XSwgWzU1LjU2NzE5Mzk5OTk5OTk5LCAzNy41NzI5ODldLCBbNTUuNjU1OTY2MDAwMDAwMDEsIDM3LjU0MTQ0N10sIFs1NS43NDQ1NjYwMDAwMDAwMDYsIDM3LjUxNDUwOV0sIFs1NS42MjI2MDQsIDM3LjYwNTkzXSwgWzU1LjY3ODQxNjAwMDAwMDAxLCAzNy41NjQxODRdLCBbNTUuODAyMjkyLCAzNy43NDM4MV0sIFs1NS42NDc1MDQwMDAwMDAwMSwgMzcuNTk1NTU1XSwgWzU1LjY5MzMwNywgMzcuNTM0MDI4XSwgWzU1Ljc2MzQzNSwgMzcuNjA2NjA2XSwgWzU1LjY5NzQ1OSwgMzcuNTAwMDU3XSwgWzU1Ljk4MjY3OCwgMzcuMTc0ODExXSwgWzU1LjQ4NTMwNjAwMDAwMDAxLCAzNy41NjQyNzVdLCBbNTUuNjc3NTg5MDAwMDAwMDEsIDM3LjY2NDk2NDAwMDAwMDAxXSwgWzU1LjcyNDA3NCwgMzcuNjA5Mzk4XSwgWzU1Ljg2MjgyNywgMzcuNDM0OTYxXSwgWzU1Ljg5MDQ4NywgMzcuNTM5MTI0XSwgWzU1LjYyMTQwNDAwMDAwMDAxLCAzNy43MzgzODJdLCBbNTUuNjUwNjkxLCAzNy43NDMxODddLCBbNTUuNjY0NzYzLCAzNy42MjY3NDRdLCBbNTUuNzA1MjAyLCAzNy40Nzg5NjddLCBbNTUuNTY5ODQ2LCAzNy41NzkwNDRdLCBbNTUuODIwMTgxMDAwMDAwMDEsIDM3LjQ5OTQ1XSwgWzU1Ljg5OTI1MiwgMzcuNTg4ODg1XSwgWzU1Ljc0NDM4MSwgMzcuNTY2MTM2XSwgWzU1LjYwMzkxMiwgMzcuNDkyNDcxXSwgWzU1LjgzOTQ4NCwgMzcuNDg2MjM4XSwgWzU1Ljg5NzYxLCAzNy41NTI5MzNdLCBbNTUuNzU0Mjg3LCAzNy42MzY2NTRdLCBbNTYuMDA4NjE1LCAzNy4xOTk5MjZdLCBbNTUuNzkwODgyLCAzNy41MjkzNDddLCBbNTUuNjY0MjU2OTk5OTk5OTksIDM3LjQ2OTMxM10sIFs1NS44ODc5MDIsIDM3LjY2MDg1M10sIFs1NS43OTI5ODksIDM3LjQ5MzY1XSwgWzU1Ljc3ODM4MDAwMDAwMDAxLCAzNy41MTY0NF0sIFs1NS43NTQ2NzQsIDM3LjYyMTU0M10sIFs1NS42MTE3OTUsIDM3LjYwNjMzMV0sIFs1NS43MDk3OTgsIDM3LjczNDQ2OF0sIFs1NS41OTYzMzUsIDM3LjYwMjg4NV0sIFs1NS42ODQ1MDMsIDM3LjYyMTk0N10sIFs1NS43MzE4NjUsIDM3LjY2NDE0N10sIFs1NS42MTY5ODEsIDM3LjUwODcxNV0sIFs1NS42OTIxOTM5OTk5OTk5OSwgMzcuNTI3OTQyXSwgWzU1LjgxNDU3OCwgMzcuNzMyODI2XSwgWzU1LjU0NzAzNiwgMzcuNTQzMjM3XSwgWzU1LjczMTIxMiwgMzcuNjM1MzFdLCBbNTUuODY1MDI1LCAzNy42MDM4MjJdLCBbNTUuODE5MDM0LCAzNy41NzYzNjddLCBbNTUuNzU4ODE5LCAzNy43NTE5N10sIFs1NS43NTI2ODMsIDM3LjgxODI4M10sIFs1NS42NTk2NDcsIDM3Ljc0OTY2MV0sIFs1NS43MzYyMiwgMzcuNTkwOTg2XSwgWzU1Ljg5ODc2OCwgMzcuNjI5NTc5XSwgWzU1LjczNDA0LCAzNy42MTg5NDddLCBbNTUuNzI5ODMzLCAzNy43MzEwMjEwMDAwMDAwMV0sIFs1NS42NzU1MTEsIDM3LjUwNTk0OF0sIFs1NS43OTM2ODEwMDAwMDAwMSwgMzcuNTkwNjE4XSwgWzU1LjgwMTkxMiwgMzcuNTMxOTY4XSwgWzU1Ljc1NTI0LCAzNy42NjAxODNdLCBbNTUuNzE3ODQ3LCAzNy42ODE0NzNdLCBbNTUuODU1NzgsIDM3LjQ3NzM4MV0sIFs1NS42MTMyMTYsIDM3Ljc0Mzg2OF0sIFs1NS44NzAxMDIsIDM3LjY2NDI2N10sIFs1NS43NDA2NjQsIDM3LjYyODc2NV0sIFs1NS43OTQyMzMsIDM3LjU4NjgyNV0sIFs1NS43NzI5MSwgMzcuNjc4NzldLCBbNTUuNjE5NjQsIDM3Ljc1MjEzXSwgWzU1Ljc4Mjk1LCAzNy43MDU3N11dLAogICAgICAgICAgICAgICAgewogICAgICAgICAgICAgICAgICAgIG1pbk9wYWNpdHk6IDAuNSwKICAgICAgICAgICAgICAgICAgICBtYXhab29tOiAxOCwKICAgICAgICAgICAgICAgICAgICBtYXg6IDEuMCwKICAgICAgICAgICAgICAgICAgICByYWRpdXM6IDEwLAogICAgICAgICAgICAgICAgICAgIGJsdXI6IDUsCiAgICAgICAgICAgICAgICAgICAgZ3JhZGllbnQ6IHsiMC40IjogImJsdWUiLCAiMC42NSI6ICIjMDA4MDgwIiwgIjEiOiAibGltZSJ9CiAgICAgICAgICAgICAgICAgICAgfSkKICAgICAgICAgICAgICAgIC5hZGRUbyhtYXBfMTBlYzEwNDU3ZjU4NDk4ZDg5M2YzMzVlYzQ3MDZiY2QpOwogICAgICAgIAogICAgCiAgICAgICAgICAgIHZhciBoZWF0X21hcF80Njk4ZWE5MWJjMjM0N2NlOTE3ZDY1ZDg5MTQ4ODEzNiA9IEwuaGVhdExheWVyKAogICAgICAgICAgICAgICAgW1s1NS43Nzg4MzQsIDM3LjY1MzcyMV0sIFs1NS45NDk2NTMsIDM3LjI5OTAwMV0sIFs1NS43MjY4NjgsIDM3LjQ0OTg4NV0sIFs1NS44ODcxNzcsIDM3LjY2MTU1XSwgWzU1Ljg2OTYyNSwgMzcuNjY0MTg0XSwgWzU1Ljc1Nzc3NCwgMzcuNjYyMTg0XSwgWzU1Ljc4ODUzMywgMzcuNzUxMDAxXSwgWzU1Ljc4MzMwNywgMzcuNzIxMzYxXSwgWzU1Ljc3NDI0OCwgMzcuNjU5OTE0XSwgWzU2LjAxMzUxMSwgMzcuNDg0ODYxXSwgWzU1Ljc5MzI3LCAzNy42MzIxMzJdLCBbNTUuNDE1MTQ5LCAzNy44OTY4MjldLCBbNTUuNzM5NDU3LCAzNy40ODM0MjNdLCBbNTUuNzQzNjk1LCAzNy40OTc4NDRdLCBbNTUuNzQ2MSwgMzcuNTE0ODg4XSwgWzU1Ljc0MDAyOSwgMzcuNTM0MzgzXSwgWzU1LjczODgzNiwgMzcuNTQ4MzY3XSwgWzU1Ljc4MTcwNiwgMzcuNzAzODA1XSwgWzU1Ljc3MzA3NCwgMzcuNjgwNTgzXSwgWzU1Ljc1NjY2LCAzNy42MjE4NjRdLCBbNTUuNzUyMTAzLCAzNy42MDY5NF0sIFs1NS43NDA3NzcsIDM3LjQxNjgwNF0sIFs1NS43MzU5MzEsIDM3LjQ2NzE5NV0sIFs1NS43NjA3NzEsIDM3LjYyNjE4N10sIFs1NS43NDA0NjUsIDM3LjY1MTldLCBbNTUuNzMxODY1LCAzNy42NjU4NzldLCBbNTUuNzI1MjYyLCAzNy42ODY4Ml0sIFs1NS43MDg4NDYsIDM3LjczMTUwOV0sIFs1NS43MDU2MDIsIDM3Ljc2NTc4NF0sIFs1NS43MTU2NDQsIDM3LjgxNzkyM10sIFs1NS43MTcxMjYsIDM3Ljc5MzQzNl0sIFs1NS43NTE4NjUsIDM3LjYwMDc1Ml0sIFs1NS43NTAwODcsIDM3LjU0MTM2N10sIFs1NS43NTI0MDMsIDM3LjYwODY4M10sIFs1NS43Mjk0NjQsIDM3LjIxMjkyNF0sIFs1NS43NDM3MDgsIDM3LjU2NTYzOF0sIFs1NS43Mjk1OTYsIDM3LjQ3MDc4OF0sIFs1NS43NTE3NzcsIDM3LjgxNjc0OV0sIFs1NS43NTExOTcsIDM3Ljc4NjQ4Ml0sIFs1NS43NTc1NjksIDM3Ljc0OTI5NF0sIFs1NS43NDgzMDUsIDM3LjUzNDIzMV0sIFs1NS43NzkxMTksIDM3Ljg2Mzk3Ml0sIFs1NS42MTg4MTUsIDM3LjUwODI2NV0sIFs1NS42NTcyMjcsIDM3LjU0MDY1OV0sIFs1NS42NzAxMjgsIDM3LjU1NDU0NF0sIFs1NS42MDYyNjIsIDM3LjUzMzc0OF0sIFs1NS44MTQ2NDYsIDM3LjczNDQ5OF0sIFs1NS44MDM4NjgsIDM3Ljc0NTA1XSwgWzU1Ljc5NjM3LCAzNy43MTUzNDddLCBbNTUuODU1MDEzLCAzNy40NzYyMTNdLCBbNTUuODQwMDc4LCAzNy40ODY2OTZdLCBbNTUuODE5MDUyLCAzNy40OTgwMThdLCBbNTUuODAwNDAyLCAzNy41MzMxNTZdLCBbNTUuNzg5NzE5LCAzNy41NTgyNTRdLCBbNTUuNzg4ODExLCAzNy42ODAyNzJdLCBbNTUuNzc1MTg5LCAzNy42NTYxNDVdLCBbNTUuNzc5ODE4LCAzNy42NjY4MDldLCBbNTUuNzU3NzI0LCAzNy42MTY0MzFdLCBbNTUuNzU5ODM0LCAzNy42Mjc4MThdLCBbNTUuNzY1ODAyLCAzNy42MzkwMzNdLCBbNTUuODU1MTE5LCAzNy42NTI3MzZdLCBbNTUuODQ1MTI3LCAzNy42Mzg0NDVdLCBbNTYuMDEyMDg0LCAzNy44Mzk0MTRdLCBbNTUuNzUyNTM1LCAzNy43MjAwNjNdLCBbNTUuNzQ3MTkxLCAzNy42ODMzNTRdLCBbNTUuNzQxMzI2LCAzNy42NTM1MjhdLCBbNTUuNzgwOTA2LCAzNy42MzIwMTddLCBbNTUuNzczMjQ3LCAzNy42MzEyNjJdLCBbNTUuNzY2NDM1LCAzNy42Mzc0NDldLCBbNTUuNzQwOTc2LCAzNy42MjcxNDRdLCBbNTUuNzMwNTE5LCAzNy42MTEyNzJdLCBbNTUuNzE5OTM3LCAzNy42MDc5MzRdLCBbNTUuNjQ4ODU5LCAzNy4yNjk1NDddLCBbNTUuNzQ1NDMsIDM3LjYwMzgwN10sIFs1NS43NTEyMzIsIDM3LjYxMDE3MV0sIFs1NS43MjMzODMsIDM3LjU2NDIxM10sIFs1NS43MjY5MDYsIDM3LjU3ODU2N10sIFs1NS43MDc2MTcsIDM3LjU4NjIxMl0sIFs1NS42ODc2NzIsIDM3LjU3MzMwMV0sIFs1NS42Nzc4MSwgMzcuNTYyNzY0XSwgWzU1LjY0MjY3MywgMzcuNTI1NjE3XSwgWzU1Ljk2NDA2NywgMzcuNDE3NTI5XSwgWzU1LjczNTgyNiwgMzcuNTkxMjc0XSwgWzU1LjcyOTczNywgMzcuNjA5NTFdLCBbNTUuNzQ4ODA4LCAzNy41ODI3MjFdLCBbNTUuNzcwMjYzLCAzNy41OTUxNzFdLCBbNTUuNzcwODcyLCAzNy42MTc5MV0sIFs1NS42MDA5ODIsIDM3LjU1NDEyOV0sIFs1NS43MzA2NSwgMzcuNjM3NjI4XSwgWzU1LjczMjE1OSwgMzcuNjM3OTE2XSwgWzU1Ljc1NzU1NywgMzcuNjE5MjM3XSwgWzU1Ljc0MTQxNywgMzcuNjI5MTgxXSwgWzU1Ljc2NDg3NiwgMzcuNjA2Mjc4XSwgWzU1LjcwNzM0NSwgMzcuNjU3NzY4XSwgWzU1LjY3ODQ4MSwgMzcuNjYzODk2XSwgWzU1LjY5MzYyMywgMzcuNjY0NDM1XSwgWzU1LjY1NDk1NiwgMzcuNjIyMTk4XSwgWzU1Ljc3OTYxOSwgMzcuNjMxNzAxXSwgWzU1LjcyOTA2MSwgMzcuNjIzNzExXSwgWzU1Ljc0MTY4LCAzNy42NTEzOTldLCBbNTUuNTQ4MTA4LCAzNy41NTQ2MjVdLCBbNTUuNTQ1NDM0LCAzNy41NDMyMTFdLCBbNTUuNTQxNjk4LCAzNy41MzA3MDZdLCBbNTUuNTM4MTQ3LCAzNy41MTY1NDddLCBbNTUuNzY5MTIzLCAzNy42MTk1NjddLCBbNTUuNzQ2NDE5LCAzNy42ODMyNDRdLCBbNTUuNzE5MjEyLCAzNy42NzU1N10sIFs1NS43MDc0MjMsIDM3LjY4NDc2OV0sIFs1NS42OTM1MjEsIDM3LjcyNjkxMl0sIFs1NS42OTA4NDUsIDM3Ljc1MzI5OF0sIFs1NS42NzU2MjIsIDM3Ljc2MTkyNV0sIFs1NS42NTAwMzgsIDM3Ljc0MzMwNl0sIFs1NS43NjQ4MTMsIDM3LjYwOTA5OF0sIFs1NS43NTA5MjIsIDM3LjYwNzA1NV0sIFs1NS43MjgxNTcsIDM3LjYyNDcyMl0sIFs1NS43MDg3MzIsIDM3LjYyMjg5XSwgWzU1LjY4Mjg2NiwgMzcuNjIyNDkzXSwgWzU1LjY3MjExNywgMzcuNjEwMjhdLCBbNTUuNjYyNjUxLCAzNy42MDU2MjJdLCBbNTUuNjUyMzk2LCAzNy41OTg0MzVdLCBbNTUuNjQwNDU1LCAzNy42MDY2OV0sIFs1NS42MjIyNTYsIDM3LjYwOTIxOV0sIFs1NS42MTIzNywgMzcuNjA0NTA2XSwgWzU1LjU5NTA4NSwgMzcuNjAwNDRdLCBbNTUuNTgyNTMyLCAzNy41OTY1MzFdLCBbNTUuODE3MjU1LCAzNy41NzYzMDhdLCBbNTUuODA2NTYxLCAzNy41ODE5MDddLCBbNTUuNzkyNDg4LCAzNy41ODg4MTZdLCBbNTUuNzgxMDMxLCAzNy42MDEyMDNdLCBbNTUuODk3ODQzLCAzNy41ODczNzJdLCBbNTUuODgzODk0LCAzNy42MDM1NzddLCBbNTUuODYzMTc3LCAzNy42MDQ2NTFdLCBbNTUuODYwNzM0LCAzNy40MzY0OTRdLCBbNTUuODI2NDcyLCAzNy40MzY5NzNdLCBbNTUuODA4NjM2LCAzNy40NjQ0XSwgWzU1Ljc3NzU5LCAzNy41MTk1NDddLCBbNTUuNzczNTUsIDM3LjU0NjQ0M10sIFs1NS43NjQ2OTUsIDM3LjU2MTUxNl0sIFs1NS43NjEwMDcsIDM3LjU4MDAxXSwgWzU1Ljc3NDU4LCAzNy42NTQ1Nl0sIFs1NS44NDcxOTQsIDM3LjU4OTk3MV0sIFs1NS43MTAzMjUsIDM3LjU1OTMxNF0sIFs1NS43Nzk4NzQsIDM3LjYwMzU4OF0sIFs1NS43MzMyNTgsIDM3LjY2NzYzOF0sIFs1NS42MTM3NTksIDM3Ljc0NDQ4OF0sIFs1NS42MTA4NTksIDM3LjcxODY1OF0sIFs1NS42MTMzOTUsIDM3LjY5NDU1Nl0sIFs1NS42MjE0ODMsIDM3LjY2OTI1XSwgWzU1LjYzNTczNSwgMzcuNjU2NTQxXSwgWzU1LjU2OTI4MiwgMzcuNTc2OTA4XSwgWzU1LjU2ODkyMywgMzcuNTc2NjM3XSwgWzU1Ljc2MDc3LCAzNy41NzcyNDRdLCBbNTUuNzQ0Njk2LCAzNy41NjU1ODVdLCBbNTUuNzkzMzY2LCAzNy40OTM4MTJdLCBbNTUuODUwNDgxLCAzNy40Mzk3NzRdLCBbNTUuNjYzNjQ3LCAzNy40ODMyMTldLCBbNTUuNjkyNjQ2LCAzNy41MzMyNl0sIFs1NS41OTI3NzUsIDM3LjY1MzkzNF0sIFs1NS43MzgxNjgsIDM3LjYxNzJdLCBbNTUuOTE0ODIzLCAzNy43NjE3NDJdLCBbNTUuOTI1NDc2LCAzNy44MTY0NDddLCBbNTUuOTI2MjIzLCAzNy44NjEwODldLCBbNTUuOTI3MTM1LCAzNy45NDYxODJdLCBbNTUuNDI4NzY0LCAzNy44ODEyMzldLCBbNTUuOTY0NzkxLCAzNy45MzkyNThdLCBbNTUuNjU5NzM5LCAzNy43NTA2NjldLCBbNTUuNjc3MiwgMzcuNTA2MDg3XSwgWzU1Ljc2NTQzMSwgMzcuNjA3NDI1XSwgWzU1LjcyOTc5MSwgMzcuMzkyNDg4XSwgWzU1LjYwNzgyMSwgMzcuMTg2ODUyXSwgWzU1Ljc0NTE5OSwgMzcuNjg5MzA4XSwgWzU1Ljc3ODQwNCwgMzcuNjU2NzYyXSwgWzU1Ljc0MTI1OSwgMzcuNjI3NzkyXSwgWzU1Ljg0NTc1NCwgMzcuMzYyMjI2XSwgWzU1Ljc2Njk0MiwgMzcuNjQwMDk4XSwgWzU1Ljc5NTUxNiwgMzcuNjE2MzA5XSwgWzU1Ljc4MTI1NSwgMzcuNjE1MDExXSwgWzU1Ljc3NjY5OSwgMzcuNTgzNTgzXSwgWzU1Ljc3NjExMiwgMzcuNTg0MDUxXSwgWzU1LjYzMzExOSwgMzcuNTE4OTExXSwgWzU1LjYzMzI5LCAzNy43NDM1NzddLCBbNTUuNjEyMzExLCAzNy43NDUxNzddLCBbNTUuNjIxMTQ0LCAzNy43NDM3NzJdLCBbNTUuNzI5MDk1LCAzNy42NDEwMzFdLCBbNTYuMDc0MzYsIDM3LjExMjg4NF0sIFs1NS43NDUwODksIDM3Ljg2Mzc1NF0sIFs1NS42NzE5ODksIDM3LjI4MTgxNl0sIFs1NS44NjI2NDgsIDM3LjY4MzI5Nl0sIFs1NS42MTgxNjEsIDM3LjY2ODIyNV0sIFs1NS41MTAxMjUsIDM3LjU2MjE4NF0sIFs1NS41Nzc4MDMsIDM3LjEwOTczNV0sIFs1NS44ODI3ODIsIDM3LjU2Nzc3Nl0sIFs1NS45ODAxNjEsIDM3LjE3MzYxOF0sIFs1NS45MDQ1MDIsIDM3LjUzODI1M10sIFs1Ni4wNDE2MTMsIDM3LjEwMjI4NF0sIFs1NS41OTAzNzgsIDM3LjYxNTMyMl0sIFs1NS42ODI0OSwgMzcuODk2NzAzXSwgWzU1LjY3MjY1NSwgMzcuOTMzNF0sIFs1NS43MzU4MDgsIDM3Ljc2NDQyNl0sIFs1NS44OTM2OTYsIDM3LjQ1MzQ3M10sIFs1NS43NDQwNTcsIDM3LjUxNDY3Nl0sIFs1NS44Njk1MTcsIDM3LjUxMDAxMl0sIFs1NS43Mzk3MzQsIDM3Ljc5NTM4M10sIFs1NS40MzE3OTksIDM3LjU2NTQxN10sIFs1NS44NjY3MjgsIDM3LjEyNTcxXSwgWzU1Ljg0MTU3NSwgMzcuMTg0OTQ1XSwgWzU1LjgxNDg5OCwgMzcuMzM5NTE1XSwgWzU1LjgyNzA1MiwgMzcuNDQxMV0sIFs1NS40NDA3NDUsIDM3Ljc3Mjc1M10sIFs1NS43MTc1MzMsIDM3LjY0MzM1OF0sIFs1NS42MzI3NDksIDM3Ljc2NjA2Ml0sIFs1NS44NTYxNDMsIDM3LjM1NDIwMl0sIFs1NS43NTIyNzIsIDM3Ljg1OTIxOV0sIFs1NS40MjI0MjIsIDM3LjgzNTgzMV0sIFs1NS42ODUzMzgsIDM3Ljg1NjE0OV0sIFs1NS43MDE2MjUsIDM3Ljg1MTk3M10sIFs1NS41ODIwNywgMzcuNTc2ODY2XSwgWzU1LjYwMDE1NSwgMzcuNTU2NTM4XSwgWzU1LjgwOTc2LCAzNy45NDk0MzhdLCBbNTUuNzc1NjQ4LCAzNy41Nzc4NjJdLCBbNTUuNzk1MzAxLCAzNy41ODg3MDldLCBbNTUuNzQyMDAzLCAzNy41NjI4NDVdLCBbNTUuNzg3NzMzLCAzNy43ODE2MDJdLCBbNTUuNzk0NzI3LCAzNy43OTkzOTZdLCBbNTUuODA5MzM5LCAzNy43OTg2NF0sIFs1NS45NjgxNSwgMzcuOTYxOTQ1XSwgWzU1LjczNjQ0NSwgMzcuNTE3NTY3XSwgWzU1LjgzOTY3OCwgMzcuNjY2ODc0XSwgWzU1LjY0NTg5NCwgMzcuNDcyNjE4XSwgWzU1Ljc0OTExNCwgMzcuNTM5MTc5XSwgWzU1LjY3NDQ5MSwgMzcuODU4MDA1XSwgWzU1LjYzMjk4LCAzNy40NDE4OTRdLCBbNTUuNjIxOTIyLCAzNy40MjQxODddLCBbNTUuNzU4OTA0LCAzNy43NDYwMzhdLCBbNTUuNzA2MzEyLCAzNy42NjMxMzldLCBbNTUuNzQ3MDUxLCAzNy43Mzc3MjldLCBbNTUuODQ1NTc5LCAzNy42MzkyMDZdLCBbNTUuNjkwMTMxLCAzNy42MTg4NjZdLCBbNTUuODQ3MzQ0LCAzNy41OTE4OTNdLCBbNTUuNzQ3NTU1LCAzNy41MzIwMzJdLCBbNTUuNzg4NDk0LCAzNy41MDQzNjJdLCBbNTUuNzg5NzkxLCAzNy43NDMyMTNdLCBbNTUuODM5NjE5LCAzNy41MjAxMDddLCBbNTUuNjg5ODM5LCAzNy42MDU3NjFdLCBbNTUuNzM5OTE3LCAzNy41MzQwNTNdLCBbNTUuODQ3MTU2LCAzNy41NTE0NjRdLCBbNTUuNzIwNjE3LCAzNy41NjEzMTFdLCBbNTUuODQ4OTI4LCAzNy41NzExMzNdLCBbNTUuNzk5MDEsIDM3LjQ5OTAyN10sIFs1NS43MDY5NjgsIDM3LjU4NjM5N10sIFs1NS43NzEzMywgMzcuNzQ1MDY2XSwgWzU1LjgxMzcsIDM3LjQ4Njk4XSwgWzU1LjcxODQ1LCAzNy42OTc3MDddLCBbNTUuNzU3MzA2LCAzNy41MjU2NjhdLCBbNTUuODI5MzA5LCAzNy43MDI0ODRdLCBbNTUuODIyODk0LCAzNy41ODc2NjhdLCBbNTUuODI1ODg3LCAzNy40OTY0MDVdLCBbNTYuMDkwOTA2LCAzNy41MDQzMTNdLCBbNTUuNzEyNjUxLCAzNy42Nzc4MzldLCBbNTUuNzI0Nzg4LCAzNy40OTY4NDRdLCBbNTUuNzA3MTQyLCAzNy41MTYyMzZdLCBbNTUuNjk3NTYxLCAzNy40OTg1NDJdLCBbNTUuODE3MDMxLCAzNy43MzczMzJdLCBbNTUuNzc3MTQ0LCAzNy41MDczNzldLCBbNTUuODA0MTMzLCAzNy43NDYwMDddLCBbNTUuNzMyMTkzLCAzNy43MjgxNDNdLCBbNTUuNzI0MTQ2LCAzNy43MTY4ODddLCBbNTUuNjk3ODk4LCAzNy42NDc1MzddLCBbNTUuODEzMzczLCAzNy42MDI1MjhdLCBbNTUuNzQ0MjksIDM3LjU2NTMwNV0sIFs1NS42NTUwNDIsIDM3LjY0ODcxMV0sIFs1NS43MzA3NDEsIDM3LjQ0NTk0NV0sIFs1NS43MzA1OTUsIDM3LjQ0NjAxNF0sIFs1NS43NTU1MzIsIDM3LjYzMzU4Nl0sIFs1NS43NTU0NzcsIDM3LjYzMzIxMV0sIFs1NS43MzU0OTYsIDM3LjU5NDI2Nl0sIFs1NS44MzQ2ODcsIDM3LjU3NDgyNV0sIFs1NS44MzQ5OSwgMzcuNTc0NDIxXSwgWzU1LjgxODMwNCwgMzcuNDM1NzUyXSwgWzU1LjgwODc1MiwgMzcuNjM4OTM3XSwgWzU1LjgwMzY5MiwgMzcuNDAzMTRdLCBbNTUuODI1MjAzLCAzNy4zODUyOTVdLCBbNTUuODM1NTEzLCAzNy4zODIyNDJdLCBbNTUuNzU3OTk3LCAzNy42NTgwOF0sIFs1NS43NTY4NjMsIDM3LjY1NjcyM10sIFs1NS43NTcyMzgsIDM3LjY1OTM1M10sIFs1NS44MjExMTQsIDM3LjY0MTQyNl0sIFs1NS44MDUyNDgsIDM3LjUxNTEyMV0sIFs1NS44NzgxMzMsIDM3LjQ4MDc1OF0sIFs1NS43NzY3MDQsIDM3LjUxOTJdLCBbNTUuNzkxODkxLCAzNy41NTcwNTFdLCBbNTUuNzg2NTYxLCAzNy41MzMyMDFdLCBbNTUuNzU3MTI5LCAzNy41MjQwMTRdLCBbNTUuNzQ4ODc0LCAzNy41Mzk0MzRdLCBbNTUuODY2NjEyLCAzNy41NDcxOF0sIFs1NS44NTYxMTMsIDM3LjU2MTM0NF0sIFs1NS44NDYwMjMsIDM3LjU3MzgzXSwgWzU1Ljk4MTE2MywgMzcuNDEzMzEzXSwgWzU1Ljk2MzI0NywgMzcuNDEwNjIxXSwgWzU1LjY4OTM0MSwgMzcuNDgyODI1XSwgWzU1LjY3MDUwNSwgMzcuNDQ4NzNdLCBbNTUuNjM5NjY0LCAzNy4zNTUxNTddLCBbNTUuNjM0MDI5LCAzNy4zMzUwODZdLCBbNTUuNjQ3NzcyLCAzNy4zNzA1MDVdLCBbNTUuNjQ5NjkyLCAzNy4zOTEyMThdLCBbNTUuNjU5NTg3LCAzNy40MTczMTFdLCBbNTUuNzMzMjc5LCAzNy43Mjk4MTRdLCBbNTUuODY1MDE0LCAzNy40NzQ4Ml0sIFs1NS43OTIzNjEsIDM3LjU4NjQyM10sIFs1NS42MDY2MTgsIDM3LjI4Njg0OF0sIFs1NS42NDk4MTgsIDM3LjcwMTQzXSwgWzU1LjY1NzI0NSwgMzcuMzg0ODE3XSwgWzU1LjY4MzY4NSwgMzcuNDUxMzg3XSwgWzU1LjcwMzQyNCwgMzcuODUxMTVdLCBbNTUuNzEwMzE2LCAzNy44NzkyNDRdLCBbNTUuNzA4NDgyLCAzNy45MDA1MjVdLCBbNTUuNzAzMDc5LCAzNy45Mjc4MzJdLCBbNTUuNTYwNTUyLCAzNy40NjgwMjddLCBbNTUuNTY4NzM0LCAzNy40NTkyNTZdLCBbNTUuNTg2MjE4LCAzNy40MzM4NTldLCBbNTUuNjAxMzg4LCAzNy40MDc2ODJdLCBbNTUuNTgzODM2LCAzNy4xMzgzNDhdLCBbNTUuNzMwMzkxLCAzNy40NzIyODNdLCBbNTUuNjkwMTMyLCAzNy42MTg4NjJdLCBbNTUuNzY5MDE5LCAzNy42NDg5NjNdLCBbNTUuNzU2NTk1LCAzNy40MDgxMzldLCBbNTUuNzE3OTU2LCAzNy43ODI0NDhdLCBbNTUuNzI2OTQ4LCAzNy43NTMyMDJdLCBbNTUuNzA1MDI1LCAzNy44MTldLCBbNTUuNzY0OTIyLCAzNy43MDY3MDRdLCBbNTUuNzUzNjQzLCAzNy43MTkyMDNdLCBbNTUuNzMxNzgsIDM3LjczMDAzMV0sIFs1NS45NjMxNTMsIDM3Ljg3NDczOF0sIFs1NS42MDk5NjIsIDM3LjI2NjA2Ml0sIFs1NS42MzAzMzYsIDM3LjIxNzc0OV1dLAogICAgICAgICAgICAgICAgewogICAgICAgICAgICAgICAgICAgIG1pbk9wYWNpdHk6IDAuNSwKICAgICAgICAgICAgICAgICAgICBtYXhab29tOiAxOCwKICAgICAgICAgICAgICAgICAgICBtYXg6IDEuMCwKICAgICAgICAgICAgICAgICAgICByYWRpdXM6IDUsCiAgICAgICAgICAgICAgICAgICAgYmx1cjogNSwKICAgICAgICAgICAgICAgICAgICBncmFkaWVudDogeyIwLjQiOiAicmVkIiwgIjAuNjUiOiAiIzhCMDAwMCIsICIxIjogImJsYWNrIn0KICAgICAgICAgICAgICAgICAgICB9KQogICAgICAgICAgICAgICAgLmFkZFRvKG1hcF8xMGVjMTA0NTdmNTg0OThkODkzZjMzNWVjNDcwNmJjZCk7CiAgICAgICAgCjwvc2NyaXB0Pg== onload=\"this.contentDocument.open();this.contentDocument.write(atob(this.getAttribute('data-html')));this.contentDocument.close();\" allowfullscreen webkitallowfullscreen mozallowfullscreen></iframe></div></div>"
            ],
            "text/plain": [
              "<folium.folium.Map at 0x7fe88de12278>"
            ]
          },
          "metadata": {
            "tags": []
          },
          "execution_count": 11
        }
      ]
    },
    {
      "cell_type": "markdown",
      "metadata": {
        "id": "ht26byiMhylO"
      },
      "source": [
        "Соберу все станции совершив поиск по городам"
      ]
    },
    {
      "cell_type": "code",
      "metadata": {
        "id": "Fm2CAiAshqMK"
      },
      "source": [
        "def collect_subway(data, city):\n",
        "  data = data.loc[np.where(data['city'] == city)[0]]\n",
        "  response = get_stations(data, 0.1)\n",
        "  if len(response['features']) == 0:\n",
        "    return [(np.nan, np.nan, city)]\n",
        "  \n",
        "  collection = []\n",
        "  response = response['features'][:int(len(response['features'])/2)]\n",
        "  for i in range(len(response)):\n",
        "    lon = response[i]['geometry']['coordinates'][0]\n",
        "    lat = response[i]['geometry']['coordinates'][1]\n",
        "    collection.append((lat, lon, city))\n",
        "  \n",
        "  return collection"
      ],
      "execution_count": null,
      "outputs": []
    },
    {
      "cell_type": "code",
      "metadata": {
        "colab": {
          "base_uri": "https://localhost:8080/",
          "height": 419
        },
        "id": "_ZVXAbUxj5zD",
        "outputId": "120be989-0671-4212-db18-4951205f977f"
      },
      "source": [
        "subway_data = pd.DataFrame([], columns=['lat', 'lon', 'city'])\n",
        "ind = 0\n",
        "for city in data['city'].value_counts().keys():\n",
        "  collection = collect_subway(data, city)\n",
        "  for rec in collection:\n",
        "    subway_data.loc[ind] = rec\n",
        "    ind += 1\n",
        "\n",
        "subway_data"
      ],
      "execution_count": null,
      "outputs": [
        {
          "output_type": "execute_result",
          "data": {
            "text/html": [
              "<div>\n",
              "<style scoped>\n",
              "    .dataframe tbody tr th:only-of-type {\n",
              "        vertical-align: middle;\n",
              "    }\n",
              "\n",
              "    .dataframe tbody tr th {\n",
              "        vertical-align: top;\n",
              "    }\n",
              "\n",
              "    .dataframe thead th {\n",
              "        text-align: right;\n",
              "    }\n",
              "</style>\n",
              "<table border=\"1\" class=\"dataframe\">\n",
              "  <thead>\n",
              "    <tr style=\"text-align: right;\">\n",
              "      <th></th>\n",
              "      <th>lat</th>\n",
              "      <th>lon</th>\n",
              "      <th>city</th>\n",
              "    </tr>\n",
              "  </thead>\n",
              "  <tbody>\n",
              "    <tr>\n",
              "      <th>0</th>\n",
              "      <td>55.778834</td>\n",
              "      <td>37.653721</td>\n",
              "      <td>Москва</td>\n",
              "    </tr>\n",
              "    <tr>\n",
              "      <th>1</th>\n",
              "      <td>55.949653</td>\n",
              "      <td>37.299001</td>\n",
              "      <td>Москва</td>\n",
              "    </tr>\n",
              "    <tr>\n",
              "      <th>2</th>\n",
              "      <td>55.726868</td>\n",
              "      <td>37.449885</td>\n",
              "      <td>Москва</td>\n",
              "    </tr>\n",
              "    <tr>\n",
              "      <th>3</th>\n",
              "      <td>55.887177</td>\n",
              "      <td>37.661550</td>\n",
              "      <td>Москва</td>\n",
              "    </tr>\n",
              "    <tr>\n",
              "      <th>4</th>\n",
              "      <td>55.869625</td>\n",
              "      <td>37.664184</td>\n",
              "      <td>Москва</td>\n",
              "    </tr>\n",
              "    <tr>\n",
              "      <th>...</th>\n",
              "      <td>...</td>\n",
              "      <td>...</td>\n",
              "      <td>...</td>\n",
              "    </tr>\n",
              "    <tr>\n",
              "      <th>674</th>\n",
              "      <td>55.717956</td>\n",
              "      <td>37.782448</td>\n",
              "      <td>Московская область</td>\n",
              "    </tr>\n",
              "    <tr>\n",
              "      <th>675</th>\n",
              "      <td>55.726948</td>\n",
              "      <td>37.753202</td>\n",
              "      <td>Московская область</td>\n",
              "    </tr>\n",
              "    <tr>\n",
              "      <th>676</th>\n",
              "      <td>55.764922</td>\n",
              "      <td>37.706704</td>\n",
              "      <td>Московская область</td>\n",
              "    </tr>\n",
              "    <tr>\n",
              "      <th>677</th>\n",
              "      <td>55.753643</td>\n",
              "      <td>37.719203</td>\n",
              "      <td>Московская область</td>\n",
              "    </tr>\n",
              "    <tr>\n",
              "      <th>678</th>\n",
              "      <td>55.731780</td>\n",
              "      <td>37.730031</td>\n",
              "      <td>Московская область</td>\n",
              "    </tr>\n",
              "  </tbody>\n",
              "</table>\n",
              "<p>679 rows × 3 columns</p>\n",
              "</div>"
            ],
            "text/plain": [
              "           lat        lon                city\n",
              "0    55.778834  37.653721              Москва\n",
              "1    55.949653  37.299001              Москва\n",
              "2    55.726868  37.449885              Москва\n",
              "3    55.887177  37.661550              Москва\n",
              "4    55.869625  37.664184              Москва\n",
              "..         ...        ...                 ...\n",
              "674  55.717956  37.782448  Московская область\n",
              "675  55.726948  37.753202  Московская область\n",
              "676  55.764922  37.706704  Московская область\n",
              "677  55.753643  37.719203  Московская область\n",
              "678  55.731780  37.730031  Московская область\n",
              "\n",
              "[679 rows x 3 columns]"
            ]
          },
          "metadata": {
            "tags": []
          },
          "execution_count": 12
        }
      ]
    },
    {
      "cell_type": "code",
      "metadata": {
        "id": "oVCCMB1y2Bso"
      },
      "source": [
        "def add_info(data, subway_data, radius=0.02):\n",
        "  cities = data['city'].value_counts().keys()\n",
        "  counts = []\n",
        "  distances = []\n",
        "  for city in cities:\n",
        "    print(city)\n",
        "    data_city = data.loc[np.where(data['city'] == city)[0]].reset_index().drop(columns=['index'])\n",
        "    subway_city = subway_data.loc[np.where(subway_data['city'] == city)[0]].reset_index().drop(columns=['index'])\n",
        "\n",
        "    for i in range(data_city.shape[0]):\n",
        "      buffer = gpd.GeoDataFrame(geometry=[Point(data_city.loc[i]['lat'], data_city.loc[i]['lon'])], \n",
        "                                crs={'init': 'epsg:4326'}).buffer(radius)\n",
        "      count = 0\n",
        "      dist = []\n",
        "      for j in range(subway_city.shape[0]):\n",
        "        count += Point(subway_city.loc[j]['lat'], subway_city.loc[j]['lon']).within(buffer[0])\n",
        "        dist.append(distance.geodesic((data_city.loc[i]['lat'], data_city.loc[i]['lon']), \n",
        "                                           (subway_city.loc[j]['lat'], subway_city.loc[j]['lon'])).m)\n",
        "      \n",
        "      counts.append(count)\n",
        "      distances.append(min(dist) if len(dist) != 0 else 5000.0)\n",
        "  return counts, distances"
      ],
      "execution_count": null,
      "outputs": []
    },
    {
      "cell_type": "markdown",
      "metadata": {
        "id": "PUN_kYgfJp4N"
      },
      "source": [
        "попробуй использовать node[\"place\"=\"city\"][\"name\"=\"Санкт-Петербург\"];out; для нахождения центра города"
      ]
    },
    {
      "cell_type": "code",
      "metadata": {
        "colab": {
          "base_uri": "https://localhost:8080/"
        },
        "id": "qDXS9d8K6ZFr",
        "outputId": "e0a0e559-9560-482e-97d9-d6e0522ef90f"
      },
      "source": [
        "counts, distances = add_info(data, subway_data, radius=0.02)"
      ],
      "execution_count": null,
      "outputs": [
        {
          "output_type": "stream",
          "text": [
            "Москва\n",
            "Санкт-Петербург\n",
            "Самарская область\n",
            "Новосибирская область\n",
            "Татарстан\n",
            "Свердловская область\n",
            "Ростовская область\n",
            "Нижегородская область\n",
            "Красноярский край\n",
            "Башкортостан\n",
            "Московская область\n"
          ],
          "name": "stdout"
        }
      ]
    },
    {
      "cell_type": "code",
      "metadata": {
        "colab": {
          "base_uri": "https://localhost:8080/",
          "height": 173
        },
        "id": "XwfUBWOPAceN",
        "outputId": "307c015a-a76a-474c-d61c-50f20b93a0f2"
      },
      "source": [
        "data['count'] = np.array(counts)\n",
        "data['min_distance'] = np.array(distances)\n",
        "data.head(4)"
      ],
      "execution_count": null,
      "outputs": [
        {
          "output_type": "execute_result",
          "data": {
            "text/html": [
              "<div>\n",
              "<style scoped>\n",
              "    .dataframe tbody tr th:only-of-type {\n",
              "        vertical-align: middle;\n",
              "    }\n",
              "\n",
              "    .dataframe tbody tr th {\n",
              "        vertical-align: top;\n",
              "    }\n",
              "\n",
              "    .dataframe thead th {\n",
              "        text-align: right;\n",
              "    }\n",
              "</style>\n",
              "<table border=\"1\" class=\"dataframe\">\n",
              "  <thead>\n",
              "    <tr style=\"text-align: right;\">\n",
              "      <th></th>\n",
              "      <th>point_id</th>\n",
              "      <th>point_le</th>\n",
              "      <th>lon</th>\n",
              "      <th>lat</th>\n",
              "      <th>city</th>\n",
              "      <th>count</th>\n",
              "      <th>min_distance</th>\n",
              "    </tr>\n",
              "  </thead>\n",
              "  <tbody>\n",
              "    <tr>\n",
              "      <th>0</th>\n",
              "      <td>ommNZCUV</td>\n",
              "      <td>346</td>\n",
              "      <td>37.590776</td>\n",
              "      <td>55.848630</td>\n",
              "      <td>Москва</td>\n",
              "      <td>4</td>\n",
              "      <td>159.362293</td>\n",
              "    </tr>\n",
              "    <tr>\n",
              "      <th>1</th>\n",
              "      <td>nMe2LHPb</td>\n",
              "      <td>331</td>\n",
              "      <td>37.784210</td>\n",
              "      <td>55.750271</td>\n",
              "      <td>Москва</td>\n",
              "      <td>2</td>\n",
              "      <td>176.020610</td>\n",
              "    </tr>\n",
              "    <tr>\n",
              "      <th>2</th>\n",
              "      <td>ZgodVRqB</td>\n",
              "      <td>236</td>\n",
              "      <td>39.635721</td>\n",
              "      <td>47.213330</td>\n",
              "      <td>Ростовская область</td>\n",
              "      <td>4</td>\n",
              "      <td>59.381043</td>\n",
              "    </tr>\n",
              "    <tr>\n",
              "      <th>3</th>\n",
              "      <td>0t2jNYdz</td>\n",
              "      <td>2</td>\n",
              "      <td>37.704570</td>\n",
              "      <td>55.782020</td>\n",
              "      <td>Москва</td>\n",
              "      <td>10</td>\n",
              "      <td>221.826115</td>\n",
              "    </tr>\n",
              "  </tbody>\n",
              "</table>\n",
              "</div>"
            ],
            "text/plain": [
              "   point_id  point_le        lon  ...                city count  min_distance\n",
              "0  ommNZCUV       346  37.590776  ...              Москва     4    159.362293\n",
              "1  nMe2LHPb       331  37.784210  ...              Москва     2    176.020610\n",
              "2  ZgodVRqB       236  39.635721  ...  Ростовская область     4     59.381043\n",
              "3  0t2jNYdz         2  37.704570  ...              Москва    10    221.826115\n",
              "\n",
              "[4 rows x 7 columns]"
            ]
          },
          "metadata": {
            "tags": []
          },
          "execution_count": 75
        }
      ]
    },
    {
      "cell_type": "markdown",
      "metadata": {
        "id": "S-kKLsU8LywH"
      },
      "source": [
        "### Fit model"
      ]
    },
    {
      "cell_type": "code",
      "metadata": {
        "id": "otJPX5whURAc"
      },
      "source": [
        "from sklearn.model_selection import train_test_split\n",
        "from sklearn.metrics import mean_absolute_error\n",
        "from sklearn.linear_model import LinearRegression\n",
        "from sklearn.linear_model import SGDRegressor\n",
        "from sklearn.preprocessing import StandardScaler"
      ],
      "execution_count": null,
      "outputs": []
    },
    {
      "cell_type": "code",
      "metadata": {
        "id": "F0Dsmw0oLywH"
      },
      "source": [
        "X_train, X_valid, y_train, y_valid = train_test_split(data[['count']], train[['target']], test_size=0.2, random_state=42, shuffle=True)"
      ],
      "execution_count": null,
      "outputs": []
    },
    {
      "cell_type": "code",
      "metadata": {
        "colab": {
          "base_uri": "https://localhost:8080/",
          "height": 204
        },
        "id": "yPkMwlMNBaPW",
        "outputId": "72af0ac0-ee06-417e-a1bd-d79e0b7f3509"
      },
      "source": [
        "X_train.head()"
      ],
      "execution_count": null,
      "outputs": [
        {
          "output_type": "execute_result",
          "data": {
            "text/html": [
              "<div>\n",
              "<style scoped>\n",
              "    .dataframe tbody tr th:only-of-type {\n",
              "        vertical-align: middle;\n",
              "    }\n",
              "\n",
              "    .dataframe tbody tr th {\n",
              "        vertical-align: top;\n",
              "    }\n",
              "\n",
              "    .dataframe thead th {\n",
              "        text-align: right;\n",
              "    }\n",
              "</style>\n",
              "<table border=\"1\" class=\"dataframe\">\n",
              "  <thead>\n",
              "    <tr style=\"text-align: right;\">\n",
              "      <th></th>\n",
              "      <th>count</th>\n",
              "    </tr>\n",
              "  </thead>\n",
              "  <tbody>\n",
              "    <tr>\n",
              "      <th>17</th>\n",
              "      <td>2</td>\n",
              "    </tr>\n",
              "    <tr>\n",
              "      <th>66</th>\n",
              "      <td>2</td>\n",
              "    </tr>\n",
              "    <tr>\n",
              "      <th>132</th>\n",
              "      <td>6</td>\n",
              "    </tr>\n",
              "    <tr>\n",
              "      <th>222</th>\n",
              "      <td>11</td>\n",
              "    </tr>\n",
              "    <tr>\n",
              "      <th>31</th>\n",
              "      <td>2</td>\n",
              "    </tr>\n",
              "  </tbody>\n",
              "</table>\n",
              "</div>"
            ],
            "text/plain": [
              "     count\n",
              "17       2\n",
              "66       2\n",
              "132      6\n",
              "222     11\n",
              "31       2"
            ]
          },
          "metadata": {
            "tags": []
          },
          "execution_count": 83
        }
      ]
    },
    {
      "cell_type": "code",
      "metadata": {
        "colab": {
          "base_uri": "https://localhost:8080/",
          "height": 204
        },
        "id": "DhRMO6VmBsex",
        "outputId": "74285bcb-2240-4221-b0c2-76cdd1edcf54"
      },
      "source": [
        "y_train.head()"
      ],
      "execution_count": null,
      "outputs": [
        {
          "output_type": "execute_result",
          "data": {
            "text/html": [
              "<div>\n",
              "<style scoped>\n",
              "    .dataframe tbody tr th:only-of-type {\n",
              "        vertical-align: middle;\n",
              "    }\n",
              "\n",
              "    .dataframe tbody tr th {\n",
              "        vertical-align: top;\n",
              "    }\n",
              "\n",
              "    .dataframe thead th {\n",
              "        text-align: right;\n",
              "    }\n",
              "</style>\n",
              "<table border=\"1\" class=\"dataframe\">\n",
              "  <thead>\n",
              "    <tr style=\"text-align: right;\">\n",
              "      <th></th>\n",
              "      <th>target</th>\n",
              "    </tr>\n",
              "  </thead>\n",
              "  <tbody>\n",
              "    <tr>\n",
              "      <th>17</th>\n",
              "      <td>0.645905</td>\n",
              "    </tr>\n",
              "    <tr>\n",
              "      <th>66</th>\n",
              "      <td>0.192094</td>\n",
              "    </tr>\n",
              "    <tr>\n",
              "      <th>132</th>\n",
              "      <td>-0.650698</td>\n",
              "    </tr>\n",
              "    <tr>\n",
              "      <th>222</th>\n",
              "      <td>-0.261717</td>\n",
              "    </tr>\n",
              "    <tr>\n",
              "      <th>31</th>\n",
              "      <td>-1.039679</td>\n",
              "    </tr>\n",
              "  </tbody>\n",
              "</table>\n",
              "</div>"
            ],
            "text/plain": [
              "       target\n",
              "17   0.645905\n",
              "66   0.192094\n",
              "132 -0.650698\n",
              "222 -0.261717\n",
              "31  -1.039679"
            ]
          },
          "metadata": {
            "tags": []
          },
          "execution_count": 84
        }
      ]
    },
    {
      "cell_type": "code",
      "metadata": {
        "id": "gXnB-wi-B0LF"
      },
      "source": [
        "model = LinearRegression().fit(X_train, y_train)"
      ],
      "execution_count": null,
      "outputs": []
    },
    {
      "cell_type": "code",
      "metadata": {
        "id": "czIahKXtLywH",
        "colab": {
          "base_uri": "https://localhost:8080/"
        },
        "outputId": "fea9d308-ec1e-46e1-cf00-c8deb42f32c9"
      },
      "source": [
        "mean_absolute_error(y_valid, model.predict(X_valid))"
      ],
      "execution_count": null,
      "outputs": [
        {
          "output_type": "execute_result",
          "data": {
            "text/plain": [
              "0.6346442794898969"
            ]
          },
          "metadata": {
            "tags": []
          },
          "execution_count": 86
        }
      ]
    },
    {
      "cell_type": "markdown",
      "metadata": {
        "id": "MNwFchtkLywH"
      },
      "source": [
        "### Make submission"
      ]
    },
    {
      "cell_type": "markdown",
      "metadata": {
        "id": "Ire8QcUNSrif"
      },
      "source": [
        "#### Преобразую данные"
      ]
    },
    {
      "cell_type": "code",
      "metadata": {
        "id": "FwaWs5aDSyVe"
      },
      "source": [
        "geolocator = Nominatim()\n",
        "locations = []\n",
        "\n",
        "for i in range(test.shape[0]):\n",
        "    locations.append(geolocator.reverse(', '.join([str(test.loc[i]['lat']), str(test.loc[i]['lon'])])))\n",
        "\n",
        "locations_dict = {}\n",
        "for i in range(len(locations)):\n",
        "    locations_dict[i] = locations[i].raw['address']"
      ],
      "execution_count": null,
      "outputs": []
    },
    {
      "cell_type": "code",
      "metadata": {
        "colab": {
          "base_uri": "https://localhost:8080/",
          "height": 419
        },
        "id": "sdPcmqI_TDkE",
        "outputId": "8e565cfe-72ae-49e5-a4d5-fdc8b30c09b2"
      },
      "source": [
        "from sklearn import preprocessing\n",
        "le = preprocessing.LabelEncoder()\n",
        "\n",
        "data = pd.DataFrame()\n",
        "data[\"point_id\"] = test[\"point_id\"]\n",
        "data['point_le'] = le.fit_transform(test[\"point_id\"])\n",
        "data[\"lon\"] = test[\"lon\"]\n",
        "data[\"lat\"] = test[\"lat\"]\n",
        "\n",
        "data['city'] = np.array(['' for i in range(data.shape[0])])\n",
        "for i in range(data.shape[0]):\n",
        "    data['city'][i] = locations_dict[i]['state']\n",
        "data"
      ],
      "execution_count": null,
      "outputs": [
        {
          "output_type": "execute_result",
          "data": {
            "text/html": [
              "<div>\n",
              "<style scoped>\n",
              "    .dataframe tbody tr th:only-of-type {\n",
              "        vertical-align: middle;\n",
              "    }\n",
              "\n",
              "    .dataframe tbody tr th {\n",
              "        vertical-align: top;\n",
              "    }\n",
              "\n",
              "    .dataframe thead th {\n",
              "        text-align: right;\n",
              "    }\n",
              "</style>\n",
              "<table border=\"1\" class=\"dataframe\">\n",
              "  <thead>\n",
              "    <tr style=\"text-align: right;\">\n",
              "      <th></th>\n",
              "      <th>point_id</th>\n",
              "      <th>point_le</th>\n",
              "      <th>lon</th>\n",
              "      <th>lat</th>\n",
              "      <th>city</th>\n",
              "    </tr>\n",
              "  </thead>\n",
              "  <tbody>\n",
              "    <tr>\n",
              "      <th>0</th>\n",
              "      <td>F4lXR1cG</td>\n",
              "      <td>24</td>\n",
              "      <td>37.681242</td>\n",
              "      <td>55.748040</td>\n",
              "      <td>Москва</td>\n",
              "    </tr>\n",
              "    <tr>\n",
              "      <th>1</th>\n",
              "      <td>4LJu4GTf</td>\n",
              "      <td>6</td>\n",
              "      <td>60.580910</td>\n",
              "      <td>56.795860</td>\n",
              "      <td>Свердловская область</td>\n",
              "    </tr>\n",
              "    <tr>\n",
              "      <th>2</th>\n",
              "      <td>kLuAAN3s</td>\n",
              "      <td>82</td>\n",
              "      <td>37.598614</td>\n",
              "      <td>55.781357</td>\n",
              "      <td>Москва</td>\n",
              "    </tr>\n",
              "    <tr>\n",
              "      <th>3</th>\n",
              "      <td>OxQHvaNu</td>\n",
              "      <td>38</td>\n",
              "      <td>37.794051</td>\n",
              "      <td>55.717468</td>\n",
              "      <td>Москва</td>\n",
              "    </tr>\n",
              "    <tr>\n",
              "      <th>4</th>\n",
              "      <td>paQsTa1K</td>\n",
              "      <td>91</td>\n",
              "      <td>49.213026</td>\n",
              "      <td>55.748290</td>\n",
              "      <td>Татарстан</td>\n",
              "    </tr>\n",
              "    <tr>\n",
              "      <th>...</th>\n",
              "      <td>...</td>\n",
              "      <td>...</td>\n",
              "      <td>...</td>\n",
              "      <td>...</td>\n",
              "      <td>...</td>\n",
              "    </tr>\n",
              "    <tr>\n",
              "      <th>102</th>\n",
              "      <td>y8oQuX5v</td>\n",
              "      <td>104</td>\n",
              "      <td>30.353777</td>\n",
              "      <td>60.049792</td>\n",
              "      <td>Санкт-Петербург</td>\n",
              "    </tr>\n",
              "    <tr>\n",
              "      <th>103</th>\n",
              "      <td>4nmfqUw0</td>\n",
              "      <td>7</td>\n",
              "      <td>92.928927</td>\n",
              "      <td>56.116262</td>\n",
              "      <td>Красноярский край</td>\n",
              "    </tr>\n",
              "    <tr>\n",
              "      <th>104</th>\n",
              "      <td>N9O45mAh</td>\n",
              "      <td>34</td>\n",
              "      <td>93.015993</td>\n",
              "      <td>56.023697</td>\n",
              "      <td>Красноярский край</td>\n",
              "    </tr>\n",
              "    <tr>\n",
              "      <th>105</th>\n",
              "      <td>h2InCLKa</td>\n",
              "      <td>73</td>\n",
              "      <td>30.381172</td>\n",
              "      <td>59.871149</td>\n",
              "      <td>Санкт-Петербург</td>\n",
              "    </tr>\n",
              "    <tr>\n",
              "      <th>106</th>\n",
              "      <td>TQKiIgFt</td>\n",
              "      <td>50</td>\n",
              "      <td>30.279244</td>\n",
              "      <td>59.942110</td>\n",
              "      <td>Санкт-Петербург</td>\n",
              "    </tr>\n",
              "  </tbody>\n",
              "</table>\n",
              "<p>107 rows × 5 columns</p>\n",
              "</div>"
            ],
            "text/plain": [
              "     point_id  point_le        lon        lat                  city\n",
              "0    F4lXR1cG        24  37.681242  55.748040                Москва\n",
              "1    4LJu4GTf         6  60.580910  56.795860  Свердловская область\n",
              "2    kLuAAN3s        82  37.598614  55.781357                Москва\n",
              "3    OxQHvaNu        38  37.794051  55.717468                Москва\n",
              "4    paQsTa1K        91  49.213026  55.748290             Татарстан\n",
              "..        ...       ...        ...        ...                   ...\n",
              "102  y8oQuX5v       104  30.353777  60.049792       Санкт-Петербург\n",
              "103  4nmfqUw0         7  92.928927  56.116262     Красноярский край\n",
              "104  N9O45mAh        34  93.015993  56.023697     Красноярский край\n",
              "105  h2InCLKa        73  30.381172  59.871149       Санкт-Петербург\n",
              "106  TQKiIgFt        50  30.279244  59.942110       Санкт-Петербург\n",
              "\n",
              "[107 rows x 5 columns]"
            ]
          },
          "metadata": {
            "tags": []
          },
          "execution_count": 88
        }
      ]
    },
    {
      "cell_type": "code",
      "metadata": {
        "colab": {
          "base_uri": "https://localhost:8080/",
          "height": 374
        },
        "id": "GxmF1DyXTyKv",
        "outputId": "8415c19f-1038-4b7d-b865-c1166030989d"
      },
      "source": [
        "subway_data = pd.DataFrame([], columns=['lat', 'lon', 'city'])\n",
        "ind = 0\n",
        "for city in data['city'].value_counts().keys():\n",
        "  collection = collect_subway(data, city)\n",
        "  for rec in collection:\n",
        "    subway_data.loc[ind] = rec\n",
        "    ind += 1\n",
        "\n",
        "subway_data"
      ],
      "execution_count": null,
      "outputs": [
        {
          "output_type": "error",
          "ename": "ServerLoadError",
          "evalue": "ignored",
          "traceback": [
            "\u001b[0;31m---------------------------------------------------------------------------\u001b[0m",
            "\u001b[0;31mServerLoadError\u001b[0m                           Traceback (most recent call last)",
            "\u001b[0;32m<ipython-input-90-627dc01396db>\u001b[0m in \u001b[0;36m<module>\u001b[0;34m()\u001b[0m\n\u001b[1;32m      2\u001b[0m \u001b[0mind\u001b[0m \u001b[0;34m=\u001b[0m \u001b[0;36m0\u001b[0m\u001b[0;34m\u001b[0m\u001b[0;34m\u001b[0m\u001b[0m\n\u001b[1;32m      3\u001b[0m \u001b[0;32mfor\u001b[0m \u001b[0mcity\u001b[0m \u001b[0;32min\u001b[0m \u001b[0mdata\u001b[0m\u001b[0;34m[\u001b[0m\u001b[0;34m'city'\u001b[0m\u001b[0;34m]\u001b[0m\u001b[0;34m.\u001b[0m\u001b[0mvalue_counts\u001b[0m\u001b[0;34m(\u001b[0m\u001b[0;34m)\u001b[0m\u001b[0;34m.\u001b[0m\u001b[0mkeys\u001b[0m\u001b[0;34m(\u001b[0m\u001b[0;34m)\u001b[0m\u001b[0;34m:\u001b[0m\u001b[0;34m\u001b[0m\u001b[0;34m\u001b[0m\u001b[0m\n\u001b[0;32m----> 4\u001b[0;31m   \u001b[0mcollection\u001b[0m \u001b[0;34m=\u001b[0m \u001b[0mcollect_subway\u001b[0m\u001b[0;34m(\u001b[0m\u001b[0mdata\u001b[0m\u001b[0;34m,\u001b[0m \u001b[0mcity\u001b[0m\u001b[0;34m)\u001b[0m\u001b[0;34m\u001b[0m\u001b[0;34m\u001b[0m\u001b[0m\n\u001b[0m\u001b[1;32m      5\u001b[0m   \u001b[0;32mfor\u001b[0m \u001b[0mrec\u001b[0m \u001b[0;32min\u001b[0m \u001b[0mcollection\u001b[0m\u001b[0;34m:\u001b[0m\u001b[0;34m\u001b[0m\u001b[0;34m\u001b[0m\u001b[0m\n\u001b[1;32m      6\u001b[0m     \u001b[0msubway_data\u001b[0m\u001b[0;34m.\u001b[0m\u001b[0mloc\u001b[0m\u001b[0;34m[\u001b[0m\u001b[0mind\u001b[0m\u001b[0;34m]\u001b[0m \u001b[0;34m=\u001b[0m \u001b[0mrec\u001b[0m\u001b[0;34m\u001b[0m\u001b[0;34m\u001b[0m\u001b[0m\n",
            "\u001b[0;32m<ipython-input-11-9888e0260ddd>\u001b[0m in \u001b[0;36mcollect_subway\u001b[0;34m(data, city)\u001b[0m\n\u001b[1;32m      1\u001b[0m \u001b[0;32mdef\u001b[0m \u001b[0mcollect_subway\u001b[0m\u001b[0;34m(\u001b[0m\u001b[0mdata\u001b[0m\u001b[0;34m,\u001b[0m \u001b[0mcity\u001b[0m\u001b[0;34m)\u001b[0m\u001b[0;34m:\u001b[0m\u001b[0;34m\u001b[0m\u001b[0;34m\u001b[0m\u001b[0m\n\u001b[1;32m      2\u001b[0m   \u001b[0mdata\u001b[0m \u001b[0;34m=\u001b[0m \u001b[0mdata\u001b[0m\u001b[0;34m.\u001b[0m\u001b[0mloc\u001b[0m\u001b[0;34m[\u001b[0m\u001b[0mnp\u001b[0m\u001b[0;34m.\u001b[0m\u001b[0mwhere\u001b[0m\u001b[0;34m(\u001b[0m\u001b[0mdata\u001b[0m\u001b[0;34m[\u001b[0m\u001b[0;34m'city'\u001b[0m\u001b[0;34m]\u001b[0m \u001b[0;34m==\u001b[0m \u001b[0mcity\u001b[0m\u001b[0;34m)\u001b[0m\u001b[0;34m[\u001b[0m\u001b[0;36m0\u001b[0m\u001b[0;34m]\u001b[0m\u001b[0;34m]\u001b[0m\u001b[0;34m\u001b[0m\u001b[0;34m\u001b[0m\u001b[0m\n\u001b[0;32m----> 3\u001b[0;31m   \u001b[0mresponse\u001b[0m \u001b[0;34m=\u001b[0m \u001b[0mget_stations\u001b[0m\u001b[0;34m(\u001b[0m\u001b[0mdata\u001b[0m\u001b[0;34m,\u001b[0m \u001b[0;36m0.1\u001b[0m\u001b[0;34m)\u001b[0m\u001b[0;34m\u001b[0m\u001b[0;34m\u001b[0m\u001b[0m\n\u001b[0m\u001b[1;32m      4\u001b[0m   \u001b[0;32mif\u001b[0m \u001b[0mlen\u001b[0m\u001b[0;34m(\u001b[0m\u001b[0mresponse\u001b[0m\u001b[0;34m[\u001b[0m\u001b[0;34m'features'\u001b[0m\u001b[0;34m]\u001b[0m\u001b[0;34m)\u001b[0m \u001b[0;34m==\u001b[0m \u001b[0;36m0\u001b[0m\u001b[0;34m:\u001b[0m\u001b[0;34m\u001b[0m\u001b[0;34m\u001b[0m\u001b[0m\n\u001b[1;32m      5\u001b[0m     \u001b[0;32mreturn\u001b[0m \u001b[0;34m[\u001b[0m\u001b[0;34m(\u001b[0m\u001b[0mnp\u001b[0m\u001b[0;34m.\u001b[0m\u001b[0mnan\u001b[0m\u001b[0;34m,\u001b[0m \u001b[0mnp\u001b[0m\u001b[0;34m.\u001b[0m\u001b[0mnan\u001b[0m\u001b[0;34m,\u001b[0m \u001b[0mcity\u001b[0m\u001b[0;34m)\u001b[0m\u001b[0;34m]\u001b[0m\u001b[0;34m\u001b[0m\u001b[0;34m\u001b[0m\u001b[0m\n",
            "\u001b[0;32m<ipython-input-9-51e2c9d7133b>\u001b[0m in \u001b[0;36mget_stations\u001b[0;34m(data, delta)\u001b[0m\n\u001b[1;32m      4\u001b[0m                                                                               \u001b[0mw\u001b[0m\u001b[0;34m=\u001b[0m\u001b[0mdata\u001b[0m\u001b[0;34m[\u001b[0m\u001b[0;34m'lon'\u001b[0m\u001b[0;34m]\u001b[0m\u001b[0;34m.\u001b[0m\u001b[0mmin\u001b[0m\u001b[0;34m(\u001b[0m\u001b[0;34m)\u001b[0m\u001b[0;34m-\u001b[0m\u001b[0mdelta\u001b[0m\u001b[0;34m,\u001b[0m\u001b[0;34m\u001b[0m\u001b[0;34m\u001b[0m\u001b[0m\n\u001b[1;32m      5\u001b[0m                                                                               \u001b[0mn\u001b[0m\u001b[0;34m=\u001b[0m\u001b[0mdata\u001b[0m\u001b[0;34m[\u001b[0m\u001b[0;34m'lat'\u001b[0m\u001b[0;34m]\u001b[0m\u001b[0;34m.\u001b[0m\u001b[0mmax\u001b[0m\u001b[0;34m(\u001b[0m\u001b[0;34m)\u001b[0m\u001b[0;34m+\u001b[0m\u001b[0mdelta\u001b[0m\u001b[0;34m,\u001b[0m\u001b[0;34m\u001b[0m\u001b[0;34m\u001b[0m\u001b[0m\n\u001b[0;32m----> 6\u001b[0;31m                                                                               e=data['lon'].max()+delta))\n\u001b[0m\u001b[1;32m      7\u001b[0m   \u001b[0;32mreturn\u001b[0m \u001b[0mresponse\u001b[0m\u001b[0;34m\u001b[0m\u001b[0;34m\u001b[0m\u001b[0m\n",
            "\u001b[0;32m/usr/local/lib/python3.6/dist-packages/overpass/api.py\u001b[0m in \u001b[0;36mget\u001b[0;34m(self, query, responseformat, verbosity, build)\u001b[0m\n\u001b[1;32m     95\u001b[0m \u001b[0;34m\u001b[0m\u001b[0m\n\u001b[1;32m     96\u001b[0m         \u001b[0;31m# Get the response from Overpass\u001b[0m\u001b[0;34m\u001b[0m\u001b[0;34m\u001b[0m\u001b[0;34m\u001b[0m\u001b[0m\n\u001b[0;32m---> 97\u001b[0;31m         \u001b[0mr\u001b[0m \u001b[0;34m=\u001b[0m \u001b[0mself\u001b[0m\u001b[0;34m.\u001b[0m\u001b[0m_get_from_overpass\u001b[0m\u001b[0;34m(\u001b[0m\u001b[0mfull_query\u001b[0m\u001b[0;34m)\u001b[0m\u001b[0;34m\u001b[0m\u001b[0;34m\u001b[0m\u001b[0m\n\u001b[0m\u001b[1;32m     98\u001b[0m         \u001b[0mcontent_type\u001b[0m \u001b[0;34m=\u001b[0m \u001b[0mr\u001b[0m\u001b[0;34m.\u001b[0m\u001b[0mheaders\u001b[0m\u001b[0;34m.\u001b[0m\u001b[0mget\u001b[0m\u001b[0;34m(\u001b[0m\u001b[0;34m\"content-type\"\u001b[0m\u001b[0;34m)\u001b[0m\u001b[0;34m\u001b[0m\u001b[0;34m\u001b[0m\u001b[0m\n\u001b[1;32m     99\u001b[0m \u001b[0;34m\u001b[0m\u001b[0m\n",
            "\u001b[0;32m/usr/local/lib/python3.6/dist-packages/overpass/api.py\u001b[0m in \u001b[0;36m_get_from_overpass\u001b[0;34m(self, query)\u001b[0m\n\u001b[1;32m    179\u001b[0m                 \u001b[0;32mraise\u001b[0m \u001b[0mMultipleRequestsError\u001b[0m\u001b[0;34m(\u001b[0m\u001b[0;34m)\u001b[0m\u001b[0;34m\u001b[0m\u001b[0;34m\u001b[0m\u001b[0m\n\u001b[1;32m    180\u001b[0m             \u001b[0;32melif\u001b[0m \u001b[0mself\u001b[0m\u001b[0;34m.\u001b[0m\u001b[0m_status\u001b[0m \u001b[0;34m==\u001b[0m \u001b[0;36m504\u001b[0m\u001b[0;34m:\u001b[0m\u001b[0;34m\u001b[0m\u001b[0;34m\u001b[0m\u001b[0m\n\u001b[0;32m--> 181\u001b[0;31m                 \u001b[0;32mraise\u001b[0m \u001b[0mServerLoadError\u001b[0m\u001b[0;34m(\u001b[0m\u001b[0mself\u001b[0m\u001b[0;34m.\u001b[0m\u001b[0m_timeout\u001b[0m\u001b[0;34m)\u001b[0m\u001b[0;34m\u001b[0m\u001b[0;34m\u001b[0m\u001b[0m\n\u001b[0m\u001b[1;32m    182\u001b[0m             raise UnknownOverpassError(\n\u001b[1;32m    183\u001b[0m                 \u001b[0;34m\"The request returned status code {code}\"\u001b[0m\u001b[0;34m.\u001b[0m\u001b[0mformat\u001b[0m\u001b[0;34m(\u001b[0m\u001b[0mcode\u001b[0m\u001b[0;34m=\u001b[0m\u001b[0mself\u001b[0m\u001b[0;34m.\u001b[0m\u001b[0m_status\u001b[0m\u001b[0;34m)\u001b[0m\u001b[0;34m\u001b[0m\u001b[0;34m\u001b[0m\u001b[0m\n",
            "\u001b[0;31mServerLoadError\u001b[0m: 25"
          ]
        }
      ]
    },
    {
      "cell_type": "code",
      "metadata": {
        "id": "aA18QQC0UKyV"
      },
      "source": [
        "counts, distances = add_info(data, subway_data, radius=0.01)"
      ],
      "execution_count": null,
      "outputs": []
    },
    {
      "cell_type": "code",
      "metadata": {
        "id": "aBJeHF0kUQ83"
      },
      "source": [
        "data['count'] = np.array(counts)\n",
        "data['min_distance'] = np.array(distances)\n",
        "data.head(4)"
      ],
      "execution_count": null,
      "outputs": []
    },
    {
      "cell_type": "code",
      "metadata": {
        "id": "TvgFS1A9VepW"
      },
      "source": [
        "X = data[['count']]\n",
        "X.head()"
      ],
      "execution_count": null,
      "outputs": []
    },
    {
      "cell_type": "code",
      "metadata": {
        "colab": {
          "base_uri": "https://localhost:8080/",
          "height": 204
        },
        "id": "VN2lFlE0UYiF",
        "outputId": "bb86a241-5f61-4e94-e447-471f57dcdbe0"
      },
      "source": [
        "submission = pd.DataFrame([], columns=['point_id', 'target'])\n",
        "submission['point_id'] = data['point_id'].values\n",
        "submission['target'] = model.predict(X)\n",
        "submission.head()"
      ],
      "execution_count": null,
      "outputs": [
        {
          "output_type": "execute_result",
          "data": {
            "text/html": [
              "<div>\n",
              "<style scoped>\n",
              "    .dataframe tbody tr th:only-of-type {\n",
              "        vertical-align: middle;\n",
              "    }\n",
              "\n",
              "    .dataframe tbody tr th {\n",
              "        vertical-align: top;\n",
              "    }\n",
              "\n",
              "    .dataframe thead th {\n",
              "        text-align: right;\n",
              "    }\n",
              "</style>\n",
              "<table border=\"1\" class=\"dataframe\">\n",
              "  <thead>\n",
              "    <tr style=\"text-align: right;\">\n",
              "      <th></th>\n",
              "      <th>point_id</th>\n",
              "      <th>target</th>\n",
              "    </tr>\n",
              "  </thead>\n",
              "  <tbody>\n",
              "    <tr>\n",
              "      <th>0</th>\n",
              "      <td>F4lXR1cG</td>\n",
              "      <td>0.002239</td>\n",
              "    </tr>\n",
              "    <tr>\n",
              "      <th>1</th>\n",
              "      <td>4LJu4GTf</td>\n",
              "      <td>-0.021419</td>\n",
              "    </tr>\n",
              "    <tr>\n",
              "      <th>2</th>\n",
              "      <td>kLuAAN3s</td>\n",
              "      <td>-0.051633</td>\n",
              "    </tr>\n",
              "    <tr>\n",
              "      <th>3</th>\n",
              "      <td>OxQHvaNu</td>\n",
              "      <td>-0.051704</td>\n",
              "    </tr>\n",
              "    <tr>\n",
              "      <th>4</th>\n",
              "      <td>paQsTa1K</td>\n",
              "      <td>-0.046585</td>\n",
              "    </tr>\n",
              "  </tbody>\n",
              "</table>\n",
              "</div>"
            ],
            "text/plain": [
              "   point_id    target\n",
              "0  F4lXR1cG  0.002239\n",
              "1  4LJu4GTf -0.021419\n",
              "2  kLuAAN3s -0.051633\n",
              "3  OxQHvaNu -0.051704\n",
              "4  paQsTa1K -0.046585"
            ]
          },
          "metadata": {
            "tags": []
          },
          "execution_count": 146
        }
      ]
    },
    {
      "cell_type": "code",
      "metadata": {
        "id": "KQ9xd1lyV0VU"
      },
      "source": [
        "submission.to_csv('submission_02.csv', index=False)"
      ],
      "execution_count": null,
      "outputs": []
    },
    {
      "cell_type": "code",
      "metadata": {
        "id": "ndLxcE27I47u"
      },
      "source": [
        ""
      ],
      "execution_count": null,
      "outputs": []
    }
  ]
}