{
  "nbformat": 4,
  "nbformat_minor": 0,
  "metadata": {
    "colab": {
      "name": "AB-tests.ipynb",
      "provenance": [],
      "collapsed_sections": [
        "mZENYJQ3oorw",
        "3SUuFl6wdtuz",
        "InnC_5EOG1lm"
      ]
    },
    "kernelspec": {
      "name": "python3",
      "display_name": "Python 3"
    }
  },
  "cells": [
    {
      "cell_type": "code",
      "metadata": {
        "id": "HEsvkMiLpbvw",
        "colab": {
          "base_uri": "https://localhost:8080/",
          "height": 1000
        },
        "outputId": "231fb9d1-425e-44c7-aa0a-8bc0f14bb274"
      },
      "source": [
        "!pip install CausalInference\r\n",
        "!pip uninstall numpy\r\n",
        "!pip install numpy==1.18.5\r\n",
        "!pip install causalml\r\n",
        "import pandas as pd\r\n",
        "import numpy as np\r\n",
        "from scipy import stats\r\n",
        "import statsmodels.api as sm\r\n",
        "from causalinference import CausalModel\r\n",
        "\r\n",
        "from IPython.display import Image\r\n",
        "from causalml.inference.tree import UpliftTreeClassifier, UpliftRandomForestClassifier\r\n",
        "from causalml.inference.tree import uplift_tree_string, uplift_tree_plot\r\n",
        "from causalml.inference.meta import LRSRegressor"
      ],
      "execution_count": null,
      "outputs": [
        {
          "output_type": "stream",
          "text": [
            "Requirement already satisfied: CausalInference in /usr/local/lib/python3.6/dist-packages (0.1.3)\n",
            "Uninstalling numpy-1.18.5:\n",
            "  Would remove:\n",
            "    /usr/local/bin/f2py\n",
            "    /usr/local/bin/f2py3\n",
            "    /usr/local/bin/f2py3.6\n",
            "    /usr/local/lib/python3.6/dist-packages/numpy-1.18.5.dist-info/*\n",
            "    /usr/local/lib/python3.6/dist-packages/numpy.libs/libgfortran-ed201abd.so.3.0.0\n",
            "    /usr/local/lib/python3.6/dist-packages/numpy.libs/libopenblasp-r0-34a18dc3.3.7.so\n",
            "    /usr/local/lib/python3.6/dist-packages/numpy/*\n",
            "Proceed (y/n)? y\n",
            "  Successfully uninstalled numpy-1.18.5\n",
            "Collecting numpy==1.18.5\n",
            "  Using cached https://files.pythonhosted.org/packages/b3/a9/b1bc4c935ed063766bce7d3e8c7b20bd52e515ff1c732b02caacf7918e5a/numpy-1.18.5-cp36-cp36m-manylinux1_x86_64.whl\n",
            "\u001b[31mERROR: tensorflow 2.4.0 has requirement numpy~=1.19.2, but you'll have numpy 1.18.5 which is incompatible.\u001b[0m\n",
            "\u001b[31mERROR: datascience 0.10.6 has requirement folium==0.2.1, but you'll have folium 0.8.3 which is incompatible.\u001b[0m\n",
            "\u001b[31mERROR: albumentations 0.1.12 has requirement imgaug<0.2.7,>=0.2.5, but you'll have imgaug 0.2.9 which is incompatible.\u001b[0m\n",
            "Installing collected packages: numpy\n",
            "Successfully installed numpy-1.18.5\n"
          ],
          "name": "stdout"
        },
        {
          "output_type": "display_data",
          "data": {
            "application/vnd.colab-display-data+json": {
              "pip_warning": {
                "packages": [
                  "numpy"
                ]
              }
            }
          },
          "metadata": {
            "tags": []
          }
        },
        {
          "output_type": "stream",
          "text": [
            "Requirement already satisfied: causalml in /usr/local/lib/python3.6/dist-packages (0.9.0)\n",
            "Requirement already satisfied: pydotplus in /usr/local/lib/python3.6/dist-packages (from causalml) (2.0.2)\n",
            "Requirement already satisfied: shap in /usr/local/lib/python3.6/dist-packages (from causalml) (0.37.0)\n",
            "Requirement already satisfied: lightgbm in /usr/local/lib/python3.6/dist-packages (from causalml) (2.2.3)\n",
            "Requirement already satisfied: statsmodels>=0.9.0 in /usr/local/lib/python3.6/dist-packages (from causalml) (0.10.2)\n",
            "Requirement already satisfied: packaging in /usr/local/lib/python3.6/dist-packages (from causalml) (20.8)\n",
            "Requirement already satisfied: matplotlib in /usr/local/lib/python3.6/dist-packages (from causalml) (3.2.2)\n",
            "Requirement already satisfied: pygam in /usr/local/lib/python3.6/dist-packages (from causalml) (0.8.0)\n",
            "Requirement already satisfied: Cython>=0.28.0 in /usr/local/lib/python3.6/dist-packages (from causalml) (0.29.21)\n",
            "Requirement already satisfied: tensorflow>=1.15.2 in /usr/local/lib/python3.6/dist-packages (from causalml) (2.4.0)\n",
            "Requirement already satisfied: dill in /usr/local/lib/python3.6/dist-packages (from causalml) (0.3.3)\n",
            "Requirement already satisfied: scikit-learn>=0.22.0 in /usr/local/lib/python3.6/dist-packages (from causalml) (0.22.2.post1)\n",
            "Requirement already satisfied: scipy==1.4.1 in /usr/local/lib/python3.6/dist-packages (from causalml) (1.4.1)\n",
            "Requirement already satisfied: numpy<1.19.0,>=0.16.0 in /usr/local/lib/python3.6/dist-packages (from causalml) (1.18.5)\n",
            "Requirement already satisfied: pandas>=0.24.1 in /usr/local/lib/python3.6/dist-packages (from causalml) (1.1.5)\n",
            "Requirement already satisfied: seaborn in /usr/local/lib/python3.6/dist-packages (from causalml) (0.11.0)\n",
            "Requirement already satisfied: tqdm in /usr/local/lib/python3.6/dist-packages (from causalml) (4.41.1)\n",
            "Requirement already satisfied: setuptools>=41.0.0 in /usr/local/lib/python3.6/dist-packages (from causalml) (51.0.0)\n",
            "Requirement already satisfied: xgboost in /usr/local/lib/python3.6/dist-packages (from causalml) (0.90)\n",
            "Requirement already satisfied: keras in /usr/local/lib/python3.6/dist-packages (from causalml) (2.4.3)\n",
            "Requirement already satisfied: pip>=10.0 in /usr/local/lib/python3.6/dist-packages (from causalml) (19.3.1)\n",
            "Requirement already satisfied: pyparsing>=2.0.1 in /usr/local/lib/python3.6/dist-packages (from pydotplus->causalml) (2.4.7)\n",
            "Requirement already satisfied: numba in /usr/local/lib/python3.6/dist-packages (from shap->causalml) (0.48.0)\n",
            "Requirement already satisfied: slicer==0.0.3 in /usr/local/lib/python3.6/dist-packages (from shap->causalml) (0.0.3)\n",
            "Requirement already satisfied: patsy>=0.4.0 in /usr/local/lib/python3.6/dist-packages (from statsmodels>=0.9.0->causalml) (0.5.1)\n",
            "Requirement already satisfied: cycler>=0.10 in /usr/local/lib/python3.6/dist-packages (from matplotlib->causalml) (0.10.0)\n",
            "Requirement already satisfied: python-dateutil>=2.1 in /usr/local/lib/python3.6/dist-packages (from matplotlib->causalml) (2.8.1)\n",
            "Requirement already satisfied: kiwisolver>=1.0.1 in /usr/local/lib/python3.6/dist-packages (from matplotlib->causalml) (1.3.1)\n",
            "Requirement already satisfied: future in /usr/local/lib/python3.6/dist-packages (from pygam->causalml) (0.16.0)\n",
            "Requirement already satisfied: progressbar2 in /usr/local/lib/python3.6/dist-packages (from pygam->causalml) (3.38.0)\n",
            "Requirement already satisfied: typing-extensions~=3.7.4 in /usr/local/lib/python3.6/dist-packages (from tensorflow>=1.15.2->causalml) (3.7.4.3)\n",
            "Requirement already satisfied: six~=1.15.0 in /usr/local/lib/python3.6/dist-packages (from tensorflow>=1.15.2->causalml) (1.15.0)\n",
            "Requirement already satisfied: h5py~=2.10.0 in /usr/local/lib/python3.6/dist-packages (from tensorflow>=1.15.2->causalml) (2.10.0)\n",
            "Requirement already satisfied: wheel~=0.35 in /usr/local/lib/python3.6/dist-packages (from tensorflow>=1.15.2->causalml) (0.36.2)\n",
            "Requirement already satisfied: wrapt~=1.12.1 in /usr/local/lib/python3.6/dist-packages (from tensorflow>=1.15.2->causalml) (1.12.1)\n",
            "Requirement already satisfied: tensorflow-estimator<2.5.0,>=2.4.0rc0 in /usr/local/lib/python3.6/dist-packages (from tensorflow>=1.15.2->causalml) (2.4.0)\n",
            "Requirement already satisfied: flatbuffers~=1.12.0 in /usr/local/lib/python3.6/dist-packages (from tensorflow>=1.15.2->causalml) (1.12)\n",
            "Requirement already satisfied: keras-preprocessing~=1.1.2 in /usr/local/lib/python3.6/dist-packages (from tensorflow>=1.15.2->causalml) (1.1.2)\n",
            "Requirement already satisfied: astunparse~=1.6.3 in /usr/local/lib/python3.6/dist-packages (from tensorflow>=1.15.2->causalml) (1.6.3)\n",
            "Requirement already satisfied: google-pasta~=0.2 in /usr/local/lib/python3.6/dist-packages (from tensorflow>=1.15.2->causalml) (0.2.0)\n",
            "Requirement already satisfied: opt-einsum~=3.3.0 in /usr/local/lib/python3.6/dist-packages (from tensorflow>=1.15.2->causalml) (3.3.0)\n",
            "Requirement already satisfied: termcolor~=1.1.0 in /usr/local/lib/python3.6/dist-packages (from tensorflow>=1.15.2->causalml) (1.1.0)\n",
            "Requirement already satisfied: absl-py~=0.10 in /usr/local/lib/python3.6/dist-packages (from tensorflow>=1.15.2->causalml) (0.10.0)\n",
            "Requirement already satisfied: gast==0.3.3 in /usr/local/lib/python3.6/dist-packages (from tensorflow>=1.15.2->causalml) (0.3.3)\n",
            "Requirement already satisfied: grpcio~=1.32.0 in /usr/local/lib/python3.6/dist-packages (from tensorflow>=1.15.2->causalml) (1.32.0)\n",
            "Requirement already satisfied: tensorboard~=2.4 in /usr/local/lib/python3.6/dist-packages (from tensorflow>=1.15.2->causalml) (2.4.0)\n",
            "Requirement already satisfied: protobuf>=3.9.2 in /usr/local/lib/python3.6/dist-packages (from tensorflow>=1.15.2->causalml) (3.12.4)\n",
            "Requirement already satisfied: joblib>=0.11 in /usr/local/lib/python3.6/dist-packages (from scikit-learn>=0.22.0->causalml) (1.0.0)\n",
            "Requirement already satisfied: pytz>=2017.2 in /usr/local/lib/python3.6/dist-packages (from pandas>=0.24.1->causalml) (2018.9)\n",
            "Requirement already satisfied: pyyaml in /usr/local/lib/python3.6/dist-packages (from keras->causalml) (3.13)\n",
            "Requirement already satisfied: llvmlite<0.32.0,>=0.31.0dev0 in /usr/local/lib/python3.6/dist-packages (from numba->shap->causalml) (0.31.0)\n",
            "Requirement already satisfied: python-utils>=2.3.0 in /usr/local/lib/python3.6/dist-packages (from progressbar2->pygam->causalml) (2.4.0)\n",
            "Requirement already satisfied: google-auth-oauthlib<0.5,>=0.4.1 in /usr/local/lib/python3.6/dist-packages (from tensorboard~=2.4->tensorflow>=1.15.2->causalml) (0.4.2)\n",
            "Requirement already satisfied: requests<3,>=2.21.0 in /usr/local/lib/python3.6/dist-packages (from tensorboard~=2.4->tensorflow>=1.15.2->causalml) (2.23.0)\n",
            "Requirement already satisfied: werkzeug>=0.11.15 in /usr/local/lib/python3.6/dist-packages (from tensorboard~=2.4->tensorflow>=1.15.2->causalml) (1.0.1)\n",
            "Requirement already satisfied: tensorboard-plugin-wit>=1.6.0 in /usr/local/lib/python3.6/dist-packages (from tensorboard~=2.4->tensorflow>=1.15.2->causalml) (1.7.0)\n",
            "Requirement already satisfied: markdown>=2.6.8 in /usr/local/lib/python3.6/dist-packages (from tensorboard~=2.4->tensorflow>=1.15.2->causalml) (3.3.3)\n",
            "Requirement already satisfied: google-auth<2,>=1.6.3 in /usr/local/lib/python3.6/dist-packages (from tensorboard~=2.4->tensorflow>=1.15.2->causalml) (1.17.2)\n",
            "Requirement already satisfied: requests-oauthlib>=0.7.0 in /usr/local/lib/python3.6/dist-packages (from google-auth-oauthlib<0.5,>=0.4.1->tensorboard~=2.4->tensorflow>=1.15.2->causalml) (1.3.0)\n",
            "Requirement already satisfied: certifi>=2017.4.17 in /usr/local/lib/python3.6/dist-packages (from requests<3,>=2.21.0->tensorboard~=2.4->tensorflow>=1.15.2->causalml) (2020.12.5)\n",
            "Requirement already satisfied: chardet<4,>=3.0.2 in /usr/local/lib/python3.6/dist-packages (from requests<3,>=2.21.0->tensorboard~=2.4->tensorflow>=1.15.2->causalml) (3.0.4)\n",
            "Requirement already satisfied: urllib3!=1.25.0,!=1.25.1,<1.26,>=1.21.1 in /usr/local/lib/python3.6/dist-packages (from requests<3,>=2.21.0->tensorboard~=2.4->tensorflow>=1.15.2->causalml) (1.24.3)\n",
            "Requirement already satisfied: idna<3,>=2.5 in /usr/local/lib/python3.6/dist-packages (from requests<3,>=2.21.0->tensorboard~=2.4->tensorflow>=1.15.2->causalml) (2.10)\n",
            "Requirement already satisfied: importlib-metadata; python_version < \"3.8\" in /usr/local/lib/python3.6/dist-packages (from markdown>=2.6.8->tensorboard~=2.4->tensorflow>=1.15.2->causalml) (3.3.0)\n",
            "Requirement already satisfied: rsa<5,>=3.1.4; python_version >= \"3\" in /usr/local/lib/python3.6/dist-packages (from google-auth<2,>=1.6.3->tensorboard~=2.4->tensorflow>=1.15.2->causalml) (4.6)\n",
            "Requirement already satisfied: cachetools<5.0,>=2.0.0 in /usr/local/lib/python3.6/dist-packages (from google-auth<2,>=1.6.3->tensorboard~=2.4->tensorflow>=1.15.2->causalml) (4.2.0)\n",
            "Requirement already satisfied: pyasn1-modules>=0.2.1 in /usr/local/lib/python3.6/dist-packages (from google-auth<2,>=1.6.3->tensorboard~=2.4->tensorflow>=1.15.2->causalml) (0.2.8)\n",
            "Requirement already satisfied: oauthlib>=3.0.0 in /usr/local/lib/python3.6/dist-packages (from requests-oauthlib>=0.7.0->google-auth-oauthlib<0.5,>=0.4.1->tensorboard~=2.4->tensorflow>=1.15.2->causalml) (3.1.0)\n",
            "Requirement already satisfied: zipp>=0.5 in /usr/local/lib/python3.6/dist-packages (from importlib-metadata; python_version < \"3.8\"->markdown>=2.6.8->tensorboard~=2.4->tensorflow>=1.15.2->causalml) (3.4.0)\n",
            "Requirement already satisfied: pyasn1>=0.1.3 in /usr/local/lib/python3.6/dist-packages (from rsa<5,>=3.1.4; python_version >= \"3\"->google-auth<2,>=1.6.3->tensorboard~=2.4->tensorflow>=1.15.2->causalml) (0.4.8)\n"
          ],
          "name": "stdout"
        }
      ]
    },
    {
      "cell_type": "code",
      "metadata": {
        "colab": {
          "base_uri": "https://localhost:8080/"
        },
        "id": "PaOoKX5NoO6O",
        "outputId": "adc44b0d-090c-416d-f9d0-02569323ccc7"
      },
      "source": [
        "from google.colab import drive\r\n",
        "drive.mount('/content/gdrive')\r\n",
        "DATA_PATH = '/content/gdrive/MyDrive/Colab Notebooks/AB-data'"
      ],
      "execution_count": null,
      "outputs": [
        {
          "output_type": "stream",
          "text": [
            "Drive already mounted at /content/gdrive; to attempt to forcibly remount, call drive.mount(\"/content/gdrive\", force_remount=True).\n"
          ],
          "name": "stdout"
        }
      ]
    },
    {
      "cell_type": "markdown",
      "metadata": {
        "id": "mZENYJQ3oorw"
      },
      "source": [
        "### 1. Оценка результатов AB теста\r\n",
        "В данном задании вам требуется оценить результаты AB теста. Даны результаты на контрольной и тестовой группе после проведения AB теста. Помимо показателей целевой переменной, вам даны также несколько фичей, которые являются характеристиками объектов. Даны целевые показатели (y) и принадлежность к целевой группе (W).\r\n",
        "\r\n",
        "Задача:\r\n",
        "1. Проверьте подходящую для данных гипотезу о равенстве средних в выборках\r\n",
        "2. Каков treatment effect нашего воздействия? (ATE)\r\n",
        "3. Примените известные вам методы оценки ATE с учетом особенностей данных.\r\n",
        "4. Проанализируйте, сравните результаты применения различных методов.\r\n",
        "5. В явном виде выпишите выводы.\r\n",
        "*Примечание: предположения о рандомизированном эксперименте нуждаются в проверке - независимость treatment от объектов не гарантирована. Все предположения выписывайте явно.*\r\n",
        "\r\n",
        "Для данной задачи используется dataset: dataset_part1_students.csv"
      ]
    },
    {
      "cell_type": "code",
      "metadata": {
        "colab": {
          "base_uri": "https://localhost:8080/",
          "height": 204
        },
        "id": "7FIpeejopDw3",
        "outputId": "7eaa76a5-4706-4275-b533-f65eb8699ecf"
      },
      "source": [
        "data = pd.read_csv('{}/dataset_part1_students.csv'.format(DATA_PATH), sep='\\t')\r\n",
        "data.head()"
      ],
      "execution_count": null,
      "outputs": [
        {
          "output_type": "execute_result",
          "data": {
            "text/html": [
              "<div>\n",
              "<style scoped>\n",
              "    .dataframe tbody tr th:only-of-type {\n",
              "        vertical-align: middle;\n",
              "    }\n",
              "\n",
              "    .dataframe tbody tr th {\n",
              "        vertical-align: top;\n",
              "    }\n",
              "\n",
              "    .dataframe thead th {\n",
              "        text-align: right;\n",
              "    }\n",
              "</style>\n",
              "<table border=\"1\" class=\"dataframe\">\n",
              "  <thead>\n",
              "    <tr style=\"text-align: right;\">\n",
              "      <th></th>\n",
              "      <th>y</th>\n",
              "      <th>W</th>\n",
              "      <th>X_1</th>\n",
              "      <th>X_2</th>\n",
              "      <th>X_3</th>\n",
              "      <th>X_4</th>\n",
              "      <th>X_5</th>\n",
              "      <th>X_6</th>\n",
              "      <th>X_7</th>\n",
              "      <th>X_8</th>\n",
              "      <th>X_9</th>\n",
              "      <th>X_10</th>\n",
              "    </tr>\n",
              "  </thead>\n",
              "  <tbody>\n",
              "    <tr>\n",
              "      <th>0</th>\n",
              "      <td>-1.459404</td>\n",
              "      <td>0.0</td>\n",
              "      <td>0.986277</td>\n",
              "      <td>0.873392</td>\n",
              "      <td>0.509746</td>\n",
              "      <td>0.271836</td>\n",
              "      <td>0.336919</td>\n",
              "      <td>0.216954</td>\n",
              "      <td>0.276477</td>\n",
              "      <td>0.343316</td>\n",
              "      <td>0.862159</td>\n",
              "      <td>0.156700</td>\n",
              "    </tr>\n",
              "    <tr>\n",
              "      <th>1</th>\n",
              "      <td>-1.694174</td>\n",
              "      <td>0.0</td>\n",
              "      <td>0.140887</td>\n",
              "      <td>0.757080</td>\n",
              "      <td>0.736325</td>\n",
              "      <td>0.355663</td>\n",
              "      <td>0.341093</td>\n",
              "      <td>0.666803</td>\n",
              "      <td>0.217101</td>\n",
              "      <td>0.561427</td>\n",
              "      <td>0.124179</td>\n",
              "      <td>0.319736</td>\n",
              "    </tr>\n",
              "    <tr>\n",
              "      <th>2</th>\n",
              "      <td>5.378374</td>\n",
              "      <td>0.0</td>\n",
              "      <td>0.953214</td>\n",
              "      <td>0.137357</td>\n",
              "      <td>0.569413</td>\n",
              "      <td>0.975665</td>\n",
              "      <td>0.503367</td>\n",
              "      <td>0.667664</td>\n",
              "      <td>0.034191</td>\n",
              "      <td>0.456119</td>\n",
              "      <td>0.155851</td>\n",
              "      <td>0.476049</td>\n",
              "    </tr>\n",
              "    <tr>\n",
              "      <th>3</th>\n",
              "      <td>2.188189</td>\n",
              "      <td>1.0</td>\n",
              "      <td>0.169702</td>\n",
              "      <td>0.896258</td>\n",
              "      <td>0.373394</td>\n",
              "      <td>0.379693</td>\n",
              "      <td>0.858317</td>\n",
              "      <td>0.646061</td>\n",
              "      <td>0.583462</td>\n",
              "      <td>0.668350</td>\n",
              "      <td>0.177793</td>\n",
              "      <td>0.849248</td>\n",
              "    </tr>\n",
              "    <tr>\n",
              "      <th>4</th>\n",
              "      <td>2.862696</td>\n",
              "      <td>1.0</td>\n",
              "      <td>0.442373</td>\n",
              "      <td>0.831468</td>\n",
              "      <td>0.763921</td>\n",
              "      <td>0.919691</td>\n",
              "      <td>0.070573</td>\n",
              "      <td>0.156165</td>\n",
              "      <td>0.636894</td>\n",
              "      <td>0.555696</td>\n",
              "      <td>0.191929</td>\n",
              "      <td>0.425656</td>\n",
              "    </tr>\n",
              "  </tbody>\n",
              "</table>\n",
              "</div>"
            ],
            "text/plain": [
              "          y    W       X_1       X_2  ...       X_7       X_8       X_9      X_10\n",
              "0 -1.459404  0.0  0.986277  0.873392  ...  0.276477  0.343316  0.862159  0.156700\n",
              "1 -1.694174  0.0  0.140887  0.757080  ...  0.217101  0.561427  0.124179  0.319736\n",
              "2  5.378374  0.0  0.953214  0.137357  ...  0.034191  0.456119  0.155851  0.476049\n",
              "3  2.188189  1.0  0.169702  0.896258  ...  0.583462  0.668350  0.177793  0.849248\n",
              "4  2.862696  1.0  0.442373  0.831468  ...  0.636894  0.555696  0.191929  0.425656\n",
              "\n",
              "[5 rows x 12 columns]"
            ]
          },
          "metadata": {
            "tags": []
          },
          "execution_count": 56
        }
      ]
    },
    {
      "cell_type": "code",
      "metadata": {
        "id": "gSZfM-PypaDG",
        "colab": {
          "base_uri": "https://localhost:8080/"
        },
        "outputId": "6edb96e4-8997-4cd6-b43f-41dbbb61131e"
      },
      "source": [
        "def t_test(target):\r\n",
        "  # Проверю гипотезу о равенстве средних в выборках\r\n",
        "  control_group = data[data['W'] == 0][target].values # контрольная группа\r\n",
        "  test_group = data[data['W'] == 1][target].values # тестовая группа\r\n",
        "  alpha = 0.05\r\n",
        "\r\n",
        "  T = (abs(control_group.mean() - test_group.mean())) / np.sqrt(control_group.std(ddof=1)**2/control_group.shape[0] + test_group.std(ddof=1)**2/test_group.shape[0])\r\n",
        "  st = stats.t.ppf(1 - alpha, df=control_group.shape[0] + test_group.shape[0] - 2)\r\n",
        "  p_value = (1 - stats.t.cdf(T, df=control_group.shape[0] + test_group.shape[0] - 2)) * 2\r\n",
        "\r\n",
        "  print('t:', round(T, 4))\r\n",
        "  print('st:', round(st, 4))\r\n",
        "  #print('p value:', round(p_value, 4))\r\n",
        "  if T < st:\r\n",
        "    print('T < St => принимается нулевая гипотеза о равенстве средних в выборках')\r\n",
        "  else:\r\n",
        "    print('T >= St => нулевая гипотеза отвергается в пользу альтернативы')\r\n",
        "\r\n",
        "t_test('y')"
      ],
      "execution_count": null,
      "outputs": [
        {
          "output_type": "stream",
          "text": [
            "t: 9.3326\n",
            "st: 1.6449\n",
            "T >= St => нулевая гипотеза отвергается в пользу альтернативы\n"
          ],
          "name": "stdout"
        }
      ]
    },
    {
      "cell_type": "code",
      "metadata": {
        "colab": {
          "base_uri": "https://localhost:8080/"
        },
        "id": "AQE3byK4Brnz",
        "outputId": "0eebd797-bc89-49ed-f7dd-88b5e22244aa"
      },
      "source": [
        "def treatment_effect(target):\r\n",
        "  # treatment effect\r\n",
        "  control_group = data[data['W'] == 0][target].values # контрольная группа\r\n",
        "  test_group = data[data['W'] == 1][target].values # тестовая группа\r\n",
        "  ate = test_group.mean() - control_group.mean()\r\n",
        "  print('treatment effect:', round(ate, 3))\r\n",
        "\r\n",
        "treatment_effect('y')"
      ],
      "execution_count": null,
      "outputs": [
        {
          "output_type": "stream",
          "text": [
            "treatment effect: 0.4\n"
          ],
          "name": "stdout"
        }
      ]
    },
    {
      "cell_type": "code",
      "metadata": {
        "id": "Vb24YaXGFyKn",
        "colab": {
          "base_uri": "https://localhost:8080/",
          "height": 654
        },
        "outputId": "376df8ae-fc8b-4905-dc88-e8877f6c8b50"
      },
      "source": [
        "def ate_regression(target, ind):\r\n",
        "  # ate регрессия\r\n",
        "  x = data.iloc[:, ind:]\r\n",
        "  y = data[target]\r\n",
        "  X = sm.add_constant(x)\r\n",
        "  model = sm.OLS(y,X)\r\n",
        "  results = model.fit()\r\n",
        "  return results.summary()\r\n",
        "\r\n",
        "ate_regression('y', 1)"
      ],
      "execution_count": null,
      "outputs": [
        {
          "output_type": "execute_result",
          "data": {
            "text/html": [
              "<table class=\"simpletable\">\n",
              "<caption>OLS Regression Results</caption>\n",
              "<tr>\n",
              "  <th>Dep. Variable:</th>            <td>y</td>        <th>  R-squared:         </th> <td>   0.016</td> \n",
              "</tr>\n",
              "<tr>\n",
              "  <th>Model:</th>                   <td>OLS</td>       <th>  Adj. R-squared:    </th> <td>   0.015</td> \n",
              "</tr>\n",
              "<tr>\n",
              "  <th>Method:</th>             <td>Least Squares</td>  <th>  F-statistic:       </th> <td>   28.94</td> \n",
              "</tr>\n",
              "<tr>\n",
              "  <th>Date:</th>             <td>Wed, 23 Dec 2020</td> <th>  Prob (F-statistic):</th> <td>3.99e-61</td> \n",
              "</tr>\n",
              "<tr>\n",
              "  <th>Time:</th>                 <td>11:38:48</td>     <th>  Log-Likelihood:    </th> <td> -50425.</td> \n",
              "</tr>\n",
              "<tr>\n",
              "  <th>No. Observations:</th>      <td> 20000</td>      <th>  AIC:               </th> <td>1.009e+05</td>\n",
              "</tr>\n",
              "<tr>\n",
              "  <th>Df Residuals:</th>          <td> 19988</td>      <th>  BIC:               </th> <td>1.010e+05</td>\n",
              "</tr>\n",
              "<tr>\n",
              "  <th>Df Model:</th>              <td>    11</td>      <th>                     </th>     <td> </td>    \n",
              "</tr>\n",
              "<tr>\n",
              "  <th>Covariance Type:</th>      <td>nonrobust</td>    <th>                     </th>     <td> </td>    \n",
              "</tr>\n",
              "</table>\n",
              "<table class=\"simpletable\">\n",
              "<tr>\n",
              "    <td></td>       <th>coef</th>     <th>std err</th>      <th>t</th>      <th>P>|t|</th>  <th>[0.025</th>    <th>0.975]</th>  \n",
              "</tr>\n",
              "<tr>\n",
              "  <th>const</th> <td>    1.4198</td> <td>    0.119</td> <td>   11.981</td> <td> 0.000</td> <td>    1.188</td> <td>    1.652</td>\n",
              "</tr>\n",
              "<tr>\n",
              "  <th>W</th>     <td>    0.5134</td> <td>    0.049</td> <td>   10.467</td> <td> 0.000</td> <td>    0.417</td> <td>    0.610</td>\n",
              "</tr>\n",
              "<tr>\n",
              "  <th>X_1</th>   <td>   -0.2255</td> <td>    0.080</td> <td>   -2.832</td> <td> 0.005</td> <td>   -0.382</td> <td>   -0.069</td>\n",
              "</tr>\n",
              "<tr>\n",
              "  <th>X_2</th>   <td>   -0.3571</td> <td>    0.079</td> <td>   -4.502</td> <td> 0.000</td> <td>   -0.513</td> <td>   -0.202</td>\n",
              "</tr>\n",
              "<tr>\n",
              "  <th>X_3</th>   <td>   -0.0980</td> <td>    0.073</td> <td>   -1.333</td> <td> 0.183</td> <td>   -0.242</td> <td>    0.046</td>\n",
              "</tr>\n",
              "<tr>\n",
              "  <th>X_4</th>   <td>    0.9345</td> <td>    0.074</td> <td>   12.637</td> <td> 0.000</td> <td>    0.790</td> <td>    1.079</td>\n",
              "</tr>\n",
              "<tr>\n",
              "  <th>X_5</th>   <td>    0.4214</td> <td>    0.074</td> <td>    5.707</td> <td> 0.000</td> <td>    0.277</td> <td>    0.566</td>\n",
              "</tr>\n",
              "<tr>\n",
              "  <th>X_6</th>   <td>    0.1857</td> <td>    0.074</td> <td>    2.519</td> <td> 0.012</td> <td>    0.041</td> <td>    0.330</td>\n",
              "</tr>\n",
              "<tr>\n",
              "  <th>X_7</th>   <td>    0.0839</td> <td>    0.074</td> <td>    1.134</td> <td> 0.257</td> <td>   -0.061</td> <td>    0.229</td>\n",
              "</tr>\n",
              "<tr>\n",
              "  <th>X_8</th>   <td>   -0.1041</td> <td>    0.074</td> <td>   -1.409</td> <td> 0.159</td> <td>   -0.249</td> <td>    0.041</td>\n",
              "</tr>\n",
              "<tr>\n",
              "  <th>X_9</th>   <td>   -0.1173</td> <td>    0.074</td> <td>   -1.587</td> <td> 0.112</td> <td>   -0.262</td> <td>    0.028</td>\n",
              "</tr>\n",
              "<tr>\n",
              "  <th>X_10</th>  <td>    0.0494</td> <td>    0.074</td> <td>    0.667</td> <td> 0.505</td> <td>   -0.096</td> <td>    0.194</td>\n",
              "</tr>\n",
              "</table>\n",
              "<table class=\"simpletable\">\n",
              "<tr>\n",
              "  <th>Omnibus:</th>       <td> 0.441</td> <th>  Durbin-Watson:     </th> <td>   1.998</td>\n",
              "</tr>\n",
              "<tr>\n",
              "  <th>Prob(Omnibus):</th> <td> 0.802</td> <th>  Jarque-Bera (JB):  </th> <td>   0.460</td>\n",
              "</tr>\n",
              "<tr>\n",
              "  <th>Skew:</th>          <td>-0.009</td> <th>  Prob(JB):          </th> <td>   0.795</td>\n",
              "</tr>\n",
              "<tr>\n",
              "  <th>Kurtosis:</th>      <td> 2.984</td> <th>  Cond. No.          </th> <td>    12.9</td>\n",
              "</tr>\n",
              "</table><br/><br/>Warnings:<br/>[1] Standard Errors assume that the covariance matrix of the errors is correctly specified."
            ],
            "text/plain": [
              "<class 'statsmodels.iolib.summary.Summary'>\n",
              "\"\"\"\n",
              "                            OLS Regression Results                            \n",
              "==============================================================================\n",
              "Dep. Variable:                      y   R-squared:                       0.016\n",
              "Model:                            OLS   Adj. R-squared:                  0.015\n",
              "Method:                 Least Squares   F-statistic:                     28.94\n",
              "Date:                Wed, 23 Dec 2020   Prob (F-statistic):           3.99e-61\n",
              "Time:                        11:38:48   Log-Likelihood:                -50425.\n",
              "No. Observations:               20000   AIC:                         1.009e+05\n",
              "Df Residuals:                   19988   BIC:                         1.010e+05\n",
              "Df Model:                          11                                         \n",
              "Covariance Type:            nonrobust                                         \n",
              "==============================================================================\n",
              "                 coef    std err          t      P>|t|      [0.025      0.975]\n",
              "------------------------------------------------------------------------------\n",
              "const          1.4198      0.119     11.981      0.000       1.188       1.652\n",
              "W              0.5134      0.049     10.467      0.000       0.417       0.610\n",
              "X_1           -0.2255      0.080     -2.832      0.005      -0.382      -0.069\n",
              "X_2           -0.3571      0.079     -4.502      0.000      -0.513      -0.202\n",
              "X_3           -0.0980      0.073     -1.333      0.183      -0.242       0.046\n",
              "X_4            0.9345      0.074     12.637      0.000       0.790       1.079\n",
              "X_5            0.4214      0.074      5.707      0.000       0.277       0.566\n",
              "X_6            0.1857      0.074      2.519      0.012       0.041       0.330\n",
              "X_7            0.0839      0.074      1.134      0.257      -0.061       0.229\n",
              "X_8           -0.1041      0.074     -1.409      0.159      -0.249       0.041\n",
              "X_9           -0.1173      0.074     -1.587      0.112      -0.262       0.028\n",
              "X_10           0.0494      0.074      0.667      0.505      -0.096       0.194\n",
              "==============================================================================\n",
              "Omnibus:                        0.441   Durbin-Watson:                   1.998\n",
              "Prob(Omnibus):                  0.802   Jarque-Bera (JB):                0.460\n",
              "Skew:                          -0.009   Prob(JB):                        0.795\n",
              "Kurtosis:                       2.984   Cond. No.                         12.9\n",
              "==============================================================================\n",
              "\n",
              "Warnings:\n",
              "[1] Standard Errors assume that the covariance matrix of the errors is correctly specified.\n",
              "\"\"\""
            ]
          },
          "metadata": {
            "tags": []
          },
          "execution_count": 59
        }
      ]
    },
    {
      "cell_type": "markdown",
      "metadata": {
        "id": "-d1Fli36750u"
      },
      "source": [
        "Применение линейной регрессии для вычисления ate дало результат 0.5134\r\n",
        "\r\n",
        "Данный результат примерно согласуется с найденным наивным значением ate 0.4 выявляя положительное влияние контрольной группы"
      ]
    },
    {
      "cell_type": "code",
      "metadata": {
        "colab": {
          "base_uri": "https://localhost:8080/"
        },
        "id": "B5gORdQmLpB0",
        "outputId": "8190c283-bd43-4f1d-fbf4-ff513b2ae22f"
      },
      "source": [
        "causal = CausalModel(\r\n",
        "    Y=data['y'], D=data['W'], X=data.iloc[:, 2:]\r\n",
        ")\r\n",
        "\r\n",
        "causal.est_via_ols(adj=1)\r\n",
        "print(causal.estimates)"
      ],
      "execution_count": null,
      "outputs": [
        {
          "output_type": "stream",
          "text": [
            "\n",
            "Treatment Effect Estimates: OLS\n",
            "\n",
            "                     Est.       S.e.          z      P>|z|      [95% Conf. int.]\n",
            "--------------------------------------------------------------------------------\n",
            "           ATE      0.513      0.049     10.458      0.000      0.417      0.610\n",
            "\n"
          ],
          "name": "stdout"
        }
      ]
    },
    {
      "cell_type": "markdown",
      "metadata": {
        "id": "3SUuFl6wdtuz"
      },
      "source": [
        "### 2. Оценка результатов AB теста с показателями до начала эксперимента\r\n",
        "Необходимо как и ранее оценить результаты AB теста, а именно ATE. Вы располагаете результатами до и после проведения теста (y_0 и y_1), а также вам дан treatment assignment (W).\r\n",
        "\r\n",
        "Необходимо:\r\n",
        "\r\n",
        "1. Проверить все требуемые гипотезы\r\n",
        "2. Оценить ATE подходящим для этого случая методом (примените несколько методов)\r\n",
        "3. Сравнить и проанализировать результаты оценок\r\n",
        "4. Явно выписать выводы.\r\n",
        "5. Как и прежде, все предположения должны быть указаны. Визуализация результатов приветствуется.\r\n",
        "\r\n",
        "dataset_part2_students.csv"
      ]
    },
    {
      "cell_type": "code",
      "metadata": {
        "colab": {
          "base_uri": "https://localhost:8080/",
          "height": 204
        },
        "id": "T_UD_K7nZXxm",
        "outputId": "3e2c86e1-6f3b-4029-873c-40b4b216f19e"
      },
      "source": [
        "data = pd.read_csv('{}/dataset_part2_students.csv'.format(DATA_PATH), sep='\\t')\r\n",
        "data.head()"
      ],
      "execution_count": null,
      "outputs": [
        {
          "output_type": "execute_result",
          "data": {
            "text/html": [
              "<div>\n",
              "<style scoped>\n",
              "    .dataframe tbody tr th:only-of-type {\n",
              "        vertical-align: middle;\n",
              "    }\n",
              "\n",
              "    .dataframe tbody tr th {\n",
              "        vertical-align: top;\n",
              "    }\n",
              "\n",
              "    .dataframe thead th {\n",
              "        text-align: right;\n",
              "    }\n",
              "</style>\n",
              "<table border=\"1\" class=\"dataframe\">\n",
              "  <thead>\n",
              "    <tr style=\"text-align: right;\">\n",
              "      <th></th>\n",
              "      <th>y_1</th>\n",
              "      <th>y_0</th>\n",
              "      <th>W</th>\n",
              "      <th>X_1</th>\n",
              "      <th>X_2</th>\n",
              "      <th>X_3</th>\n",
              "      <th>X_4</th>\n",
              "      <th>X_5</th>\n",
              "      <th>X_6</th>\n",
              "      <th>X_7</th>\n",
              "      <th>X_8</th>\n",
              "      <th>X_9</th>\n",
              "      <th>X_10</th>\n",
              "    </tr>\n",
              "  </thead>\n",
              "  <tbody>\n",
              "    <tr>\n",
              "      <th>0</th>\n",
              "      <td>5.887156</td>\n",
              "      <td>2.785060</td>\n",
              "      <td>1.0</td>\n",
              "      <td>0.605978</td>\n",
              "      <td>0.733369</td>\n",
              "      <td>0.138947</td>\n",
              "      <td>0.312673</td>\n",
              "      <td>0.997243</td>\n",
              "      <td>0.128162</td>\n",
              "      <td>0.178993</td>\n",
              "      <td>0.752925</td>\n",
              "      <td>0.662161</td>\n",
              "      <td>0.784310</td>\n",
              "    </tr>\n",
              "    <tr>\n",
              "      <th>1</th>\n",
              "      <td>2.232601</td>\n",
              "      <td>5.533515</td>\n",
              "      <td>0.0</td>\n",
              "      <td>0.096894</td>\n",
              "      <td>0.058571</td>\n",
              "      <td>0.962396</td>\n",
              "      <td>0.616557</td>\n",
              "      <td>0.086630</td>\n",
              "      <td>0.561272</td>\n",
              "      <td>0.616525</td>\n",
              "      <td>0.963843</td>\n",
              "      <td>0.574304</td>\n",
              "      <td>0.371161</td>\n",
              "    </tr>\n",
              "    <tr>\n",
              "      <th>2</th>\n",
              "      <td>0.144419</td>\n",
              "      <td>0.095546</td>\n",
              "      <td>1.0</td>\n",
              "      <td>0.452145</td>\n",
              "      <td>0.201850</td>\n",
              "      <td>0.569305</td>\n",
              "      <td>0.195096</td>\n",
              "      <td>0.583704</td>\n",
              "      <td>0.476313</td>\n",
              "      <td>0.517814</td>\n",
              "      <td>0.823099</td>\n",
              "      <td>0.732225</td>\n",
              "      <td>0.069056</td>\n",
              "    </tr>\n",
              "    <tr>\n",
              "      <th>3</th>\n",
              "      <td>-2.446425</td>\n",
              "      <td>3.590472</td>\n",
              "      <td>1.0</td>\n",
              "      <td>0.672129</td>\n",
              "      <td>0.643485</td>\n",
              "      <td>0.828014</td>\n",
              "      <td>0.204469</td>\n",
              "      <td>0.617489</td>\n",
              "      <td>0.617701</td>\n",
              "      <td>0.301069</td>\n",
              "      <td>0.871741</td>\n",
              "      <td>0.589654</td>\n",
              "      <td>0.981770</td>\n",
              "    </tr>\n",
              "    <tr>\n",
              "      <th>4</th>\n",
              "      <td>2.163090</td>\n",
              "      <td>1.365405</td>\n",
              "      <td>0.0</td>\n",
              "      <td>0.442232</td>\n",
              "      <td>0.126318</td>\n",
              "      <td>0.508831</td>\n",
              "      <td>0.431786</td>\n",
              "      <td>0.915940</td>\n",
              "      <td>0.709016</td>\n",
              "      <td>0.890655</td>\n",
              "      <td>0.588886</td>\n",
              "      <td>0.636830</td>\n",
              "      <td>0.342209</td>\n",
              "    </tr>\n",
              "  </tbody>\n",
              "</table>\n",
              "</div>"
            ],
            "text/plain": [
              "        y_1       y_0    W       X_1  ...       X_7       X_8       X_9      X_10\n",
              "0  5.887156  2.785060  1.0  0.605978  ...  0.178993  0.752925  0.662161  0.784310\n",
              "1  2.232601  5.533515  0.0  0.096894  ...  0.616525  0.963843  0.574304  0.371161\n",
              "2  0.144419  0.095546  1.0  0.452145  ...  0.517814  0.823099  0.732225  0.069056\n",
              "3 -2.446425  3.590472  1.0  0.672129  ...  0.301069  0.871741  0.589654  0.981770\n",
              "4  2.163090  1.365405  0.0  0.442232  ...  0.890655  0.588886  0.636830  0.342209\n",
              "\n",
              "[5 rows x 13 columns]"
            ]
          },
          "metadata": {
            "tags": []
          },
          "execution_count": 61
        }
      ]
    },
    {
      "cell_type": "code",
      "metadata": {
        "colab": {
          "base_uri": "https://localhost:8080/",
          "height": 722
        },
        "id": "ssKdwpzJd-Oc",
        "outputId": "46fba07a-e21e-473f-e5ce-160973425538"
      },
      "source": [
        "# t-тест\r\n",
        "t_test('y_0')\r\n",
        "\r\n",
        "# treatment effect\r\n",
        "treatment_effect('y_0')\r\n",
        "\r\n",
        "# ate regression\r\n",
        "ate_regression('y_0', 2)"
      ],
      "execution_count": null,
      "outputs": [
        {
          "output_type": "stream",
          "text": [
            "t: 2.7014\n",
            "st: 1.645\n",
            "T >= St => нулевая гипотеза отвергается в пользу альтернативы\n",
            "treatment effect: -0.124\n"
          ],
          "name": "stdout"
        },
        {
          "output_type": "execute_result",
          "data": {
            "text/html": [
              "<table class=\"simpletable\">\n",
              "<caption>OLS Regression Results</caption>\n",
              "<tr>\n",
              "  <th>Dep. Variable:</th>           <td>y_0</td>       <th>  R-squared:         </th> <td>   0.025</td> \n",
              "</tr>\n",
              "<tr>\n",
              "  <th>Model:</th>                   <td>OLS</td>       <th>  Adj. R-squared:    </th> <td>   0.024</td> \n",
              "</tr>\n",
              "<tr>\n",
              "  <th>Method:</th>             <td>Least Squares</td>  <th>  F-statistic:       </th> <td>   23.53</td> \n",
              "</tr>\n",
              "<tr>\n",
              "  <th>Date:</th>             <td>Wed, 23 Dec 2020</td> <th>  Prob (F-statistic):</th> <td>1.80e-48</td> \n",
              "</tr>\n",
              "<tr>\n",
              "  <th>Time:</th>                 <td>11:39:04</td>     <th>  Log-Likelihood:    </th> <td> -22357.</td> \n",
              "</tr>\n",
              "<tr>\n",
              "  <th>No. Observations:</th>      <td> 10000</td>      <th>  AIC:               </th> <td>4.474e+04</td>\n",
              "</tr>\n",
              "<tr>\n",
              "  <th>Df Residuals:</th>          <td>  9988</td>      <th>  BIC:               </th> <td>4.482e+04</td>\n",
              "</tr>\n",
              "<tr>\n",
              "  <th>Df Model:</th>              <td>    11</td>      <th>                     </th>     <td> </td>    \n",
              "</tr>\n",
              "<tr>\n",
              "  <th>Covariance Type:</th>      <td>nonrobust</td>    <th>                     </th>     <td> </td>    \n",
              "</tr>\n",
              "</table>\n",
              "<table class=\"simpletable\">\n",
              "<tr>\n",
              "    <td></td>       <th>coef</th>     <th>std err</th>      <th>t</th>      <th>P>|t|</th>  <th>[0.025</th>    <th>0.975]</th>  \n",
              "</tr>\n",
              "<tr>\n",
              "  <th>const</th> <td>    0.4724</td> <td>    0.127</td> <td>    3.734</td> <td> 0.000</td> <td>    0.224</td> <td>    0.720</td>\n",
              "</tr>\n",
              "<tr>\n",
              "  <th>W</th>     <td>    0.0057</td> <td>    0.052</td> <td>    0.109</td> <td> 0.913</td> <td>   -0.096</td> <td>    0.108</td>\n",
              "</tr>\n",
              "<tr>\n",
              "  <th>X_1</th>   <td>   -0.3480</td> <td>    0.085</td> <td>   -4.096</td> <td> 0.000</td> <td>   -0.515</td> <td>   -0.181</td>\n",
              "</tr>\n",
              "<tr>\n",
              "  <th>X_2</th>   <td>   -0.2679</td> <td>    0.085</td> <td>   -3.166</td> <td> 0.002</td> <td>   -0.434</td> <td>   -0.102</td>\n",
              "</tr>\n",
              "<tr>\n",
              "  <th>X_3</th>   <td>   -0.4370</td> <td>    0.078</td> <td>   -5.597</td> <td> 0.000</td> <td>   -0.590</td> <td>   -0.284</td>\n",
              "</tr>\n",
              "<tr>\n",
              "  <th>X_4</th>   <td>    0.9364</td> <td>    0.078</td> <td>   11.965</td> <td> 0.000</td> <td>    0.783</td> <td>    1.090</td>\n",
              "</tr>\n",
              "<tr>\n",
              "  <th>X_5</th>   <td>    0.5187</td> <td>    0.078</td> <td>    6.633</td> <td> 0.000</td> <td>    0.365</td> <td>    0.672</td>\n",
              "</tr>\n",
              "<tr>\n",
              "  <th>X_6</th>   <td>   -0.0196</td> <td>    0.078</td> <td>   -0.250</td> <td> 0.803</td> <td>   -0.173</td> <td>    0.134</td>\n",
              "</tr>\n",
              "<tr>\n",
              "  <th>X_7</th>   <td>    0.1285</td> <td>    0.078</td> <td>    1.641</td> <td> 0.101</td> <td>   -0.025</td> <td>    0.282</td>\n",
              "</tr>\n",
              "<tr>\n",
              "  <th>X_8</th>   <td>   -0.0463</td> <td>    0.078</td> <td>   -0.592</td> <td> 0.554</td> <td>   -0.200</td> <td>    0.107</td>\n",
              "</tr>\n",
              "<tr>\n",
              "  <th>X_9</th>   <td>    0.0206</td> <td>    0.079</td> <td>    0.261</td> <td> 0.794</td> <td>   -0.134</td> <td>    0.176</td>\n",
              "</tr>\n",
              "<tr>\n",
              "  <th>X_10</th>  <td>    0.0633</td> <td>    0.079</td> <td>    0.803</td> <td> 0.422</td> <td>   -0.091</td> <td>    0.218</td>\n",
              "</tr>\n",
              "</table>\n",
              "<table class=\"simpletable\">\n",
              "<tr>\n",
              "  <th>Omnibus:</th>       <td> 1.502</td> <th>  Durbin-Watson:     </th> <td>   2.000</td>\n",
              "</tr>\n",
              "<tr>\n",
              "  <th>Prob(Omnibus):</th> <td> 0.472</td> <th>  Jarque-Bera (JB):  </th> <td>   1.533</td>\n",
              "</tr>\n",
              "<tr>\n",
              "  <th>Skew:</th>          <td>-0.026</td> <th>  Prob(JB):          </th> <td>   0.465</td>\n",
              "</tr>\n",
              "<tr>\n",
              "  <th>Kurtosis:</th>      <td> 2.970</td> <th>  Cond. No.          </th> <td>    13.0</td>\n",
              "</tr>\n",
              "</table><br/><br/>Warnings:<br/>[1] Standard Errors assume that the covariance matrix of the errors is correctly specified."
            ],
            "text/plain": [
              "<class 'statsmodels.iolib.summary.Summary'>\n",
              "\"\"\"\n",
              "                            OLS Regression Results                            \n",
              "==============================================================================\n",
              "Dep. Variable:                    y_0   R-squared:                       0.025\n",
              "Model:                            OLS   Adj. R-squared:                  0.024\n",
              "Method:                 Least Squares   F-statistic:                     23.53\n",
              "Date:                Wed, 23 Dec 2020   Prob (F-statistic):           1.80e-48\n",
              "Time:                        11:39:04   Log-Likelihood:                -22357.\n",
              "No. Observations:               10000   AIC:                         4.474e+04\n",
              "Df Residuals:                    9988   BIC:                         4.482e+04\n",
              "Df Model:                          11                                         \n",
              "Covariance Type:            nonrobust                                         \n",
              "==============================================================================\n",
              "                 coef    std err          t      P>|t|      [0.025      0.975]\n",
              "------------------------------------------------------------------------------\n",
              "const          0.4724      0.127      3.734      0.000       0.224       0.720\n",
              "W              0.0057      0.052      0.109      0.913      -0.096       0.108\n",
              "X_1           -0.3480      0.085     -4.096      0.000      -0.515      -0.181\n",
              "X_2           -0.2679      0.085     -3.166      0.002      -0.434      -0.102\n",
              "X_3           -0.4370      0.078     -5.597      0.000      -0.590      -0.284\n",
              "X_4            0.9364      0.078     11.965      0.000       0.783       1.090\n",
              "X_5            0.5187      0.078      6.633      0.000       0.365       0.672\n",
              "X_6           -0.0196      0.078     -0.250      0.803      -0.173       0.134\n",
              "X_7            0.1285      0.078      1.641      0.101      -0.025       0.282\n",
              "X_8           -0.0463      0.078     -0.592      0.554      -0.200       0.107\n",
              "X_9            0.0206      0.079      0.261      0.794      -0.134       0.176\n",
              "X_10           0.0633      0.079      0.803      0.422      -0.091       0.218\n",
              "==============================================================================\n",
              "Omnibus:                        1.502   Durbin-Watson:                   2.000\n",
              "Prob(Omnibus):                  0.472   Jarque-Bera (JB):                1.533\n",
              "Skew:                          -0.026   Prob(JB):                        0.465\n",
              "Kurtosis:                       2.970   Cond. No.                         13.0\n",
              "==============================================================================\n",
              "\n",
              "Warnings:\n",
              "[1] Standard Errors assume that the covariance matrix of the errors is correctly specified.\n",
              "\"\"\""
            ]
          },
          "metadata": {
            "tags": []
          },
          "execution_count": 62
        }
      ]
    },
    {
      "cell_type": "markdown",
      "metadata": {
        "id": "9HHQI64k_sVe"
      },
      "source": [
        "В данном тесте можно увидеть расхождения в результатах. Наивный алгортим ate дал результат -0.124, демонстрируя негативный эффект. В то время как ate с помощью регрессии дал результат 0.0057, что говорит нам о минимальном положительном эффекте."
      ]
    },
    {
      "cell_type": "code",
      "metadata": {
        "colab": {
          "base_uri": "https://localhost:8080/",
          "height": 722
        },
        "id": "DhGQp7Juepu_",
        "outputId": "ab6027c8-d01d-4011-9bf4-0578badb1aba"
      },
      "source": [
        "# t-тест\r\n",
        "t_test('y_1')\r\n",
        "\r\n",
        "# treatment effect\r\n",
        "treatment_effect('y_1')\r\n",
        "\r\n",
        "# ate regression\r\n",
        "ate_regression('y_1', 2)"
      ],
      "execution_count": null,
      "outputs": [
        {
          "output_type": "stream",
          "text": [
            "t: 10.4305\n",
            "st: 1.645\n",
            "T >= St => нулевая гипотеза отвергается в пользу альтернативы\n",
            "treatment effect: 0.431\n"
          ],
          "name": "stdout"
        },
        {
          "output_type": "execute_result",
          "data": {
            "text/html": [
              "<table class=\"simpletable\">\n",
              "<caption>OLS Regression Results</caption>\n",
              "<tr>\n",
              "  <th>Dep. Variable:</th>           <td>y_1</td>       <th>  R-squared:         </th> <td>   0.042</td> \n",
              "</tr>\n",
              "<tr>\n",
              "  <th>Model:</th>                   <td>OLS</td>       <th>  Adj. R-squared:    </th> <td>   0.041</td> \n",
              "</tr>\n",
              "<tr>\n",
              "  <th>Method:</th>             <td>Least Squares</td>  <th>  F-statistic:       </th> <td>   39.48</td> \n",
              "</tr>\n",
              "<tr>\n",
              "  <th>Date:</th>             <td>Wed, 23 Dec 2020</td> <th>  Prob (F-statistic):</th> <td>2.63e-84</td> \n",
              "</tr>\n",
              "<tr>\n",
              "  <th>Time:</th>                 <td>11:39:06</td>     <th>  Log-Likelihood:    </th> <td> -21277.</td> \n",
              "</tr>\n",
              "<tr>\n",
              "  <th>No. Observations:</th>      <td> 10000</td>      <th>  AIC:               </th> <td>4.258e+04</td>\n",
              "</tr>\n",
              "<tr>\n",
              "  <th>Df Residuals:</th>          <td>  9988</td>      <th>  BIC:               </th> <td>4.266e+04</td>\n",
              "</tr>\n",
              "<tr>\n",
              "  <th>Df Model:</th>              <td>    11</td>      <th>                     </th>     <td> </td>    \n",
              "</tr>\n",
              "<tr>\n",
              "  <th>Covariance Type:</th>      <td>nonrobust</td>    <th>                     </th>     <td> </td>    \n",
              "</tr>\n",
              "</table>\n",
              "<table class=\"simpletable\">\n",
              "<tr>\n",
              "    <td></td>       <th>coef</th>     <th>std err</th>      <th>t</th>      <th>P>|t|</th>  <th>[0.025</th>    <th>0.975]</th>  \n",
              "</tr>\n",
              "<tr>\n",
              "  <th>const</th> <td>    1.1967</td> <td>    0.114</td> <td>   10.538</td> <td> 0.000</td> <td>    0.974</td> <td>    1.419</td>\n",
              "</tr>\n",
              "<tr>\n",
              "  <th>W</th>     <td>    0.5482</td> <td>    0.047</td> <td>   11.724</td> <td> 0.000</td> <td>    0.457</td> <td>    0.640</td>\n",
              "</tr>\n",
              "<tr>\n",
              "  <th>X_1</th>   <td>   -0.2645</td> <td>    0.076</td> <td>   -3.469</td> <td> 0.001</td> <td>   -0.414</td> <td>   -0.115</td>\n",
              "</tr>\n",
              "<tr>\n",
              "  <th>X_2</th>   <td>   -0.2952</td> <td>    0.076</td> <td>   -3.886</td> <td> 0.000</td> <td>   -0.444</td> <td>   -0.146</td>\n",
              "</tr>\n",
              "<tr>\n",
              "  <th>X_3</th>   <td>   -0.1394</td> <td>    0.070</td> <td>   -1.989</td> <td> 0.047</td> <td>   -0.277</td> <td>   -0.002</td>\n",
              "</tr>\n",
              "<tr>\n",
              "  <th>X_4</th>   <td>    0.9812</td> <td>    0.070</td> <td>   13.967</td> <td> 0.000</td> <td>    0.844</td> <td>    1.119</td>\n",
              "</tr>\n",
              "<tr>\n",
              "  <th>X_5</th>   <td>    0.6305</td> <td>    0.070</td> <td>    8.982</td> <td> 0.000</td> <td>    0.493</td> <td>    0.768</td>\n",
              "</tr>\n",
              "<tr>\n",
              "  <th>X_6</th>   <td>    0.0787</td> <td>    0.070</td> <td>    1.117</td> <td> 0.264</td> <td>   -0.059</td> <td>    0.217</td>\n",
              "</tr>\n",
              "<tr>\n",
              "  <th>X_7</th>   <td>    0.2004</td> <td>    0.070</td> <td>    2.850</td> <td> 0.004</td> <td>    0.063</td> <td>    0.338</td>\n",
              "</tr>\n",
              "<tr>\n",
              "  <th>X_8</th>   <td>    0.1130</td> <td>    0.070</td> <td>    1.610</td> <td> 0.107</td> <td>   -0.025</td> <td>    0.251</td>\n",
              "</tr>\n",
              "<tr>\n",
              "  <th>X_9</th>   <td>   -0.0421</td> <td>    0.071</td> <td>   -0.593</td> <td> 0.553</td> <td>   -0.181</td> <td>    0.097</td>\n",
              "</tr>\n",
              "<tr>\n",
              "  <th>X_10</th>  <td>   -0.0226</td> <td>    0.071</td> <td>   -0.319</td> <td> 0.750</td> <td>   -0.161</td> <td>    0.116</td>\n",
              "</tr>\n",
              "</table>\n",
              "<table class=\"simpletable\">\n",
              "<tr>\n",
              "  <th>Omnibus:</th>       <td> 1.919</td> <th>  Durbin-Watson:     </th> <td>   1.987</td>\n",
              "</tr>\n",
              "<tr>\n",
              "  <th>Prob(Omnibus):</th> <td> 0.383</td> <th>  Jarque-Bera (JB):  </th> <td>   1.906</td>\n",
              "</tr>\n",
              "<tr>\n",
              "  <th>Skew:</th>          <td> 0.034</td> <th>  Prob(JB):          </th> <td>   0.385</td>\n",
              "</tr>\n",
              "<tr>\n",
              "  <th>Kurtosis:</th>      <td> 3.006</td> <th>  Cond. No.          </th> <td>    13.0</td>\n",
              "</tr>\n",
              "</table><br/><br/>Warnings:<br/>[1] Standard Errors assume that the covariance matrix of the errors is correctly specified."
            ],
            "text/plain": [
              "<class 'statsmodels.iolib.summary.Summary'>\n",
              "\"\"\"\n",
              "                            OLS Regression Results                            \n",
              "==============================================================================\n",
              "Dep. Variable:                    y_1   R-squared:                       0.042\n",
              "Model:                            OLS   Adj. R-squared:                  0.041\n",
              "Method:                 Least Squares   F-statistic:                     39.48\n",
              "Date:                Wed, 23 Dec 2020   Prob (F-statistic):           2.63e-84\n",
              "Time:                        11:39:06   Log-Likelihood:                -21277.\n",
              "No. Observations:               10000   AIC:                         4.258e+04\n",
              "Df Residuals:                    9988   BIC:                         4.266e+04\n",
              "Df Model:                          11                                         \n",
              "Covariance Type:            nonrobust                                         \n",
              "==============================================================================\n",
              "                 coef    std err          t      P>|t|      [0.025      0.975]\n",
              "------------------------------------------------------------------------------\n",
              "const          1.1967      0.114     10.538      0.000       0.974       1.419\n",
              "W              0.5482      0.047     11.724      0.000       0.457       0.640\n",
              "X_1           -0.2645      0.076     -3.469      0.001      -0.414      -0.115\n",
              "X_2           -0.2952      0.076     -3.886      0.000      -0.444      -0.146\n",
              "X_3           -0.1394      0.070     -1.989      0.047      -0.277      -0.002\n",
              "X_4            0.9812      0.070     13.967      0.000       0.844       1.119\n",
              "X_5            0.6305      0.070      8.982      0.000       0.493       0.768\n",
              "X_6            0.0787      0.070      1.117      0.264      -0.059       0.217\n",
              "X_7            0.2004      0.070      2.850      0.004       0.063       0.338\n",
              "X_8            0.1130      0.070      1.610      0.107      -0.025       0.251\n",
              "X_9           -0.0421      0.071     -0.593      0.553      -0.181       0.097\n",
              "X_10          -0.0226      0.071     -0.319      0.750      -0.161       0.116\n",
              "==============================================================================\n",
              "Omnibus:                        1.919   Durbin-Watson:                   1.987\n",
              "Prob(Omnibus):                  0.383   Jarque-Bera (JB):                1.906\n",
              "Skew:                           0.034   Prob(JB):                        0.385\n",
              "Kurtosis:                       3.006   Cond. No.                         13.0\n",
              "==============================================================================\n",
              "\n",
              "Warnings:\n",
              "[1] Standard Errors assume that the covariance matrix of the errors is correctly specified.\n",
              "\"\"\""
            ]
          },
          "metadata": {
            "tags": []
          },
          "execution_count": 63
        }
      ]
    },
    {
      "cell_type": "markdown",
      "metadata": {
        "id": "xT7_ajEtBL3J"
      },
      "source": [
        "Эффект от воздействия имеется, 0.431 для наивного алгоритма и 0.5482 для регрессии. Отсюда можно сделать вывод о правильно вычисленном ate на выборке после проведения теста"
      ]
    },
    {
      "cell_type": "code",
      "metadata": {
        "colab": {
          "base_uri": "https://localhost:8080/"
        },
        "id": "vqaKFWHseSx7",
        "outputId": "d28e97e7-8ed7-4b0b-8186-646ddf8b4d0b"
      },
      "source": [
        "# Проверю гипотезу о равенстве средних в выборках y0 и y1\r\n",
        "control_group = data['y_0'].values # контрольная группа\r\n",
        "test_group = data['y_1'].values # тестовая группа\r\n",
        "\r\n",
        "alpha = 0.05\r\n",
        "\r\n",
        "T = (abs(control_group.mean() - test_group.mean())) / np.sqrt(control_group.std(ddof=1)**2/control_group.shape[0] + test_group.std(ddof=1)**2/test_group.shape[0])\r\n",
        "st = stats.t.ppf(1 - alpha, df=control_group.shape[0] + test_group.shape[0] - 2)\r\n",
        "p_value = (1 - stats.t.cdf(T, df=control_group.shape[0] + test_group.shape[0] - 2)) * 2\r\n",
        "\r\n",
        "print('t:', round(T, 4))\r\n",
        "print('st:', round(st, 4))\r\n",
        "#print('p value:', round(p_value, 4))\r\n",
        "if T < st:\r\n",
        "  print('T < St => принимается нулевая гипотеза о равенстве средних в выборках')\r\n",
        "else:\r\n",
        "  print('T >= St => нулевая гипотеза отвергается в пользу альтернативы')"
      ],
      "execution_count": null,
      "outputs": [
        {
          "output_type": "stream",
          "text": [
            "t: 43.7587\n",
            "st: 1.6449\n",
            "T >= St => нулевая гипотеза отвергается в пользу альтернативы\n"
          ],
          "name": "stdout"
        }
      ]
    },
    {
      "cell_type": "code",
      "metadata": {
        "colab": {
          "base_uri": "https://localhost:8080/"
        },
        "id": "Y7khXR6we_ND",
        "outputId": "d52a9a43-8d54-47c1-9ea5-69045e4cc56e"
      },
      "source": [
        "# treatment effect\r\n",
        "ate = test_group.mean() - control_group.mean()\r\n",
        "print('treatment effect (для y0):', round(ate, 3))"
      ],
      "execution_count": null,
      "outputs": [
        {
          "output_type": "stream",
          "text": [
            "treatment effect (для y0): 1.353\n"
          ],
          "name": "stdout"
        }
      ]
    },
    {
      "cell_type": "code",
      "metadata": {
        "colab": {
          "base_uri": "https://localhost:8080/",
          "height": 654
        },
        "id": "ulXOlDiJB1db",
        "outputId": "38211467-6de5-4a09-dedb-81a4774344fb"
      },
      "source": [
        "# ate регрессия\r\n",
        "x = pd.DataFrame(np.concatenate((data.iloc[:, 2:], data.iloc[:, 2:])), columns=data.columns[2:])\r\n",
        "y = np.concatenate((data['y_0'], data['y_1']))\r\n",
        "X = sm.add_constant(x)\r\n",
        "model = sm.OLS(y,X)\r\n",
        "results = model.fit()\r\n",
        "results.summary()"
      ],
      "execution_count": null,
      "outputs": [
        {
          "output_type": "execute_result",
          "data": {
            "text/html": [
              "<table class=\"simpletable\">\n",
              "<caption>OLS Regression Results</caption>\n",
              "<tr>\n",
              "  <th>Dep. Variable:</th>            <td>y</td>        <th>  R-squared:         </th> <td>   0.025</td> \n",
              "</tr>\n",
              "<tr>\n",
              "  <th>Model:</th>                   <td>OLS</td>       <th>  Adj. R-squared:    </th> <td>   0.025</td> \n",
              "</tr>\n",
              "<tr>\n",
              "  <th>Method:</th>             <td>Least Squares</td>  <th>  F-statistic:       </th> <td>   47.54</td> \n",
              "</tr>\n",
              "<tr>\n",
              "  <th>Date:</th>             <td>Wed, 23 Dec 2020</td> <th>  Prob (F-statistic):</th> <td>1.08e-103</td>\n",
              "</tr>\n",
              "<tr>\n",
              "  <th>Time:</th>                 <td>11:39:09</td>     <th>  Log-Likelihood:    </th> <td> -44680.</td> \n",
              "</tr>\n",
              "<tr>\n",
              "  <th>No. Observations:</th>      <td> 20000</td>      <th>  AIC:               </th> <td>8.938e+04</td>\n",
              "</tr>\n",
              "<tr>\n",
              "  <th>Df Residuals:</th>          <td> 19988</td>      <th>  BIC:               </th> <td>8.948e+04</td>\n",
              "</tr>\n",
              "<tr>\n",
              "  <th>Df Model:</th>              <td>    11</td>      <th>                     </th>     <td> </td>    \n",
              "</tr>\n",
              "<tr>\n",
              "  <th>Covariance Type:</th>      <td>nonrobust</td>    <th>                     </th>     <td> </td>    \n",
              "</tr>\n",
              "</table>\n",
              "<table class=\"simpletable\">\n",
              "<tr>\n",
              "    <td></td>       <th>coef</th>     <th>std err</th>      <th>t</th>      <th>P>|t|</th>  <th>[0.025</th>    <th>0.975]</th>  \n",
              "</tr>\n",
              "<tr>\n",
              "  <th>const</th> <td>    0.8346</td> <td>    0.089</td> <td>    9.348</td> <td> 0.000</td> <td>    0.660</td> <td>    1.010</td>\n",
              "</tr>\n",
              "<tr>\n",
              "  <th>W</th>     <td>    0.2769</td> <td>    0.037</td> <td>    7.534</td> <td> 0.000</td> <td>    0.205</td> <td>    0.349</td>\n",
              "</tr>\n",
              "<tr>\n",
              "  <th>X_1</th>   <td>   -0.3063</td> <td>    0.060</td> <td>   -5.108</td> <td> 0.000</td> <td>   -0.424</td> <td>   -0.189</td>\n",
              "</tr>\n",
              "<tr>\n",
              "  <th>X_2</th>   <td>   -0.2816</td> <td>    0.060</td> <td>   -4.714</td> <td> 0.000</td> <td>   -0.399</td> <td>   -0.164</td>\n",
              "</tr>\n",
              "<tr>\n",
              "  <th>X_3</th>   <td>   -0.2882</td> <td>    0.055</td> <td>   -5.231</td> <td> 0.000</td> <td>   -0.396</td> <td>   -0.180</td>\n",
              "</tr>\n",
              "<tr>\n",
              "  <th>X_4</th>   <td>    0.9588</td> <td>    0.055</td> <td>   17.360</td> <td> 0.000</td> <td>    0.851</td> <td>    1.067</td>\n",
              "</tr>\n",
              "<tr>\n",
              "  <th>X_5</th>   <td>    0.5746</td> <td>    0.055</td> <td>   10.412</td> <td> 0.000</td> <td>    0.466</td> <td>    0.683</td>\n",
              "</tr>\n",
              "<tr>\n",
              "  <th>X_6</th>   <td>    0.0295</td> <td>    0.055</td> <td>    0.533</td> <td> 0.594</td> <td>   -0.079</td> <td>    0.138</td>\n",
              "</tr>\n",
              "<tr>\n",
              "  <th>X_7</th>   <td>    0.1644</td> <td>    0.055</td> <td>    2.975</td> <td> 0.003</td> <td>    0.056</td> <td>    0.273</td>\n",
              "</tr>\n",
              "<tr>\n",
              "  <th>X_8</th>   <td>    0.0334</td> <td>    0.055</td> <td>    0.605</td> <td> 0.545</td> <td>   -0.075</td> <td>    0.142</td>\n",
              "</tr>\n",
              "<tr>\n",
              "  <th>X_9</th>   <td>   -0.0107</td> <td>    0.056</td> <td>   -0.192</td> <td> 0.848</td> <td>   -0.120</td> <td>    0.099</td>\n",
              "</tr>\n",
              "<tr>\n",
              "  <th>X_10</th>  <td>    0.0203</td> <td>    0.056</td> <td>    0.366</td> <td> 0.714</td> <td>   -0.089</td> <td>    0.129</td>\n",
              "</tr>\n",
              "</table>\n",
              "<table class=\"simpletable\">\n",
              "<tr>\n",
              "  <th>Omnibus:</th>       <td>29.439</td> <th>  Durbin-Watson:     </th> <td>   1.817</td>\n",
              "</tr>\n",
              "<tr>\n",
              "  <th>Prob(Omnibus):</th> <td> 0.000</td> <th>  Jarque-Bera (JB):  </th> <td>  29.520</td>\n",
              "</tr>\n",
              "<tr>\n",
              "  <th>Skew:</th>          <td>-0.092</td> <th>  Prob(JB):          </th> <td>3.89e-07</td>\n",
              "</tr>\n",
              "<tr>\n",
              "  <th>Kurtosis:</th>      <td> 3.035</td> <th>  Cond. No.          </th> <td>    13.0</td>\n",
              "</tr>\n",
              "</table><br/><br/>Warnings:<br/>[1] Standard Errors assume that the covariance matrix of the errors is correctly specified."
            ],
            "text/plain": [
              "<class 'statsmodels.iolib.summary.Summary'>\n",
              "\"\"\"\n",
              "                            OLS Regression Results                            \n",
              "==============================================================================\n",
              "Dep. Variable:                      y   R-squared:                       0.025\n",
              "Model:                            OLS   Adj. R-squared:                  0.025\n",
              "Method:                 Least Squares   F-statistic:                     47.54\n",
              "Date:                Wed, 23 Dec 2020   Prob (F-statistic):          1.08e-103\n",
              "Time:                        11:39:09   Log-Likelihood:                -44680.\n",
              "No. Observations:               20000   AIC:                         8.938e+04\n",
              "Df Residuals:                   19988   BIC:                         8.948e+04\n",
              "Df Model:                          11                                         \n",
              "Covariance Type:            nonrobust                                         \n",
              "==============================================================================\n",
              "                 coef    std err          t      P>|t|      [0.025      0.975]\n",
              "------------------------------------------------------------------------------\n",
              "const          0.8346      0.089      9.348      0.000       0.660       1.010\n",
              "W              0.2769      0.037      7.534      0.000       0.205       0.349\n",
              "X_1           -0.3063      0.060     -5.108      0.000      -0.424      -0.189\n",
              "X_2           -0.2816      0.060     -4.714      0.000      -0.399      -0.164\n",
              "X_3           -0.2882      0.055     -5.231      0.000      -0.396      -0.180\n",
              "X_4            0.9588      0.055     17.360      0.000       0.851       1.067\n",
              "X_5            0.5746      0.055     10.412      0.000       0.466       0.683\n",
              "X_6            0.0295      0.055      0.533      0.594      -0.079       0.138\n",
              "X_7            0.1644      0.055      2.975      0.003       0.056       0.273\n",
              "X_8            0.0334      0.055      0.605      0.545      -0.075       0.142\n",
              "X_9           -0.0107      0.056     -0.192      0.848      -0.120       0.099\n",
              "X_10           0.0203      0.056      0.366      0.714      -0.089       0.129\n",
              "==============================================================================\n",
              "Omnibus:                       29.439   Durbin-Watson:                   1.817\n",
              "Prob(Omnibus):                  0.000   Jarque-Bera (JB):               29.520\n",
              "Skew:                          -0.092   Prob(JB):                     3.89e-07\n",
              "Kurtosis:                       3.035   Cond. No.                         13.0\n",
              "==============================================================================\n",
              "\n",
              "Warnings:\n",
              "[1] Standard Errors assume that the covariance matrix of the errors is correctly specified.\n",
              "\"\"\""
            ]
          },
          "metadata": {
            "tags": []
          },
          "execution_count": 66
        }
      ]
    },
    {
      "cell_type": "markdown",
      "metadata": {
        "id": "m2VMGIo8eqZC"
      },
      "source": [
        "При сравнении выборок до теста и после вышли результаты, которые плохо согласуются друг с другом. 1.353 против 0.274"
      ]
    },
    {
      "cell_type": "markdown",
      "metadata": {
        "id": "InnC_5EOG1lm"
      },
      "source": [
        "### 3. Построение uplift модели по результатам AB теста\r\n",
        "Вам даны результаты AB теста для модели конверсии клиента в продукте (conversion). Конверсия может принимать значения 1 или 0, что значит - клиент подключил услугу, либо не подключил соответственно.\r\n",
        "\r\n",
        "Задача:\r\n",
        "\r\n",
        "1. Оцените ATE по данным.\r\n",
        "2. Оцените CATE для каждого наблюдения.\r\n",
        "3. Проставьте рекомендации к воздействию на каждый объект.\r\n",
        "4. Какая ожидаемая конверсия при оптимальном воздействии?\r\n",
        "5. Все выводы, предпосылки и методы представляйте в явном виде в ноутбуке.\r\n",
        "\r\n",
        "Визуализация результатов также будет приветствоваться.\r\n",
        "\r\n",
        "dataset_part3_students.csv"
      ]
    },
    {
      "cell_type": "code",
      "metadata": {
        "colab": {
          "base_uri": "https://localhost:8080/",
          "height": 224
        },
        "id": "Zh1huPLIEKjT",
        "outputId": "da2bf95b-54bb-424b-8401-9a81e31fc8be"
      },
      "source": [
        "data = pd.read_csv('{}/dataset_part3_students.csv'.format(DATA_PATH), sep='\\t')\r\n",
        "data.head()"
      ],
      "execution_count": null,
      "outputs": [
        {
          "output_type": "execute_result",
          "data": {
            "text/html": [
              "<div>\n",
              "<style scoped>\n",
              "    .dataframe tbody tr th:only-of-type {\n",
              "        vertical-align: middle;\n",
              "    }\n",
              "\n",
              "    .dataframe tbody tr th {\n",
              "        vertical-align: top;\n",
              "    }\n",
              "\n",
              "    .dataframe thead th {\n",
              "        text-align: right;\n",
              "    }\n",
              "</style>\n",
              "<table border=\"1\" class=\"dataframe\">\n",
              "  <thead>\n",
              "    <tr style=\"text-align: right;\">\n",
              "      <th></th>\n",
              "      <th>treatment</th>\n",
              "      <th>X_1</th>\n",
              "      <th>X_2</th>\n",
              "      <th>X_3</th>\n",
              "      <th>X_4</th>\n",
              "      <th>X_5</th>\n",
              "      <th>X_6</th>\n",
              "      <th>X_7</th>\n",
              "      <th>X_8</th>\n",
              "      <th>X_9</th>\n",
              "      <th>X_10</th>\n",
              "      <th>X_11</th>\n",
              "      <th>X_12</th>\n",
              "      <th>X_13</th>\n",
              "      <th>X_14</th>\n",
              "      <th>X_15</th>\n",
              "      <th>X_16</th>\n",
              "      <th>X_17</th>\n",
              "      <th>X_18</th>\n",
              "      <th>X_19</th>\n",
              "      <th>X_20</th>\n",
              "      <th>X_21</th>\n",
              "      <th>X_22</th>\n",
              "      <th>conversion</th>\n",
              "    </tr>\n",
              "  </thead>\n",
              "  <tbody>\n",
              "    <tr>\n",
              "      <th>0</th>\n",
              "      <td>control</td>\n",
              "      <td>0.034351</td>\n",
              "      <td>0.550725</td>\n",
              "      <td>-1.348524</td>\n",
              "      <td>-0.029591</td>\n",
              "      <td>0.499535</td>\n",
              "      <td>-0.412464</td>\n",
              "      <td>0.933588</td>\n",
              "      <td>-0.522954</td>\n",
              "      <td>-0.029591</td>\n",
              "      <td>-0.807218</td>\n",
              "      <td>1.318646</td>\n",
              "      <td>-0.065262</td>\n",
              "      <td>-0.956947</td>\n",
              "      <td>-0.314573</td>\n",
              "      <td>-0.879456</td>\n",
              "      <td>0.640264</td>\n",
              "      <td>1.165722</td>\n",
              "      <td>0.570495</td>\n",
              "      <td>0.529443</td>\n",
              "      <td>0.227962</td>\n",
              "      <td>1.929914</td>\n",
              "      <td>0.798664</td>\n",
              "      <td>0</td>\n",
              "    </tr>\n",
              "    <tr>\n",
              "      <th>1</th>\n",
              "      <td>control</td>\n",
              "      <td>-1.059404</td>\n",
              "      <td>0.299404</td>\n",
              "      <td>0.220273</td>\n",
              "      <td>-1.569660</td>\n",
              "      <td>1.084204</td>\n",
              "      <td>-2.167118</td>\n",
              "      <td>1.216469</td>\n",
              "      <td>-0.744547</td>\n",
              "      <td>-1.569660</td>\n",
              "      <td>-0.460971</td>\n",
              "      <td>-1.396720</td>\n",
              "      <td>0.600044</td>\n",
              "      <td>1.000000</td>\n",
              "      <td>0.303664</td>\n",
              "      <td>1.080643</td>\n",
              "      <td>2.646483</td>\n",
              "      <td>-0.329690</td>\n",
              "      <td>1.725636</td>\n",
              "      <td>1.434649</td>\n",
              "      <td>-2.064893</td>\n",
              "      <td>0.188000</td>\n",
              "      <td>-1.134651</td>\n",
              "      <td>0</td>\n",
              "    </tr>\n",
              "    <tr>\n",
              "      <th>2</th>\n",
              "      <td>control</td>\n",
              "      <td>0.051934</td>\n",
              "      <td>2.338729</td>\n",
              "      <td>-0.341017</td>\n",
              "      <td>-1.099362</td>\n",
              "      <td>0.693090</td>\n",
              "      <td>-2.424267</td>\n",
              "      <td>1.572066</td>\n",
              "      <td>-0.212798</td>\n",
              "      <td>-1.099362</td>\n",
              "      <td>-1.430502</td>\n",
              "      <td>0.469694</td>\n",
              "      <td>1.251940</td>\n",
              "      <td>0.943003</td>\n",
              "      <td>-0.083721</td>\n",
              "      <td>-1.981712</td>\n",
              "      <td>0.224777</td>\n",
              "      <td>2.038004</td>\n",
              "      <td>2.516398</td>\n",
              "      <td>2.324280</td>\n",
              "      <td>-3.182196</td>\n",
              "      <td>-0.888490</td>\n",
              "      <td>-1.402561</td>\n",
              "      <td>0</td>\n",
              "    </tr>\n",
              "    <tr>\n",
              "      <th>3</th>\n",
              "      <td>treatment</td>\n",
              "      <td>0.667770</td>\n",
              "      <td>0.539316</td>\n",
              "      <td>0.468719</td>\n",
              "      <td>-0.840885</td>\n",
              "      <td>-0.708331</td>\n",
              "      <td>0.126634</td>\n",
              "      <td>1.275854</td>\n",
              "      <td>-0.954919</td>\n",
              "      <td>-0.840885</td>\n",
              "      <td>0.408691</td>\n",
              "      <td>-0.422736</td>\n",
              "      <td>-1.593407</td>\n",
              "      <td>0.247038</td>\n",
              "      <td>-0.752011</td>\n",
              "      <td>-0.347319</td>\n",
              "      <td>-1.659402</td>\n",
              "      <td>-0.871980</td>\n",
              "      <td>-0.893513</td>\n",
              "      <td>-0.658078</td>\n",
              "      <td>-2.704997</td>\n",
              "      <td>-0.390745</td>\n",
              "      <td>-1.578004</td>\n",
              "      <td>1</td>\n",
              "    </tr>\n",
              "    <tr>\n",
              "      <th>4</th>\n",
              "      <td>control</td>\n",
              "      <td>-1.416158</td>\n",
              "      <td>2.486628</td>\n",
              "      <td>0.496402</td>\n",
              "      <td>-1.174618</td>\n",
              "      <td>2.738267</td>\n",
              "      <td>-4.756755</td>\n",
              "      <td>-0.180918</td>\n",
              "      <td>-1.281432</td>\n",
              "      <td>-1.174618</td>\n",
              "      <td>-0.243256</td>\n",
              "      <td>0.598662</td>\n",
              "      <td>0.750706</td>\n",
              "      <td>0.554053</td>\n",
              "      <td>-1.198151</td>\n",
              "      <td>-0.232961</td>\n",
              "      <td>0.948875</td>\n",
              "      <td>1.210523</td>\n",
              "      <td>1.536723</td>\n",
              "      <td>1.548610</td>\n",
              "      <td>-0.926435</td>\n",
              "      <td>0.972459</td>\n",
              "      <td>-0.711251</td>\n",
              "      <td>0</td>\n",
              "    </tr>\n",
              "  </tbody>\n",
              "</table>\n",
              "</div>"
            ],
            "text/plain": [
              "   treatment       X_1       X_2  ...      X_21      X_22  conversion\n",
              "0    control  0.034351  0.550725  ...  1.929914  0.798664           0\n",
              "1    control -1.059404  0.299404  ...  0.188000 -1.134651           0\n",
              "2    control  0.051934  2.338729  ... -0.888490 -1.402561           0\n",
              "3  treatment  0.667770  0.539316  ... -0.390745 -1.578004           1\n",
              "4    control -1.416158  2.486628  ...  0.972459 -0.711251           0\n",
              "\n",
              "[5 rows x 24 columns]"
            ]
          },
          "metadata": {
            "tags": []
          },
          "execution_count": 67
        }
      ]
    },
    {
      "cell_type": "code",
      "metadata": {
        "id": "5oqoLuY3Lb7J"
      },
      "source": [
        "y = data['conversion']\r\n",
        "\r\n",
        "D = np.zeros((data['treatment'].shape[0],))\r\n",
        "\r\n",
        "for i in range(data['treatment'].shape[0]):\r\n",
        "  D[i] = 0.0 if data['treatment'][i] == 'control' else 1.0\r\n",
        "\r\n",
        "#D = data['treatment'].values\r\n",
        "X = data.iloc[:, 1:-1]"
      ],
      "execution_count": null,
      "outputs": []
    },
    {
      "cell_type": "code",
      "metadata": {
        "colab": {
          "base_uri": "https://localhost:8080/"
        },
        "id": "B3ESuXCsZYqm",
        "outputId": "9ffb45cb-c867-42f5-ff1a-3e6ef2955c8b"
      },
      "source": [
        "lr = LRSRegressor()\r\n",
        "te, lb, ub = lr.estimate_ate(X, D, y)\r\n",
        "print('Average Treatment Effect (Linear Regression): {:.2f} ({:.2f}, {:.2f})'.format(te[0], lb[0], ub[0]))"
      ],
      "execution_count": null,
      "outputs": [
        {
          "output_type": "stream",
          "text": [
            "Average Treatment Effect (Linear Regression): 0.06 (0.06, 0.06)\n"
          ],
          "name": "stdout"
        }
      ]
    },
    {
      "cell_type": "code",
      "metadata": {
        "colab": {
          "base_uri": "https://localhost:8080/"
        },
        "id": "Odv3wr2rMUIQ",
        "outputId": "d5a1b160-1bcf-4dc7-88ea-3ebd61ebf4ab"
      },
      "source": [
        "causal = CausalModel(\r\n",
        "    Y=y, D=D, X=X\r\n",
        ")\r\n",
        "\r\n",
        "causal.est_via_ols(adj=1)\r\n",
        "print(causal.estimates)"
      ],
      "execution_count": null,
      "outputs": [
        {
          "output_type": "stream",
          "text": [
            "/usr/local/lib/python3.6/dist-packages/causalinference/estimators/ols.py:21: FutureWarning: `rcond` parameter will change to the default of machine precision times ``max(M, N)`` where M and N are the input matrix dimensions.\n",
            "To use the future default and silence this warning we advise to pass `rcond=None`, to keep using the old, explicitly pass `rcond=-1`.\n",
            "  olscoef = np.linalg.lstsq(Z, Y)[0]\n"
          ],
          "name": "stderr"
        },
        {
          "output_type": "stream",
          "text": [
            "\n",
            "Treatment Effect Estimates: OLS\n",
            "\n",
            "                     Est.       S.e.          z      P>|z|      [95% Conf. int.]\n",
            "--------------------------------------------------------------------------------\n",
            "           ATE      0.060      0.001     45.224      0.000      0.058      0.063\n",
            "\n"
          ],
          "name": "stdout"
        }
      ]
    },
    {
      "cell_type": "markdown",
      "metadata": {
        "id": "YjYou33_agO9"
      },
      "source": [
        "Оценка ATE дала 0.06, что говорит о положительном влиянии"
      ]
    },
    {
      "cell_type": "code",
      "metadata": {
        "id": "CCCg3l5oao4f"
      },
      "source": [
        ""
      ],
      "execution_count": null,
      "outputs": []
    }
  ]
}