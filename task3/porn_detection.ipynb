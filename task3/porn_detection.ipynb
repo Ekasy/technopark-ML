{
  "nbformat": 4,
  "nbformat_minor": 0,
  "metadata": {
    "kernelspec": {
      "display_name": "Python 3",
      "language": "python",
      "name": "python3"
    },
    "language_info": {
      "codemirror_mode": {
        "name": "ipython",
        "version": 3
      },
      "file_extension": ".py",
      "mimetype": "text/x-python",
      "name": "python",
      "nbconvert_exporter": "python",
      "pygments_lexer": "ipython3",
      "version": "3.7.3"
    },
    "colab": {
      "name": "contest_vers5.ipynb",
      "provenance": [],
      "collapsed_sections": []
    }
  },
  "cells": [
    {
      "cell_type": "code",
      "metadata": {
        "id": "rABWIQqrUesO"
      },
      "source": [
        "import pandas as pd\n",
        "import numpy as np\n",
        "from sklearn.model_selection import train_test_split\n",
        "from sklearn.metrics import f1_score\n",
        "\n",
        "from sklearn.feature_extraction.text import TfidfVectorizer\n",
        "from sklearn.feature_extraction.text import CountVectorizer\n",
        "\n",
        "from sklearn.linear_model import SGDClassifier, LogisticRegression, Perceptron\n",
        "from sklearn.svm import LinearSVC\n",
        "from  sklearn.calibration import CalibratedClassifierCV\n",
        "\n",
        "from sklearn.pipeline import Pipeline, FeatureUnion"
      ],
      "execution_count": null,
      "outputs": []
    },
    {
      "cell_type": "code",
      "metadata": {
        "id": "A84w8_BmUesT",
        "outputId": "bd4ed528-0c62-4dcb-d39c-7e61c0155ee9"
      },
      "source": [
        "train_df = pd.read_csv(\"train.csv\")\n",
        "train_df = train_df.drop(columns=['id'])\n",
        "train_df.head()"
      ],
      "execution_count": null,
      "outputs": [
        {
          "output_type": "execute_result",
          "data": {
            "text/html": [
              "<div>\n",
              "<style scoped>\n",
              "    .dataframe tbody tr th:only-of-type {\n",
              "        vertical-align: middle;\n",
              "    }\n",
              "\n",
              "    .dataframe tbody tr th {\n",
              "        vertical-align: top;\n",
              "    }\n",
              "\n",
              "    .dataframe thead th {\n",
              "        text-align: right;\n",
              "    }\n",
              "</style>\n",
              "<table border=\"1\" class=\"dataframe\">\n",
              "  <thead>\n",
              "    <tr style=\"text-align: right;\">\n",
              "      <th></th>\n",
              "      <th>url</th>\n",
              "      <th>title</th>\n",
              "      <th>target</th>\n",
              "    </tr>\n",
              "  </thead>\n",
              "  <tbody>\n",
              "    <tr>\n",
              "      <th>0</th>\n",
              "      <td>m.kp.md</td>\n",
              "      <td>Экс-министр экономики Молдовы - главе МИДЭИ, ц...</td>\n",
              "      <td>False</td>\n",
              "    </tr>\n",
              "    <tr>\n",
              "      <th>1</th>\n",
              "      <td>www.kp.by</td>\n",
              "      <td>Эта песня стала известна многим телезрителям б...</td>\n",
              "      <td>False</td>\n",
              "    </tr>\n",
              "    <tr>\n",
              "      <th>2</th>\n",
              "      <td>fanserials.tv</td>\n",
              "      <td>Банши 4 сезон 2 серия Бремя красоты смотреть о...</td>\n",
              "      <td>False</td>\n",
              "    </tr>\n",
              "    <tr>\n",
              "      <th>3</th>\n",
              "      <td>colorbox.spb.ru</td>\n",
              "      <td>Не Беси Меня Картинки</td>\n",
              "      <td>False</td>\n",
              "    </tr>\n",
              "    <tr>\n",
              "      <th>4</th>\n",
              "      <td>tula-sport.ru</td>\n",
              "      <td>В Новомосковске сыграют следж-хоккеисты алекси...</td>\n",
              "      <td>False</td>\n",
              "    </tr>\n",
              "  </tbody>\n",
              "</table>\n",
              "</div>"
            ],
            "text/plain": [
              "               url                                              title  target\n",
              "0          m.kp.md  Экс-министр экономики Молдовы - главе МИДЭИ, ц...   False\n",
              "1        www.kp.by  Эта песня стала известна многим телезрителям б...   False\n",
              "2    fanserials.tv  Банши 4 сезон 2 серия Бремя красоты смотреть о...   False\n",
              "3  colorbox.spb.ru                              Не Беси Меня Картинки   False\n",
              "4    tula-sport.ru  В Новомосковске сыграют следж-хоккеисты алекси...   False"
            ]
          },
          "metadata": {
            "tags": []
          },
          "execution_count": 2
        }
      ]
    },
    {
      "cell_type": "markdown",
      "metadata": {
        "id": "iAHjCySMUesX"
      },
      "source": [
        "В экспериментах установил, что предобрабатывать title для count- и tf-idf- vectorizer не нужно, тк результаты ухудшаются до 80% (вероятно связано с тем, что в данной задаче очень важны окончания и сами словосочетания как они есть в оригинале), но при этом небольшая корректировка url пойдет на пользу. Я решил разделить на слова + удалить некоторые бесполезные приставки по типу 'www' и 'm'."
      ]
    },
    {
      "cell_type": "code",
      "metadata": {
        "id": "5pP3k0oPUesY",
        "outputId": "96d48082-78cc-4847-e84d-7a26c8a19a85"
      },
      "source": [
        "def prepare_url(url):\n",
        "    url_list = url.split('.')\n",
        "    url_list = ('-'.join(url_list)).split('-')\n",
        "    \n",
        "    useless_substring = ['www', 'd', 'm', 'http', 'https', 'spb']\n",
        "    for elem in url_list:\n",
        "        if elem in useless_substring:\n",
        "            url_list.remove(elem)\n",
        "    \n",
        "    \n",
        "    return ' '.join(url_list)\n",
        "\n",
        "train_df.loc[:, 'url'] = train_df.url.apply(prepare_url)\n",
        "train_df.head()"
      ],
      "execution_count": null,
      "outputs": [
        {
          "output_type": "execute_result",
          "data": {
            "text/html": [
              "<div>\n",
              "<style scoped>\n",
              "    .dataframe tbody tr th:only-of-type {\n",
              "        vertical-align: middle;\n",
              "    }\n",
              "\n",
              "    .dataframe tbody tr th {\n",
              "        vertical-align: top;\n",
              "    }\n",
              "\n",
              "    .dataframe thead th {\n",
              "        text-align: right;\n",
              "    }\n",
              "</style>\n",
              "<table border=\"1\" class=\"dataframe\">\n",
              "  <thead>\n",
              "    <tr style=\"text-align: right;\">\n",
              "      <th></th>\n",
              "      <th>url</th>\n",
              "      <th>title</th>\n",
              "      <th>target</th>\n",
              "    </tr>\n",
              "  </thead>\n",
              "  <tbody>\n",
              "    <tr>\n",
              "      <th>0</th>\n",
              "      <td>kp md</td>\n",
              "      <td>Экс-министр экономики Молдовы - главе МИДЭИ, ц...</td>\n",
              "      <td>False</td>\n",
              "    </tr>\n",
              "    <tr>\n",
              "      <th>1</th>\n",
              "      <td>kp by</td>\n",
              "      <td>Эта песня стала известна многим телезрителям б...</td>\n",
              "      <td>False</td>\n",
              "    </tr>\n",
              "    <tr>\n",
              "      <th>2</th>\n",
              "      <td>fanserials tv</td>\n",
              "      <td>Банши 4 сезон 2 серия Бремя красоты смотреть о...</td>\n",
              "      <td>False</td>\n",
              "    </tr>\n",
              "    <tr>\n",
              "      <th>3</th>\n",
              "      <td>colorbox ru</td>\n",
              "      <td>Не Беси Меня Картинки</td>\n",
              "      <td>False</td>\n",
              "    </tr>\n",
              "    <tr>\n",
              "      <th>4</th>\n",
              "      <td>tula sport ru</td>\n",
              "      <td>В Новомосковске сыграют следж-хоккеисты алекси...</td>\n",
              "      <td>False</td>\n",
              "    </tr>\n",
              "  </tbody>\n",
              "</table>\n",
              "</div>"
            ],
            "text/plain": [
              "             url                                              title  target\n",
              "0          kp md  Экс-министр экономики Молдовы - главе МИДЭИ, ц...   False\n",
              "1          kp by  Эта песня стала известна многим телезрителям б...   False\n",
              "2  fanserials tv  Банши 4 сезон 2 серия Бремя красоты смотреть о...   False\n",
              "3    colorbox ru                              Не Беси Меня Картинки   False\n",
              "4  tula sport ru  В Новомосковске сыграют следж-хоккеисты алекси...   False"
            ]
          },
          "metadata": {
            "tags": []
          },
          "execution_count": 3
        }
      ]
    },
    {
      "cell_type": "code",
      "metadata": {
        "id": "HgpPCfvHUesb"
      },
      "source": [
        "from sklearn.base import TransformerMixin\n",
        "\n",
        "\n",
        "class ColumnExtractor(TransformerMixin):\n",
        "    \n",
        "    def __init__(self, column_name):\n",
        "        self.column_name = column_name\n",
        "    \n",
        "    def fit(self, X, y=None):\n",
        "        return self\n",
        "    \n",
        "    def transform(self, X, y=None):\n",
        "        return X[self.column_name].values"
      ],
      "execution_count": null,
      "outputs": []
    },
    {
      "cell_type": "code",
      "metadata": {
        "id": "XEuL488LUese"
      },
      "source": [
        "X_train, X_test, y_train, y_test = train_test_split(train_df[['url', 'title']], \n",
        "                                                    train_df['target'].astype(int), \n",
        "                                                    test_size=0.25, shuffle=False)"
      ],
      "execution_count": null,
      "outputs": []
    },
    {
      "cell_type": "markdown",
      "metadata": {
        "id": "MmdbRCiWUesh"
      },
      "source": [
        "Выбор n-грамм тоже осознанный: для url я посчитал, что необходимо анализировать посимвольно, так как там могут возникнуть интересные словечки, причем их длина будет лежат от 4 до 7 символов: porn, sexxx и другие возможные варианты\n",
        "\n",
        "Для title оказалось лучше всего смотреть n-граммы слов, причем я ищу либо сами слова, либо словосочетание из 2-х, что дает наибольший окрас"
      ]
    },
    {
      "cell_type": "code",
      "metadata": {
        "id": "3OeGfc7vUesi"
      },
      "source": [
        "pipeline = Pipeline([\n",
        "    (\n",
        "        'features', \n",
        "        FeatureUnion([\n",
        "            (\n",
        "                'url', \n",
        "                Pipeline([\n",
        "                    ('extractor', ColumnExtractor('url')),\n",
        "                    (\n",
        "                        'vectorizer', \n",
        "                        TfidfVectorizer(lowercase=True, ngram_range=(4, 7), analyzer='char')\n",
        "                    )\n",
        "                ])\n",
        "            ),\n",
        "            (\n",
        "                'title',\n",
        "                Pipeline([\n",
        "                    ('extractor', ColumnExtractor('title')),\n",
        "                    (\n",
        "                        'vectorizer', \n",
        "                        TfidfVectorizer(lowercase=True, ngram_range=(1, 2))\n",
        "                    )\n",
        "                ])\n",
        "            )\n",
        "        ])\n",
        "    ),\n",
        "    #('clf', LogisticRegression(random_state=42, solver='liblinear', max_iter=1000, C=10))\n",
        "    ('clf', SGDClassifier(random_state=42, loss='log', class_weight='balanced', alpha=0.000001))\n",
        "    #('clf', Perceptron(penalty='l2', random_state=42, class_weight='balanced', alpha=0.000001, tol=1e-4, ))\n",
        "])"
      ],
      "execution_count": null,
      "outputs": []
    },
    {
      "cell_type": "code",
      "metadata": {
        "id": "ngSmIljtUesl",
        "outputId": "e5e2de61-be16-4e1f-ee21-7b706846e0cf"
      },
      "source": [
        "pipeline.fit(X_train, y_train)"
      ],
      "execution_count": null,
      "outputs": [
        {
          "output_type": "execute_result",
          "data": {
            "text/plain": [
              "Pipeline(steps=[('features',\n",
              "                 FeatureUnion(transformer_list=[('url',\n",
              "                                                 Pipeline(steps=[('extractor',\n",
              "                                                                  <__main__.ColumnExtractor object at 0x1C2CE390>),\n",
              "                                                                 ('vectorizer',\n",
              "                                                                  TfidfVectorizer(analyzer='char',\n",
              "                                                                                  ngram_range=(4,\n",
              "                                                                                               7)))])),\n",
              "                                                ('title',\n",
              "                                                 Pipeline(steps=[('extractor',\n",
              "                                                                  <__main__.ColumnExtractor object at 0x1C2CE330>),\n",
              "                                                                 ('vectorizer',\n",
              "                                                                  TfidfVectorizer(ngram_range=(1,\n",
              "                                                                                               2)))]))])),\n",
              "                ('clf',\n",
              "                 SGDClassifier(alpha=1e-06, class_weight='balanced', loss='log',\n",
              "                               random_state=42))])"
            ]
          },
          "metadata": {
            "tags": []
          },
          "execution_count": 8
        }
      ]
    },
    {
      "cell_type": "code",
      "metadata": {
        "id": "PFhNleQYUesq",
        "outputId": "06ba8cb7-a86d-44d4-98a3-c7cb7548fa96"
      },
      "source": [
        "y_pred = pipeline.predict(X_train)\n",
        "f1_score(y_train, y_pred)"
      ],
      "execution_count": null,
      "outputs": [
        {
          "output_type": "execute_result",
          "data": {
            "text/plain": [
              "0.9994398655677362"
            ]
          },
          "metadata": {
            "tags": []
          },
          "execution_count": 9
        }
      ]
    },
    {
      "cell_type": "code",
      "metadata": {
        "id": "QuO2osvlUest",
        "outputId": "b8cf4ace-8bfc-491e-fc59-09fd519ba0a4"
      },
      "source": [
        "y_test_pred = pipeline.predict(X_test)\n",
        "f1_score(y_test, y_test_pred)"
      ],
      "execution_count": null,
      "outputs": [
        {
          "output_type": "execute_result",
          "data": {
            "text/plain": [
              "0.9815034384633625"
            ]
          },
          "metadata": {
            "tags": []
          },
          "execution_count": 10
        }
      ]
    },
    {
      "cell_type": "markdown",
      "metadata": {
        "id": "R0kj8FvPUesw"
      },
      "source": [
        "Я применял различные модели, однако стохастический градиентный спуск с log функцией потерь дал невероятый результат по сравнению с другими линейными моделями (да и деревьями тоже). Также он показал лучший результат даже среди ансамблей (но тут я вероятно облажался и не смог подобрать лучший классификатор). Вариант применения бустинга я вытащил в отдельный файл, там пробовал много чего, но результат всегда был хуже нежели используемый здесь выбор"
      ]
    },
    {
      "cell_type": "markdown",
      "metadata": {
        "id": "_5jePOkzUesw"
      },
      "source": [
        "Используем лучший результат для тестовой выборки"
      ]
    },
    {
      "cell_type": "code",
      "metadata": {
        "id": "QefJ96Q5Uesz",
        "outputId": "ade7a5da-6503-445f-f3dd-adfcc4cfd212"
      },
      "source": [
        "test_df = pd.read_csv(\"test.csv\")\n",
        "test_df.head()"
      ],
      "execution_count": null,
      "outputs": [
        {
          "output_type": "execute_result",
          "data": {
            "text/html": [
              "<div>\n",
              "<style scoped>\n",
              "    .dataframe tbody tr th:only-of-type {\n",
              "        vertical-align: middle;\n",
              "    }\n",
              "\n",
              "    .dataframe tbody tr th {\n",
              "        vertical-align: top;\n",
              "    }\n",
              "\n",
              "    .dataframe thead th {\n",
              "        text-align: right;\n",
              "    }\n",
              "</style>\n",
              "<table border=\"1\" class=\"dataframe\">\n",
              "  <thead>\n",
              "    <tr style=\"text-align: right;\">\n",
              "      <th></th>\n",
              "      <th>id</th>\n",
              "      <th>url</th>\n",
              "      <th>title</th>\n",
              "    </tr>\n",
              "  </thead>\n",
              "  <tbody>\n",
              "    <tr>\n",
              "      <th>0</th>\n",
              "      <td>135309</td>\n",
              "      <td>www.kommersant.ru</td>\n",
              "      <td>Шестой кассационный суд в Самаре начнет работу...</td>\n",
              "    </tr>\n",
              "    <tr>\n",
              "      <th>1</th>\n",
              "      <td>135310</td>\n",
              "      <td>urexpert.online</td>\n",
              "      <td>Что такое индексация алиментов, кем и в каких ...</td>\n",
              "    </tr>\n",
              "    <tr>\n",
              "      <th>2</th>\n",
              "      <td>135311</td>\n",
              "      <td>imperimeha.ru</td>\n",
              "      <td>Женщинам | Империя Меха - Part 12</td>\n",
              "    </tr>\n",
              "    <tr>\n",
              "      <th>3</th>\n",
              "      <td>135312</td>\n",
              "      <td>national-porn.com</td>\n",
              "      <td>Небритые, волосатые киски: Порно всех стран и ...</td>\n",
              "    </tr>\n",
              "    <tr>\n",
              "      <th>4</th>\n",
              "      <td>135313</td>\n",
              "      <td>2gis.ru</td>\n",
              "      <td>67</td>\n",
              "    </tr>\n",
              "  </tbody>\n",
              "</table>\n",
              "</div>"
            ],
            "text/plain": [
              "       id                url  \\\n",
              "0  135309  www.kommersant.ru   \n",
              "1  135310    urexpert.online   \n",
              "2  135311      imperimeha.ru   \n",
              "3  135312  national-porn.com   \n",
              "4  135313            2gis.ru   \n",
              "\n",
              "                                               title  \n",
              "0  Шестой кассационный суд в Самаре начнет работу...  \n",
              "1  Что такое индексация алиментов, кем и в каких ...  \n",
              "2                  Женщинам | Империя Меха - Part 12  \n",
              "3  Небритые, волосатые киски: Порно всех стран и ...  \n",
              "4                                                 67  "
            ]
          },
          "metadata": {
            "tags": []
          },
          "execution_count": 33
        }
      ]
    },
    {
      "cell_type": "code",
      "metadata": {
        "id": "GpenooEqUes2",
        "outputId": "fd7a2f81-02c2-44ac-d0c5-038d596bb54c"
      },
      "source": [
        "#for i in range(test_df.shape[0]):\n",
        "#    test_df.loc[i, 'url'] = prepare_url(test_df['url'][i])\n",
        "test_df.loc[:, 'url'] = test_df.url.apply(prepare_url)\n",
        "test_df.head()"
      ],
      "execution_count": null,
      "outputs": [
        {
          "output_type": "execute_result",
          "data": {
            "text/html": [
              "<div>\n",
              "<style scoped>\n",
              "    .dataframe tbody tr th:only-of-type {\n",
              "        vertical-align: middle;\n",
              "    }\n",
              "\n",
              "    .dataframe tbody tr th {\n",
              "        vertical-align: top;\n",
              "    }\n",
              "\n",
              "    .dataframe thead th {\n",
              "        text-align: right;\n",
              "    }\n",
              "</style>\n",
              "<table border=\"1\" class=\"dataframe\">\n",
              "  <thead>\n",
              "    <tr style=\"text-align: right;\">\n",
              "      <th></th>\n",
              "      <th>id</th>\n",
              "      <th>url</th>\n",
              "      <th>title</th>\n",
              "    </tr>\n",
              "  </thead>\n",
              "  <tbody>\n",
              "    <tr>\n",
              "      <th>0</th>\n",
              "      <td>135309</td>\n",
              "      <td>kommersant ru</td>\n",
              "      <td>Шестой кассационный суд в Самаре начнет работу...</td>\n",
              "    </tr>\n",
              "    <tr>\n",
              "      <th>1</th>\n",
              "      <td>135310</td>\n",
              "      <td>urexpert online</td>\n",
              "      <td>Что такое индексация алиментов, кем и в каких ...</td>\n",
              "    </tr>\n",
              "    <tr>\n",
              "      <th>2</th>\n",
              "      <td>135311</td>\n",
              "      <td>imperimeha ru</td>\n",
              "      <td>Женщинам | Империя Меха - Part 12</td>\n",
              "    </tr>\n",
              "    <tr>\n",
              "      <th>3</th>\n",
              "      <td>135312</td>\n",
              "      <td>national porn com</td>\n",
              "      <td>Небритые, волосатые киски: Порно всех стран и ...</td>\n",
              "    </tr>\n",
              "    <tr>\n",
              "      <th>4</th>\n",
              "      <td>135313</td>\n",
              "      <td>2gis ru</td>\n",
              "      <td>67</td>\n",
              "    </tr>\n",
              "  </tbody>\n",
              "</table>\n",
              "</div>"
            ],
            "text/plain": [
              "       id                url  \\\n",
              "0  135309      kommersant ru   \n",
              "1  135310    urexpert online   \n",
              "2  135311      imperimeha ru   \n",
              "3  135312  national porn com   \n",
              "4  135313            2gis ru   \n",
              "\n",
              "                                               title  \n",
              "0  Шестой кассационный суд в Самаре начнет работу...  \n",
              "1  Что такое индексация алиментов, кем и в каких ...  \n",
              "2                  Женщинам | Империя Меха - Part 12  \n",
              "3  Небритые, волосатые киски: Порно всех стран и ...  \n",
              "4                                                 67  "
            ]
          },
          "metadata": {
            "tags": []
          },
          "execution_count": 34
        }
      ]
    },
    {
      "cell_type": "code",
      "metadata": {
        "id": "lYOXQWxeUes5"
      },
      "source": [
        "X_test = test_df[[\"url\", \"title\"]]"
      ],
      "execution_count": null,
      "outputs": []
    },
    {
      "cell_type": "code",
      "metadata": {
        "id": "U3h1z3lnUes7"
      },
      "source": [
        "test_df[\"target\"] = pipeline.predict(X_test).astype(bool)\n",
        "\n",
        "test_df[[\"id\", \"target\"]].to_csv(\"ml_baseline_ver5.csv\", index=False)"
      ],
      "execution_count": null,
      "outputs": []
    },
    {
      "cell_type": "code",
      "metadata": {
        "id": "5sLCHDdEUes-",
        "outputId": "485038fc-4cc2-4c27-fa7e-f90a21289860"
      },
      "source": [
        "!cat ml_baseline.csv | head"
      ],
      "execution_count": null,
      "outputs": [
        {
          "output_type": "stream",
          "text": [
            "id,target"
          ],
          "name": "stdout"
        },
        {
          "output_type": "stream",
          "text": [
            "cat: write error: No space left on device\n"
          ],
          "name": "stderr"
        },
        {
          "output_type": "stream",
          "text": [
            "\n",
            "135309,False\n",
            "135310,False\n",
            "135311,False\n",
            "135312,True\n",
            "135313,False\n",
            "135314,False\n",
            "135315,False\n",
            "135316,False\n",
            "135317,False\n"
          ],
          "name": "stdout"
        }
      ]
    },
    {
      "cell_type": "code",
      "metadata": {
        "id": "mFdU16zhUetB"
      },
      "source": [
        ""
      ],
      "execution_count": null,
      "outputs": []
    }
  ]
}